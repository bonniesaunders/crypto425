{
 "metadata": {
  "name": "",
  "signature": "sha256:65db06470e3a1dd957360fbffb81aee9192f04c0a990a361633b9403959665da"
 },
 "nbformat": 3,
 "nbformat_minor": 0,
 "worksheets": [
  {
   "cells": [
    {
     "cell_type": "heading",
     "level": 6,
     "metadata": {},
     "source": [
      "Power Ciphers"
     ]
    },
    {
     "cell_type": "code",
     "collapsed": false,
     "input": [
      "from ciphers425 import *"
     ],
     "language": "python",
     "metadata": {},
     "outputs": [],
     "prompt_number": 2
    },
    {
     "cell_type": "code",
     "collapsed": false,
     "input": [
      "A = '0123456789ABCDEFGHIJKLMNOPQRSTUVWXYZ?'"
     ],
     "language": "python",
     "metadata": {},
     "outputs": [],
     "prompt_number": 3
    },
    {
     "cell_type": "code",
     "collapsed": false,
     "input": [
      "message = Message('HELLOWORLD?',A)"
     ],
     "language": "python",
     "metadata": {},
     "outputs": [],
     "prompt_number": 56
    },
    {
     "cell_type": "code",
     "collapsed": false,
     "input": [
      "key = 17 |mod| 36"
     ],
     "language": "python",
     "metadata": {},
     "outputs": [],
     "prompt_number": 57
    },
    {
     "cell_type": "code",
     "collapsed": false,
     "input": [
      "enc_message = Message('',message.alphabet)\n",
      "for char in message:\n",
      "    num = message.alphabet.index(char) |mod| 37\n",
      "    enc_message += message.alphabet[(num**key).lift()]\n"
     ],
     "language": "python",
     "metadata": {},
     "outputs": [],
     "prompt_number": 58
    },
    {
     "cell_type": "code",
     "collapsed": false,
     "input": [
      "enc_message"
     ],
     "language": "python",
     "metadata": {},
     "outputs": [
      {
       "metadata": {},
       "output_type": "pyout",
       "prompt_number": 59,
       "text": [
        "*DTUUKFKBUH?*"
       ]
      }
     ],
     "prompt_number": 59
    },
    {
     "cell_type": "code",
     "collapsed": false,
     "input": [
      "key = key**(-1)"
     ],
     "language": "python",
     "metadata": {},
     "outputs": [],
     "prompt_number": 60
    },
    {
     "cell_type": "code",
     "collapsed": false,
     "input": [
      "message = enc_message"
     ],
     "language": "python",
     "metadata": {},
     "outputs": [],
     "prompt_number": 61
    },
    {
     "cell_type": "code",
     "collapsed": false,
     "input": [
      "message"
     ],
     "language": "python",
     "metadata": {},
     "outputs": [
      {
       "metadata": {},
       "output_type": "pyout",
       "prompt_number": 62,
       "text": [
        "*DTUUKFKBUH?*"
       ]
      }
     ],
     "prompt_number": 62
    },
    {
     "cell_type": "code",
     "collapsed": false,
     "input": [
      "enc_message = Message('',message.alphabet)\n",
      "for char in message:\n",
      "    num = message.alphabet.index(char) |mod| 37\n",
      "    enc_message += message.alphabet[(num**key).lift()]\n"
     ],
     "language": "python",
     "metadata": {},
     "outputs": [],
     "prompt_number": 63
    },
    {
     "cell_type": "code",
     "collapsed": false,
     "input": [
      "enc_message"
     ],
     "language": "python",
     "metadata": {},
     "outputs": [
      {
       "metadata": {},
       "output_type": "pyout",
       "prompt_number": 64,
       "text": [
        "*HELLOWORLD?*"
       ]
      }
     ],
     "prompt_number": 64
    },
    {
     "cell_type": "heading",
     "level": 6,
     "metadata": {},
     "source": [
      "3-Pass Protocal"
     ]
    },
    {
     "cell_type": "markdown",
     "metadata": {},
     "source": [
      "1 -- Alice and Bob want to agree on a Key.  Alice thinks of the Key which is just a large number.  She thinks of a prime number that is larger than Key. She publishes Key on the internet so Bob can find out what it is."
     ]
    },
    {
     "cell_type": "code",
     "collapsed": false,
     "input": [
      "from cypari.gen import pari as pari"
     ],
     "language": "python",
     "metadata": {},
     "outputs": [],
     "prompt_number": 11
    },
    {
     "cell_type": "code",
     "collapsed": false,
     "input": [
      "p = pari(487546203464).nextprime()"
     ],
     "language": "python",
     "metadata": {},
     "outputs": [],
     "prompt_number": 12
    },
    {
     "cell_type": "code",
     "collapsed": false,
     "input": [
      "p"
     ],
     "language": "python",
     "metadata": {},
     "outputs": [
      {
       "metadata": {},
       "output_type": "pyout",
       "prompt_number": 13,
       "text": [
        "487546203511"
       ]
      }
     ],
     "prompt_number": 13
    },
    {
     "cell_type": "code",
     "collapsed": false,
     "input": [
      "p.factor()"
     ],
     "language": "python",
     "metadata": {},
     "outputs": [
      {
       "metadata": {},
       "output_type": "pyout",
       "prompt_number": 14,
       "text": [
        "Mat([487546203511, 1])"
       ]
      }
     ],
     "prompt_number": 14
    },
    {
     "cell_type": "code",
     "collapsed": false,
     "input": [
      "Key = 110111001"
     ],
     "language": "python",
     "metadata": {},
     "outputs": [],
     "prompt_number": 15
    },
    {
     "cell_type": "code",
     "collapsed": false,
     "input": [
      "alpha = 17 |mod| (p-1)"
     ],
     "language": "python",
     "metadata": {},
     "outputs": [],
     "prompt_number": 17
    },
    {
     "cell_type": "code",
     "collapsed": false,
     "input": [
      "(p-1).factor()"
     ],
     "language": "python",
     "metadata": {},
     "outputs": [
      {
       "metadata": {},
       "output_type": "pyout",
       "prompt_number": 18,
       "text": [
        "[2, 1; 3, 2; 5, 1; 547, 1; 751, 1; 13187, 1]"
       ]
      }
     ],
     "prompt_number": 18
    },
    {
     "cell_type": "markdown",
     "metadata": {},
     "source": [
      "2 -- Alice thinks of an exponent, $alpha\\!\\!\\!\\mod{p-1}$, some number relatively prime to $p-1$.  She computes and sends Bob, $K1 = Key^{alpha}.$\n",
      "\n",
      "> Alice's secrets: Key and alpha. Public information: $p$, $K1$ "
     ]
    },
    {
     "cell_type": "code",
     "collapsed": false,
     "input": [
      "Key = Key |mod| p"
     ],
     "language": "python",
     "metadata": {},
     "outputs": [],
     "prompt_number": 19
    },
    {
     "cell_type": "code",
     "collapsed": false,
     "input": [
      "K1 = Key**alpha"
     ],
     "language": "python",
     "metadata": {},
     "outputs": [],
     "prompt_number": 21
    },
    {
     "cell_type": "code",
     "collapsed": false,
     "input": [
      "K1"
     ],
     "language": "python",
     "metadata": {},
     "outputs": [
      {
       "metadata": {},
       "output_type": "pyout",
       "prompt_number": 22,
       "text": [
        "(289295769850 mod 487546203511)"
       ]
      }
     ],
     "prompt_number": 22
    },
    {
     "cell_type": "markdown",
     "metadata": {},
     "source": [
      "Meanwhile, Bob thinks of another exponent, $beta\\!\\!\\!\\mod{p-1}$, some number relatively prime to p-1.  He computes and sends back to Alice $K2 = K1^{beta} = Key^{alpha\\cdot beta} = Key^{beta\\cdot alpha}$\n",
      "\n",
      ">Bob's secret: $beta$. Public information: $K2$"
     ]
    },
    {
     "cell_type": "code",
     "collapsed": false,
     "input": [
      "beta = 47 |mod| (p-1)"
     ],
     "language": "python",
     "metadata": {},
     "outputs": [],
     "prompt_number": 23
    },
    {
     "cell_type": "code",
     "collapsed": false,
     "input": [
      "K2 = K1**beta"
     ],
     "language": "python",
     "metadata": {},
     "outputs": [],
     "prompt_number": 24
    },
    {
     "cell_type": "code",
     "collapsed": false,
     "input": [
      "K2"
     ],
     "language": "python",
     "metadata": {},
     "outputs": [
      {
       "metadata": {},
       "output_type": "pyout",
       "prompt_number": 25,
       "text": [
        "(436734652668 mod 487546203511)"
       ]
      }
     ],
     "prompt_number": 25
    },
    {
     "cell_type": "markdown",
     "metadata": {},
     "source": [
      "Alice sends back $K3 = K2^{alphaInverse\\!\\!\\!\\mod(p-1)} = Key^{beta}.$\n",
      "\n",
      ">Public information: $K3$"
     ]
    },
    {
     "cell_type": "code",
     "collapsed": false,
     "input": [
      "K3=K2**(alpha**-1)"
     ],
     "language": "python",
     "metadata": {},
     "outputs": [],
     "prompt_number": 26
    },
    {
     "cell_type": "code",
     "collapsed": false,
     "input": [
      "K3"
     ],
     "language": "python",
     "metadata": {},
     "outputs": [
      {
       "metadata": {},
       "output_type": "pyout",
       "prompt_number": 27,
       "text": [
        "(232372958934 mod 487546203511)"
       ]
      }
     ],
     "prompt_number": 27
    },
    {
     "cell_type": "markdown",
     "metadata": {},
     "source": [
      "Bob computes $K3^{betaInverse\\!\\!\\!\\mod(p-1)} = Key$\n",
      "\n",
      ">Alice and Bob's shared secret is Key"
     ]
    },
    {
     "cell_type": "code",
     "collapsed": false,
     "input": [
      "K3**(beta**(-1))"
     ],
     "language": "python",
     "metadata": {},
     "outputs": [
      {
       "metadata": {},
       "output_type": "pyout",
       "prompt_number": 28,
       "text": [
        "(110111001 mod 487546203511)"
       ]
      }
     ],
     "prompt_number": 28
    },
    {
     "cell_type": "markdown",
     "metadata": {},
     "source": [
      "How might Eve find Key from the data that is going back and forth?"
     ]
    },
    {
     "cell_type": "code",
     "collapsed": false,
     "input": [],
     "language": "python",
     "metadata": {},
     "outputs": []
    },
    {
     "cell_type": "code",
     "collapsed": false,
     "input": [],
     "language": "python",
     "metadata": {},
     "outputs": []
    }
   ],
   "metadata": {}
  }
 ]
}