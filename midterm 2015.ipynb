{
 "metadata": {
  "name": "",
  "signature": "sha256:111cda32bffcc4c0fdb93473e1fdc5ab6be33f2254de8578c0a54e03bcea4bf6"
 },
 "nbformat": 3,
 "nbformat_minor": 0,
 "worksheets": [
  {
   "cells": [
    {
     "cell_type": "markdown",
     "metadata": {},
     "source": [
      "\\textsf {0123456789ABCDEFGHIJKLMNOPQRSTUVWXYZ?.!}\n",
      "\\textsf{'VG9SHR12OKTR04Z'}\n",
      "\\textsf{*1!AD?L8ANQ9*}. \n",
      "\\textsf{UZWWZV-YV!!0R1}.\n",
      "\\textsf{.EH!1F!4A151E.EH!1F!4A151E.EH!1F!4A151E.EH!1F!4A151E.EH!1F!4A151E}\n",
      "\\textsf{*R1.8Z7X5S3C24I8WYD7OJEI93V6.*}\n",
      "$\\md 8745437489$.\n",
      "$n = 3361459733$\n",
      "$771135716$\n",
      "$734163659$ and $87456497$\n",
      "$(p,\\alpha,\\beta) = (8746532591, 11, 8399609881)$. \n",
      "$(r,t) = (6751923153, 4456994471)$. "
     ]
    },
    {
     "cell_type": "markdown",
     "metadata": {},
     "source": [
      "I.1"
     ]
    },
    {
     "cell_type": "code",
     "collapsed": false,
     "input": [
      "from ciphers425 import *\n",
      "from cypari.gen import pari"
     ],
     "language": "python",
     "metadata": {},
     "outputs": [],
     "prompt_number": 3
    },
    {
     "cell_type": "code",
     "collapsed": false,
     "input": [
      "alphabet = '0123456789ABCDEFGHIJKLMNOPQRSTUVWXYZ?.!'\n",
      "len(alphabet)\n",
      "numbers = [ (char,alphabet.index(char)) for char in alphabet ]"
     ],
     "language": "python",
     "metadata": {},
     "outputs": [],
     "prompt_number": 12
    },
    {
     "cell_type": "code",
     "collapsed": false,
     "input": [
      "numbers"
     ],
     "language": "python",
     "metadata": {},
     "outputs": [
      {
       "metadata": {},
       "output_type": "pyout",
       "prompt_number": 13,
       "text": [
        "[('0', 0),\n",
        " ('1', 1),\n",
        " ('2', 2),\n",
        " ('3', 3),\n",
        " ('4', 4),\n",
        " ('5', 5),\n",
        " ('6', 6),\n",
        " ('7', 7),\n",
        " ('8', 8),\n",
        " ('9', 9),\n",
        " ('A', 10),\n",
        " ('B', 11),\n",
        " ('C', 12),\n",
        " ('D', 13),\n",
        " ('E', 14),\n",
        " ('F', 15),\n",
        " ('G', 16),\n",
        " ('H', 17),\n",
        " ('I', 18),\n",
        " ('J', 19),\n",
        " ('K', 20),\n",
        " ('L', 21),\n",
        " ('M', 22),\n",
        " ('N', 23),\n",
        " ('O', 24),\n",
        " ('P', 25),\n",
        " ('Q', 26),\n",
        " ('R', 27),\n",
        " ('S', 28),\n",
        " ('T', 29),\n",
        " ('U', 30),\n",
        " ('V', 31),\n",
        " ('W', 32),\n",
        " ('X', 33),\n",
        " ('Y', 34),\n",
        " ('Z', 35),\n",
        " ('?', 36),\n",
        " ('.', 37),\n",
        " ('!', 38)]"
       ]
      }
     ],
     "prompt_number": 13
    },
    {
     "cell_type": "code",
     "collapsed": false,
     "input": [
      "message1 = Message('VG9SHR12OKTR04Z',alphabet)\n",
      "C = Caesar(38)\n",
      "C.decrypt(message1)"
     ],
     "language": "python",
     "metadata": {},
     "outputs": [
      {
       "metadata": {},
       "output_type": "pyout",
       "prompt_number": 5,
       "text": [
        "*WHATIS23PLUS15?*"
       ]
      }
     ],
     "prompt_number": 5
    },
    {
     "cell_type": "markdown",
     "metadata": {},
     "source": [
      "I.2."
     ]
    },
    {
     "cell_type": "heading",
     "level": 3,
     "metadata": {},
     "source": [
      "message2 = Message('1!AD?L8ANQ9',alphabet)\n",
      "y = message2.to_integers()[:3]\n",
      "x = Message('MCS',alphabet).to_integers()[:3]\n",
      "x,y"
     ]
    },
    {
     "cell_type": "code",
     "collapsed": false,
     "input": [
      "x,y"
     ],
     "language": "python",
     "metadata": {},
     "outputs": [
      {
       "metadata": {},
       "output_type": "pyout",
       "prompt_number": 7,
       "text": [
        "([22, 12, 28], [1, 38, 10])"
       ]
      }
     ],
     "prompt_number": 7
    },
    {
     "cell_type": "markdown",
     "metadata": {},
     "source": [
      "Solve:\n",
      "\n",
      "$22*m + b \\equiv 1 \\,mod\\, 39$\n",
      "\n",
      "$12*m + b \\equiv 38 \\,mod\\, 39$"
     ]
    },
    {
     "cell_type": "code",
     "collapsed": false,
     "input": [
      "M = [[22,1],[12,1]] |mod| 39\n",
      "V = [1,38] |mod| 39\n",
      "key = M**-1 * V.transpose()\n",
      "key\n"
     ],
     "language": "python",
     "metadata": {},
     "outputs": [
      {
       "metadata": {},
       "output_type": "pyout",
       "prompt_number": 22,
       "text": [
        "[  8 ]\n",
        "[ 20 ] mod 39 "
       ]
      }
     ],
     "prompt_number": 22
    },
    {
     "cell_type": "code",
     "collapsed": false,
     "input": [
      "-key[1]*(5|mod|39)"
     ],
     "language": "python",
     "metadata": {},
     "outputs": [
      {
       "metadata": {},
       "output_type": "pyout",
       "prompt_number": 23,
       "text": [
        "[17] mod 39"
       ]
      }
     ],
     "prompt_number": 23
    },
    {
     "cell_type": "code",
     "collapsed": false,
     "input": [
      "A = AffineCipher(8,20)"
     ],
     "language": "python",
     "metadata": {},
     "outputs": [],
     "prompt_number": 8
    },
    {
     "cell_type": "code",
     "collapsed": false,
     "input": [
      "A.decrypt(message2)\n"
     ],
     "language": "python",
     "metadata": {},
     "outputs": [
      {
       "metadata": {},
       "output_type": "pyout",
       "prompt_number": 9,
       "text": [
        "*MCS425ISFUN*"
       ]
      }
     ],
     "prompt_number": 9
    },
    {
     "cell_type": "markdown",
     "metadata": {},
     "source": [
      "I.3."
     ]
    },
    {
     "cell_type": "code",
     "collapsed": false,
     "input": [
      "message3 = Message('.EH!1F!4A151E',alphabet)\n",
      "for KEY in range(39):\n",
      "    print KEY, Caesar(KEY).decrypt(message3)"
     ],
     "language": "python",
     "metadata": {},
     "outputs": [
      {
       "output_type": "stream",
       "stream": "stdout",
       "text": [
        "0 .EH!1F!4A151E\n",
        "1 ?DG.0E.39040D\n",
        "2 ZCF?!D?28!3!C\n",
        "3 YBEZ.CZ17.2.B\n",
        "4 XADY?BY06?1?A\n",
        "5 W9CXZAX!5Z0Z9\n",
        "6 V8BWY9W.4Y!Y8\n",
        "7 U7AVX8V?3X.X7\n",
        "8 T69UW7UZ2W?W6\n",
        "9 S58TV6TY1VZV5\n",
        "10 R47SU5SX0UYU4\n",
        "11 Q36RT4RW!TXT3\n",
        "12 P25QS3QV.SWS2\n",
        "13 O14PR2PU?RVR1\n",
        "14 N03OQ1OTZQUQ0\n",
        "15 M!2NP0NSYPTP!\n",
        "16 L.1MO!MRXOSO.\n",
        "17 K?0LN.LQWNRN?\n",
        "18 JZ!KM?KPVMQMZ\n",
        "19 IY.JLZJOULPLY\n",
        "20 HX?IKYINTKOKX\n",
        "21 GWZHJXHMSJNJW\n",
        "22 FVYGIWGLRIMIV\n",
        "23 EUXFHVFKQHLHU\n",
        "24 DTWEGUEJPGKGT\n",
        "25 CSVDFTDIOFJFS\n",
        "26 BRUCESCHNEIER\n",
        "27 AQTBDRBGMDHDQ\n",
        "28 9PSACQAFLCGCP\n",
        "29 8OR9BP9EKBFBO\n",
        "30 7NQ8AO8DJAEAN\n",
        "31 6MP79N7CI9D9M\n",
        "32 5LO68M6BH8C8L\n",
        "33 4KN57L5AG7B7K\n",
        "34 3JM46K49F6A6J\n",
        "35 2IL35J38E595I\n",
        "36 1HK24I27D484H\n",
        "37 0GJ13H16C373G\n",
        "38 !FI02G05B262F\n"
       ]
      }
     ],
     "prompt_number": 39
    },
    {
     "cell_type": "markdown",
     "metadata": {},
     "source": [
      "The key word is BRUCESCHNEIER.  It looks like they might be encrypting a message that is a constant character.  However much that character is shifted needs to spell out something.  In fact the message would be repeated 'Q's "
     ]
    },
    {
     "cell_type": "code",
     "collapsed": false,
     "input": [
      "alphabet[26]"
     ],
     "language": "python",
     "metadata": {},
     "outputs": [
      {
       "metadata": {},
       "output_type": "pyout",
       "prompt_number": 40,
       "text": [
        "'Q'"
       ]
      }
     ],
     "prompt_number": 40
    },
    {
     "cell_type": "markdown",
     "metadata": {},
     "source": [
      "I.4."
     ]
    },
    {
     "cell_type": "code",
     "collapsed": false,
     "input": [
      "message4 = Message('R1.8Z7X5S3C24I8WYD7OJEI93V6.',alphabet)\n",
      "output = message4.to_integers()[:4] |mod| 39\n",
      "input = Message('DEAR',alphabet).to_integers()[:4] |mod| 39"
     ],
     "language": "python",
     "metadata": {},
     "outputs": [],
     "prompt_number": 42
    },
    {
     "cell_type": "code",
     "collapsed": false,
     "input": [
      "input, output"
     ],
     "language": "python",
     "metadata": {},
     "outputs": [
      {
       "metadata": {},
       "output_type": "pyout",
       "prompt_number": 43,
       "text": [
        "([13, 14, 10, 27] mod 39, [27, 1, 37, 8] mod 39)"
       ]
      }
     ],
     "prompt_number": 43
    },
    {
     "cell_type": "code",
     "collapsed": false,
     "input": [
      "I = [[13, 14], [10, 27] ] |mod| 39\n",
      "O =[[27, 1], [37, 8] ] |mod| 39\n",
      "M = I**-1 * O"
     ],
     "language": "python",
     "metadata": {},
     "outputs": [],
     "prompt_number": 26
    },
    {
     "cell_type": "code",
     "collapsed": false,
     "input": [
      "M"
     ],
     "language": "python",
     "metadata": {},
     "outputs": [
      {
       "metadata": {},
       "output_type": "pyout",
       "prompt_number": 27,
       "text": [
        "[  1  2 ]\n",
        "[  1  1 ] mod 39 "
       ]
      }
     ],
     "prompt_number": 27
    },
    {
     "cell_type": "code",
     "collapsed": false,
     "input": [
      "H = HillCipher(M)\n",
      "H.decrypt(message4)"
     ],
     "language": "python",
     "metadata": {},
     "outputs": [
      {
       "metadata": {},
       "output_type": "pyout",
       "prompt_number": 46,
       "text": [
        "*DEARBOBMEETMETONIGHTYOURSEVE*"
       ]
      }
     ],
     "prompt_number": 46
    },
    {
     "cell_type": "markdown",
     "metadata": {},
     "source": [
      "II. Number Theory"
     ]
    },
    {
     "cell_type": "markdown",
     "metadata": {},
     "source": [
      "$27x + 17y = 1$\n",
      "\n",
      "$27\\cdot 1 + 17\\cdot 0 = 27$\n",
      "\n",
      "$27\\cdot 0 + 17\\cdot 1 = 17$ . . . $27 - 1\\cdot 17 = 10$\n",
      "\n",
      "$27\\cdot 1 + 17\\cdot -1 = 10$ . . . $17 - 1\\cdot 10 = 7$\n",
      "\n",
      "$27\\cdot -1 + 17\\cdot 2 = 7$ . . . $10 - 1\\cdot 7 = 3$\n",
      "\n",
      "$27\\cdot 2 + 17\\cdot -3 = 3$ . . . $7 - 2\\cdot 3 = 1$\n",
      "\n",
      "$27\\cdot -5 + 17\\cdot 8 = 1$ . . . $x = -5$, $y = 8$"
     ]
    },
    {
     "cell_type": "code",
     "collapsed": false,
     "input": [
      "27*-5+17*8"
     ],
     "language": "python",
     "metadata": {},
     "outputs": [
      {
       "metadata": {},
       "output_type": "pyout",
       "prompt_number": 1,
       "text": [
        "1"
       ]
      }
     ],
     "prompt_number": 1
    },
    {
     "cell_type": "markdown",
     "metadata": {},
     "source": [
      "II.3.\n",
      "\n",
      "Solve: $16\\cdot x \\equiv 1\\,\\mod\\,39$\n",
      "\n",
      "OR $16\\cdot x = 1 + 39\\cdot y$\n",
      "\n",
      "$16\\cdot x -  39\\cdot y = 1$\n",
      "\n",
      "$16\\cdot 0 -  39\\cdot -1 = 39$\n",
      "\n",
      "$16\\cdot 1 -  39\\cdot 0 = 16$ . . . . . . $39 - 2\\cdot 16 = 7$\n",
      "\n",
      "$16\\cdot -2 -  39\\cdot -1 = 7$ . . . . . . $16 - 2\\cdot 7 = 2$\n",
      "\n",
      "$16\\cdot 5 -  39\\cdot 2 = 2$ . . . . . . $7 - 3\\cdot 2 = 1$\n",
      "\n",
      "$16\\cdot -17 -  39\\cdot -7 = 1$ . . . . . . the inverse is $x = -17 \\equiv 22\\,mod\\,p$\n",
      "\n"
     ]
    },
    {
     "cell_type": "code",
     "collapsed": false,
     "input": [
      "(16*22)%39"
     ],
     "language": "python",
     "metadata": {},
     "outputs": [
      {
       "metadata": {},
       "output_type": "pyout",
       "prompt_number": 2,
       "text": [
        "1"
       ]
      }
     ],
     "prompt_number": 2
    },
    {
     "cell_type": "markdown",
     "metadata": {},
     "source": [
      "II.4.\n",
      "\n",
      "Find $z\\,mod\\,85$ such that $z \\equiv 4\\,mod\\,5$ and $z \\equiv 3 \\,mod\\, 17$\n",
      "\n",
      "$z = 4 + 5 \\cdot N = 3 + 17 \\cdot M $\n",
      "\n",
      "solve:\n",
      "\n",
      "$17 \\cdot M - 5 \\cdot N = 1$\n",
      "\n",
      "$17 \\cdot 1 - 5 \\cdot 0 = 17$\n",
      "\n",
      "$17 \\cdot 0 - 5 \\cdot -1 = 5$ . . . . . . . $17 - 3\\cdot 5 = 2$\n",
      "\n",
      "$17 \\cdot 1 - 5 \\cdot 3 = 2$ . . . . . . . $5 - 2\\cdot 2 = 1$\n",
      "\n",
      "$17 \\cdot -2 - 5 \\cdot -7 = 1$ . . . . . . . $z = 4 + 5\\cdot(-7) = 3 + 17\\cdot(-2) = -31 \\equiv (85-31) = 54\\,mod\\,85$\n",
      "\n"
     ]
    },
    {
     "cell_type": "code",
     "collapsed": false,
     "input": [
      "from matmod import *\n",
      "chinese(4|mod|5,3|mod|17)"
     ],
     "language": "python",
     "metadata": {},
     "outputs": [
      {
       "metadata": {},
       "output_type": "pyout",
       "prompt_number": 5,
       "text": [
        "(54 mod 85)"
       ]
      }
     ],
     "prompt_number": 5
    },
    {
     "cell_type": "code",
     "collapsed": false,
     "input": [
      "II5."
     ],
     "language": "python",
     "metadata": {},
     "outputs": []
    },
    {
     "cell_type": "code",
     "collapsed": false,
     "input": [
      "from matmod import *"
     ],
     "language": "python",
     "metadata": {},
     "outputs": [],
     "prompt_number": 3
    },
    {
     "cell_type": "code",
     "collapsed": false,
     "input": [
      "def CRT(a,b):\n",
      "    #assume n > m\n",
      "    n,m = a.mod(),b.mod()\n",
      "    x,y = a.lift(),b.lift()\n",
      "    while not ( x == y):\n",
      "        x = x + n\n",
      "        while ( y < x):\n",
      "            y = y + m\n",
      "            print x, y\n",
      "    return x"
     ],
     "language": "python",
     "metadata": {},
     "outputs": [],
     "prompt_number": 5
    },
    {
     "cell_type": "code",
     "collapsed": false,
     "input": [
      "a = 3 |mod| 17\n",
      "b = 4 |mod| 5\n",
      "CRT(a,b)"
     ],
     "language": "python",
     "metadata": {},
     "outputs": [
      {
       "output_type": "stream",
       "stream": "stdout",
       "text": [
        "20 9\n",
        "20 14\n",
        "20 19\n",
        "20 24\n",
        "37 29\n",
        "37 34\n",
        "37 39\n",
        "54 44\n",
        "54 49\n",
        "54 54\n"
       ]
      },
      {
       "metadata": {},
       "output_type": "pyout",
       "prompt_number": 6,
       "text": [
        "54"
       ]
      }
     ],
     "prompt_number": 6
    },
    {
     "cell_type": "markdown",
     "metadata": {},
     "source": [
      "II.6."
     ]
    },
    {
     "cell_type": "code",
     "collapsed": false,
     "input": [
      "M = [ [151,24],[31,41]] |mod| None"
     ],
     "language": "python",
     "metadata": {},
     "outputs": [],
     "prompt_number": 9
    },
    {
     "cell_type": "code",
     "collapsed": false,
     "input": [
      "M.det()"
     ],
     "language": "python",
     "metadata": {},
     "outputs": [
      {
       "metadata": {},
       "output_type": "pyout",
       "prompt_number": 10,
       "text": [
        "5447"
       ]
      }
     ],
     "prompt_number": 10
    },
    {
     "cell_type": "code",
     "collapsed": false,
     "input": [
      "pari(5447).factor()"
     ],
     "language": "python",
     "metadata": {},
     "outputs": [
      {
       "metadata": {},
       "output_type": "pyout",
       "prompt_number": 13,
       "text": [
        "[13, 1; 419, 1]"
       ]
      }
     ],
     "prompt_number": 13
    },
    {
     "cell_type": "code",
     "collapsed": false,
     "input": [
      "M = M |mod| 25"
     ],
     "language": "python",
     "metadata": {},
     "outputs": [],
     "prompt_number": 14
    },
    {
     "cell_type": "code",
     "collapsed": false,
     "input": [
      "Inverse = M**-1"
     ],
     "language": "python",
     "metadata": {},
     "outputs": [],
     "prompt_number": 16
    },
    {
     "cell_type": "code",
     "collapsed": false,
     "input": [
      "Inverse*M"
     ],
     "language": "python",
     "metadata": {},
     "outputs": [
      {
       "metadata": {},
       "output_type": "pyout",
       "prompt_number": 17,
       "text": [
        "[  1  0 ]\n",
        "[  0  1 ] mod 25 "
       ]
      }
     ],
     "prompt_number": 17
    },
    {
     "cell_type": "code",
     "collapsed": false,
     "input": [
      "Inverse"
     ],
     "language": "python",
     "metadata": {},
     "outputs": [
      {
       "metadata": {},
       "output_type": "pyout",
       "prompt_number": 18,
       "text": [
        "[  3  8 ]\n",
        "[  2  8 ] mod 25 "
       ]
      }
     ],
     "prompt_number": 18
    },
    {
     "cell_type": "markdown",
     "metadata": {},
     "source": [
      "III.1."
     ]
    },
    {
     "cell_type": "code",
     "collapsed": false,
     "input": [
      "p = pari(8745437489)\n",
      "p.isprime()"
     ],
     "language": "python",
     "metadata": {},
     "outputs": [
      {
       "metadata": {},
       "output_type": "pyout",
       "prompt_number": 4,
       "text": [
        "True"
       ]
      }
     ],
     "prompt_number": 4
    },
    {
     "cell_type": "code",
     "collapsed": false,
     "input": [
      "phi = p-1"
     ],
     "language": "python",
     "metadata": {},
     "outputs": [],
     "prompt_number": 5
    },
    {
     "cell_type": "code",
     "collapsed": false,
     "input": [
      "phi, phi.factor()"
     ],
     "language": "python",
     "metadata": {},
     "outputs": [
      {
       "metadata": {},
       "output_type": "pyout",
       "prompt_number": 6,
       "text": [
        "(8745437488, [2, 4; 546589843, 1])"
       ]
      }
     ],
     "prompt_number": 6
    },
    {
     "cell_type": "code",
     "collapsed": false,
     "input": [
      "alpha = 7 |mod| p\n",
      "alpha**((p-1)/2)"
     ],
     "language": "python",
     "metadata": {},
     "outputs": [
      {
       "metadata": {},
       "output_type": "pyout",
       "prompt_number": 7,
       "text": [
        "(8745437488 mod 8745437489)"
       ]
      }
     ],
     "prompt_number": 7
    },
    {
     "cell_type": "code",
     "collapsed": false,
     "input": [
      "alpha**16"
     ],
     "language": "python",
     "metadata": {},
     "outputs": [
      {
       "metadata": {},
       "output_type": "pyout",
       "prompt_number": 23,
       "text": [
        "(268111401 mod 8745437489)"
       ]
      }
     ],
     "prompt_number": 23
    },
    {
     "cell_type": "code",
     "collapsed": false,
     "input": [
      "for k in range(10):\n",
      "    if (k |mod| p)**((p-1)/2) == 1|mod|p: print k"
     ],
     "language": "python",
     "metadata": {},
     "outputs": [
      {
       "output_type": "stream",
       "stream": "stdout",
       "text": [
        "1\n",
        "2\n",
        "4\n",
        "5\n",
        "8\n",
        "9\n"
       ]
      }
     ],
     "prompt_number": 11
    },
    {
     "cell_type": "code",
     "collapsed": false,
     "input": [
      "(57|mod|p)**(phi/2)"
     ],
     "language": "python",
     "metadata": {},
     "outputs": [
      {
       "metadata": {},
       "output_type": "pyout",
       "prompt_number": 10,
       "text": [
        "(1 mod 8745437489)"
       ]
      }
     ],
     "prompt_number": 10
    },
    {
     "cell_type": "heading",
     "level": 2,
     "metadata": {},
     "source": [
      "III.4."
     ]
    },
    {
     "cell_type": "code",
     "collapsed": false,
     "input": [
      "n = pari(13289)\n",
      "factor1 = n.gcd(6109-2136)\n",
      "factor2 = n.gcd(6109+2136)"
     ],
     "language": "python",
     "metadata": {},
     "outputs": [],
     "prompt_number": 12
    },
    {
     "cell_type": "code",
     "collapsed": false,
     "input": [
      "factor1, factor2"
     ],
     "language": "python",
     "metadata": {},
     "outputs": [
      {
       "metadata": {},
       "output_type": "pyout",
       "prompt_number": 13,
       "text": [
        "(137, 97)"
       ]
      }
     ],
     "prompt_number": 13
    },
    {
     "cell_type": "code",
     "collapsed": false,
     "input": [
      "n.factor()"
     ],
     "language": "python",
     "metadata": {},
     "outputs": [
      {
       "metadata": {},
       "output_type": "pyout",
       "prompt_number": 14,
       "text": [
        "[97, 1; 137, 1]"
       ]
      }
     ],
     "prompt_number": 14
    },
    {
     "cell_type": "code",
     "collapsed": false,
     "input": [
      "n = pari(2369)\n",
      "n.factor()"
     ],
     "language": "python",
     "metadata": {},
     "outputs": [
      {
       "metadata": {},
       "output_type": "pyout",
       "prompt_number": 15,
       "text": [
        "[23, 1; 103, 1]"
       ]
      }
     ],
     "prompt_number": 15
    },
    {
     "cell_type": "code",
     "collapsed": false,
     "input": [
      "sqr1 = 903 |mod| 23\n",
      "sqr2 = 903 |mod| 103\n",
      "sqr1,sqr2"
     ],
     "language": "python",
     "metadata": {},
     "outputs": [
      {
       "metadata": {},
       "output_type": "pyout",
       "prompt_number": 16,
       "text": [
        "((6 mod 23), (79 mod 103))"
       ]
      }
     ],
     "prompt_number": 16
    },
    {
     "cell_type": "code",
     "collapsed": false,
     "input": [
      "a1 = sqr1**(6)\n",
      "a1**2"
     ],
     "language": "python",
     "metadata": {},
     "outputs": [
      {
       "metadata": {},
       "output_type": "pyout",
       "prompt_number": 17,
       "text": [
        "(6 mod 23)"
       ]
      }
     ],
     "prompt_number": 17
    },
    {
     "cell_type": "code",
     "collapsed": false,
     "input": [
      "b1 = sqr2**26\n",
      "b1**2"
     ],
     "language": "python",
     "metadata": {},
     "outputs": [
      {
       "metadata": {},
       "output_type": "pyout",
       "prompt_number": 21,
       "text": [
        "(79 mod 103)"
       ]
      }
     ],
     "prompt_number": 21
    },
    {
     "cell_type": "code",
     "collapsed": false,
     "input": [
      "s1 = chinese(a1,b1)\n",
      "s2 = chinese(a1,-b1)\n",
      "s3 = chinese(-a1,b1)\n",
      "s4 = chinese(-a1,-b1)"
     ],
     "language": "python",
     "metadata": {},
     "outputs": [],
     "prompt_number": 22
    },
    {
     "cell_type": "code",
     "collapsed": false,
     "input": [
      "s1,s2,s3,s4"
     ],
     "language": "python",
     "metadata": {},
     "outputs": [
      {
       "metadata": {},
       "output_type": "pyout",
       "prompt_number": 23,
       "text": [
        "((1300 mod 2369), (863 mod 2369), (1506 mod 2369), (1069 mod 2369))"
       ]
      }
     ],
     "prompt_number": 23
    },
    {
     "cell_type": "code",
     "collapsed": false,
     "input": [
      "s1**2,s2**2,s3**2,s4**2"
     ],
     "language": "python",
     "metadata": {},
     "outputs": [
      {
       "metadata": {},
       "output_type": "pyout",
       "prompt_number": 24,
       "text": [
        "((903 mod 2369), (903 mod 2369), (903 mod 2369), (903 mod 2369))"
       ]
      }
     ],
     "prompt_number": 24
    },
    {
     "cell_type": "markdown",
     "metadata": {},
     "source": [
      "IV.2.\n",
      "\n",
      "$46 \\equiv 10 \\,mod\\, 18$ so $10^{46} \\equiv 10^{10} \\,mod\\, 19$\n",
      "\n",
      "Compute $10^{10} \\,mod\\, 19$\n",
      "\n",
      "$10 = 8 + 2$\n",
      "\n",
      "$10^1 \\equiv 10 \\,mod\\, 19$\n",
      "\n",
      "$10^2 \\equiv 100 \\equiv 5 \\,mod\\, 19$\n",
      "\n",
      "$10^4 \\equiv 25 \\equiv 6 \\,mod\\, 19$\n",
      "\n",
      "$10^8 \\equiv 36 \\equiv 17 \\,mod\\, 19$\n",
      "\n",
      "$10^{10} = 10^{8+2} = 10^8 \\cdot 10^2 \\equiv 17\\cdot 5 \\equiv 85 \\equiv 9 \\,mod\\, 19$ "
     ]
    },
    {
     "cell_type": "code",
     "collapsed": false,
     "input": [
      "(10 |mod| 19)**46"
     ],
     "language": "python",
     "metadata": {},
     "outputs": [
      {
       "metadata": {},
       "output_type": "pyout",
       "prompt_number": 26,
       "text": [
        "(9 mod 19)"
       ]
      }
     ],
     "prompt_number": 26
    },
    {
     "cell_type": "markdown",
     "metadata": {},
     "source": [
      "IV.3."
     ]
    },
    {
     "cell_type": "markdown",
     "metadata": {},
     "source": [
      "$y \\to y^5 \\,mod\\, 26$\n",
      "\n",
      "no inverse for $\\,mod\\, 101$, $5$ is not relatively prime to $\\phi = 100$\n",
      "\n",
      "$y \\to y^{15} \\,mod\\, 37$ $15$ is the multiplicative inverse of $5 \\,mod\\, 36$\n",
      "\n",
      "no inverse for $\\,mod\\, 101$, $4$ is not relatively prime to $\\phi = 100$\n"
     ]
    },
    {
     "cell_type": "markdown",
     "metadata": {},
     "source": [
      "IV.4."
     ]
    },
    {
     "cell_type": "code",
     "collapsed": false,
     "input": [
      "n =pari(3361459733)\n",
      "e = 41\n",
      "n.factor()"
     ],
     "language": "python",
     "metadata": {},
     "outputs": [
      {
       "metadata": {},
       "output_type": "pyout",
       "prompt_number": 28,
       "text": [
        "[24793, 1; 135581, 1]"
       ]
      }
     ],
     "prompt_number": 28
    },
    {
     "cell_type": "code",
     "collapsed": false,
     "input": [
      "p = 24793\n",
      "q = 135581\n",
      "phi =(p-1)*(q-1)"
     ],
     "language": "python",
     "metadata": {},
     "outputs": [],
     "prompt_number": 29
    },
    {
     "cell_type": "code",
     "collapsed": false,
     "input": [
      "d = (e|mod|phi)**-1"
     ],
     "language": "python",
     "metadata": {},
     "outputs": [],
     "prompt_number": 30
    },
    {
     "cell_type": "code",
     "collapsed": false,
     "input": [
      "d"
     ],
     "language": "python",
     "metadata": {},
     "outputs": [
      {
       "metadata": {},
       "output_type": "pyout",
       "prompt_number": 31,
       "text": [
        "(737846201 mod 3361299360)"
       ]
      }
     ],
     "prompt_number": 31
    },
    {
     "cell_type": "code",
     "collapsed": false,
     "input": [
      "m = 771135716 |mod| n\n",
      "c = m**d"
     ],
     "language": "python",
     "metadata": {},
     "outputs": [],
     "prompt_number": 33
    },
    {
     "cell_type": "code",
     "collapsed": false,
     "input": [
      "c"
     ],
     "language": "python",
     "metadata": {},
     "outputs": [
      {
       "metadata": {},
       "output_type": "pyout",
       "prompt_number": 34,
       "text": [
        "(805121215 mod 3361459733)"
       ]
      }
     ],
     "prompt_number": 34
    },
    {
     "cell_type": "code",
     "collapsed": false,
     "input": [
      "p = 734163659 \n",
      "q = 87456497\n",
      "phi = pari((p-1)*(q-1))"
     ],
     "language": "python",
     "metadata": {},
     "outputs": [],
     "prompt_number": 35
    },
    {
     "cell_type": "code",
     "collapsed": false,
     "input": [
      "phi.gcd(43)"
     ],
     "language": "python",
     "metadata": {},
     "outputs": [
      {
       "metadata": {},
       "output_type": "pyout",
       "prompt_number": 37,
       "text": [
        "43"
       ]
      }
     ],
     "prompt_number": 37
    },
    {
     "cell_type": "markdown",
     "metadata": {},
     "source": [
      "V.1.\n",
      "\n",
      "$p = 137$ To confirm that $3$ is a primitive root.  Since $136 = 2^3 \\cdot 17$, we need to check that the following powers are not $\\equiv 1 \\,mod\\,137$\n",
      "\n",
      "$3^{68}$ and $3^8$\n",
      "\n",
      "We will need the following powers of $3$:\n",
      "\n",
      "$3^1 = 3$\n",
      "\n",
      "$3^2 = 9$\n",
      "\n",
      "$3^4 = 81$\n",
      "\n",
      "$3^8 = 122$\n",
      "\n",
      "$3^{16} = 88$\n",
      "\n",
      "$3^{32} = 72$\n",
      "\n",
      "$3^{64} = 115$\n",
      "\n",
      "Clearly, $3^8 \\not\\equiv 1\\,mod\\,137$\n",
      "\n",
      "$68 = 64 + 4$, so $3^{68} = 3^{64+4}=3^{64}\\cdot3^4 \\equiv 115 \\cdot 81 \\equiv -1 \\,mod\\,137$  \n",
      "\n"
     ]
    },
    {
     "cell_type": "markdown",
     "metadata": {},
     "source": [
      "$\\log_3(4) = \\log_3(2\\cdot2) = \\log_3(2) + \\log_3(2) = 20$\n",
      "\n",
      "$\\log_3(98) = \\log_3(2*7*7) = \\log_3(2) + 2\\cdot\\log_3(7) = 10 +2\\cdot42 = 94$\n",
      "\n",
      "To confirm that $\\log_3(2) = 10$, we need to show that $3^{10} \\equiv 2\\,mod\\,137$.  From above work that's $9\\cdot122 = 1098 \\equiv 2\\,mod\\,137$"
     ]
    },
    {
     "cell_type": "markdown",
     "metadata": {},
     "source": [
      "V.2."
     ]
    },
    {
     "cell_type": "code",
     "collapsed": false,
     "input": [
      "n = pari(601)\n",
      "phi = n-1\n",
      "phi.factor()"
     ],
     "language": "python",
     "metadata": {},
     "outputs": [
      {
       "metadata": {},
       "output_type": "pyout",
       "prompt_number": 5,
       "text": [
        "[2, 3; 3, 1; 5, 2]"
       ]
      }
     ],
     "prompt_number": 5
    },
    {
     "cell_type": "markdown",
     "metadata": {},
     "source": [
      "Find $x=L_7(412)$.  That is, solve for $x$: $7^x \\equiv 412\\,mod\\, 601$"
     ]
    },
    {
     "cell_type": "code",
     "collapsed": false,
     "input": [
      "phi.factor()"
     ],
     "language": "python",
     "metadata": {},
     "outputs": [
      {
       "metadata": {},
       "output_type": "pyout",
       "prompt_number": 6,
       "text": [
        "[2, 3; 3, 1; 5, 2]"
       ]
      }
     ],
     "prompt_number": 6
    },
    {
     "cell_type": "markdown",
     "metadata": {},
     "source": [
      "First solve $\\,mod\\,2^3$.  Think of $x = x_0 + x_1\\cdot 2 + x_2\\cdot 4 + \\cdots$\n",
      "\n",
      "See Pohlig-Hellman worksheet."
     ]
    },
    {
     "cell_type": "code",
     "collapsed": false,
     "input": [
      "chinese(chinese(5|mod|8,13|mod|25),1|mod|3)"
     ],
     "language": "python",
     "metadata": {},
     "outputs": [
      {
       "metadata": {},
       "output_type": "pyout",
       "prompt_number": 8,
       "text": [
        "(13 mod 600)"
       ]
      }
     ],
     "prompt_number": 8
    },
    {
     "cell_type": "code",
     "collapsed": false,
     "input": [
      "(7|mod|601)**13"
     ],
     "language": "python",
     "metadata": {},
     "outputs": [
      {
       "metadata": {},
       "output_type": "pyout",
       "prompt_number": 9,
       "text": [
        "(412 mod 601)"
       ]
      }
     ],
     "prompt_number": 9
    },
    {
     "cell_type": "markdown",
     "metadata": {},
     "source": [
      "V.4."
     ]
    },
    {
     "cell_type": "code",
     "collapsed": false,
     "input": [
      "p = 23\n",
      "alpha = 5 |mod| 23\n",
      "beta = 17 |mod| 23\n",
      "print '(p,alpha,beta) = ',(p,alpha,beta)"
     ],
     "language": "python",
     "metadata": {},
     "outputs": [
      {
       "output_type": "stream",
       "stream": "stdout",
       "text": [
        "(p,alpha,beta) =  (23, (5 mod 23), (17 mod 23))\n"
       ]
      }
     ],
     "prompt_number": 17
    },
    {
     "cell_type": "code",
     "collapsed": false,
     "input": [
      "run log"
     ],
     "language": "python",
     "metadata": {},
     "outputs": [],
     "prompt_number": 18
    },
    {
     "cell_type": "code",
     "collapsed": false,
     "input": [
      "b = log(alpha,beta)\n",
      "b"
     ],
     "language": "python",
     "metadata": {},
     "outputs": [
      {
       "output_type": "stream",
       "stream": "stdout",
       "text": [
        "0.000276803970337\n",
        "0.000262022018433\n"
       ]
      },
      {
       "metadata": {},
       "output_type": "pyout",
       "prompt_number": 19,
       "text": [
        "(7 mod 22)"
       ]
      }
     ],
     "prompt_number": 19
    },
    {
     "cell_type": "code",
     "collapsed": false,
     "input": [
      "m = 9 |mod| p\n",
      "a = 3\n",
      "r,t = alpha**a, (beta**a)*m\n",
      "r,t\n"
     ],
     "language": "python",
     "metadata": {},
     "outputs": [
      {
       "metadata": {},
       "output_type": "pyout",
       "prompt_number": 6,
       "text": [
        "((10 mod 23), (11 mod 23))"
       ]
      }
     ],
     "prompt_number": 6
    },
    {
     "cell_type": "code",
     "collapsed": false,
     "input": [
      "t*r**(-b)"
     ],
     "language": "python",
     "metadata": {},
     "outputs": [
      {
       "metadata": {},
       "output_type": "pyout",
       "prompt_number": 17,
       "text": [
        "(9 mod 23)"
       ]
      }
     ],
     "prompt_number": 17
    },
    {
     "cell_type": "markdown",
     "metadata": {},
     "source": [
      "V.5.\n",
      "(p,\u03b1,\u03b2)=(8746532591,11,8399609881). (r,t)=(6751923153,4456994471)."
     ]
    },
    {
     "cell_type": "code",
     "collapsed": false,
     "input": [
      "p,alpha,beta = 8746532591,11 |mod| p,8399609881\n",
      "b = log(alpha,beta)\n",
      "b"
     ],
     "language": "python",
     "metadata": {},
     "outputs": [
      {
       "output_type": "stream",
       "stream": "stdout",
       "text": [
        "4.07814979553\n",
        "8.32080841064e-05\n"
       ]
      },
      {
       "metadata": {},
       "output_type": "pyout",
       "prompt_number": 22,
       "text": [
        "(8991 mod 8746532590)"
       ]
      }
     ],
     "prompt_number": 22
    },
    {
     "cell_type": "code",
     "collapsed": false,
     "input": [
      "r,t = 6751923153 |mod| p,4456994471 |mod| p\n",
      "m = (r**(-b))*t"
     ],
     "language": "python",
     "metadata": {},
     "outputs": [],
     "prompt_number": 24
    },
    {
     "cell_type": "code",
     "collapsed": false,
     "input": [
      "m"
     ],
     "language": "python",
     "metadata": {},
     "outputs": [
      {
       "metadata": {},
       "output_type": "pyout",
       "prompt_number": 25,
       "text": [
        "(715154 mod 8746532591)"
       ]
      }
     ],
     "prompt_number": 25
    },
    {
     "cell_type": "code",
     "collapsed": false,
     "input": [
      "14*(10|mod|23)**(-7)"
     ],
     "language": "python",
     "metadata": {},
     "outputs": [
      {
       "metadata": {},
       "output_type": "pyout",
       "prompt_number": 30,
       "text": [
        "(1 mod 23)"
       ]
      }
     ],
     "prompt_number": 30
    },
    {
     "cell_type": "code",
     "collapsed": false,
     "input": [],
     "language": "python",
     "metadata": {},
     "outputs": []
    }
   ],
   "metadata": {}
  }
 ]
}