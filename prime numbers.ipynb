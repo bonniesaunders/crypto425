{
 "metadata": {
  "name": "",
  "signature": "sha256:467af08650dcc48dbaba36f0636ebce01bfb15ce55d527945df78a13ea1ff8e5"
 },
 "nbformat": 3,
 "nbformat_minor": 0,
 "worksheets": [
  {
   "cells": [
    {
     "cell_type": "code",
     "collapsed": false,
     "input": [
      "from cypari.gen import pari as pari"
     ],
     "language": "python",
     "metadata": {},
     "outputs": [],
     "prompt_number": 78
    },
    {
     "cell_type": "code",
     "collapsed": false,
     "input": [
      "n = pari(5517802615515660181276568733011242550155491936993902871033452066139186525372118664368845164977821536605919082722650408301446223383881877436471958376651739)"
     ],
     "language": "python",
     "metadata": {},
     "outputs": [],
     "prompt_number": 79
    },
    {
     "cell_type": "code",
     "collapsed": false,
     "input": [
      "n"
     ],
     "language": "python",
     "metadata": {},
     "outputs": [
      {
       "metadata": {},
       "output_type": "pyout",
       "prompt_number": 80,
       "text": [
        "5517802615515660181276568733011242550155491936993902871033452066139186525372118664368845164977821536605919082722650408301446223383881877436471958376651739"
       ]
      }
     ],
     "prompt_number": 80
    },
    {
     "cell_type": "code",
     "collapsed": false,
     "input": [
      "n.isprime()"
     ],
     "language": "python",
     "metadata": {},
     "outputs": [
      {
       "metadata": {},
       "output_type": "pyout",
       "prompt_number": 81,
       "text": [
        "False"
       ]
      }
     ],
     "prompt_number": 81
    },
    {
     "cell_type": "code",
     "collapsed": false,
     "input": [
      "(2 |mod| n)**(n-1) == 1|mod|n"
     ],
     "language": "python",
     "metadata": {},
     "outputs": [
      {
       "metadata": {},
       "output_type": "pyout",
       "prompt_number": 82,
       "text": [
        "False"
       ]
      }
     ],
     "prompt_number": 82
    },
    {
     "cell_type": "code",
     "collapsed": false,
     "input": [
      "(2|mod|561)**560"
     ],
     "language": "python",
     "metadata": {},
     "outputs": [
      {
       "metadata": {},
       "output_type": "pyout",
       "prompt_number": 87,
       "text": [
        "(1 mod 561)"
       ]
      }
     ],
     "prompt_number": 87
    },
    {
     "cell_type": "code",
     "collapsed": false,
     "input": [
      "3*11*17"
     ],
     "language": "python",
     "metadata": {},
     "outputs": [
      {
       "metadata": {},
       "output_type": "pyout",
       "prompt_number": 89,
       "text": [
        "561"
       ]
      }
     ],
     "prompt_number": 89
    },
    {
     "cell_type": "code",
     "collapsed": false,
     "input": [
      "def prime(n):\n",
      " for l in range(10):\n",
      "    a = randint(2,n-1) |mod| n\n",
      "    print a,\n",
      "    if not (a**(n-1) == (1 |mod| n)): return 'composite'\n",
      " return 'probably prime'\n",
      "        "
     ],
     "language": "python",
     "metadata": {},
     "outputs": []
    },
    {
     "cell_type": "code",
     "collapsed": false,
     "input": [
      "prime(19)"
     ],
     "language": "python",
     "metadata": {},
     "outputs": [
      {
       "output_type": "stream",
       "stream": "stdout",
       "text": [
        "(2 mod 19) (7 mod 19) (18 mod 19) (8 mod 19) (13 mod 19) (12 mod 19) (15 mod 19) (15 mod 19) (15 mod 19) (15 mod 19)"
       ]
      },
      {
       "metadata": {},
       "output_type": "pyout",
       "prompt_number": 83,
       "text": [
        "'probably prime'"
       ]
      },
      {
       "output_type": "stream",
       "stream": "stdout",
       "text": [
        "\n"
       ]
      }
     ],
     "prompt_number": 83
    },
    {
     "cell_type": "code",
     "collapsed": false,
     "input": [
      "prime(561)"
     ],
     "language": "python",
     "metadata": {},
     "outputs": [
      {
       "output_type": "stream",
       "stream": "stdout",
       "text": [
        "(543 mod 561)"
       ]
      },
      {
       "metadata": {},
       "output_type": "pyout",
       "prompt_number": 85,
       "text": [
        "'composite'"
       ]
      },
      {
       "output_type": "stream",
       "stream": "stdout",
       "text": [
        "\n"
       ]
      }
     ],
     "prompt_number": 85
    },
    {
     "cell_type": "code",
     "collapsed": false,
     "input": [
      "%load mr"
     ],
     "language": "python",
     "metadata": {},
     "outputs": []
    },
    {
     "cell_type": "code",
     "collapsed": false,
     "input": [
      "from matmod import *\n",
      "from cypari.gen import pari\n",
      "from random import randint\n",
      "\n",
      "def MR(n):\n",
      "    k=1\n",
      "    if n % 2 == 0: return 'composite: factor is 2'\n",
      "    m = (n-1) / 2\n",
      "    while ( m%2 ==0 ):\n",
      "        k += 1\n",
      "        m = m / 2\n",
      "#n-1 = m*2^k\n",
      "    print 'n-1 = {}*2^{}'.format(m,k)\n",
      "    a = randint(2,n-1) |mod| n\n",
      "    print 'a = ', a\n",
      "    b = a**m\n",
      "    print 'b_{}={}'.format(0,b)\n",
      "    if b.lift()==1 or b.lift() == n-1:\n",
      "        return 'probably prime'\n",
      "    b1 = b**2\n",
      "    l = 0\n",
      "    while l < k:\n",
      "        print 'b_{}={}'.format(l+1,b1)\n",
      "        if b1.lift()==1:\n",
      "            #this means that b is a false square root\n",
      "            return 'composite: factor is', xgcd(b.lift()-1,n)[0]\n",
      "        if b1.lift()==(n-1): return 'probably prime'\n",
      "        b,b1 = b1,b1**2\n",
      "        l+=1\n",
      "    if b1.lift() is not (n-1): return 'composite: '\n",
      "    return 'probably prime'\n"
     ],
     "language": "python",
     "metadata": {},
     "outputs": []
    },
    {
     "cell_type": "code",
     "collapsed": false,
     "input": [
      "run mr"
     ],
     "language": "python",
     "metadata": {},
     "outputs": []
    },
    {
     "cell_type": "markdown",
     "metadata": {},
     "source": [
      "prime(19)"
     ]
    },
    {
     "cell_type": "code",
     "collapsed": false,
     "input": [
      "prime(561)"
     ],
     "language": "python",
     "metadata": {},
     "outputs": [
      {
       "output_type": "stream",
       "stream": "stdout",
       "text": [
        "(182 mod 561) (373 mod 561) (119 mod 561)"
       ]
      },
      {
       "metadata": {},
       "output_type": "pyout",
       "prompt_number": 92,
       "text": [
        "'composite'"
       ]
      },
      {
       "output_type": "stream",
       "stream": "stdout",
       "text": [
        "\n"
       ]
      }
     ],
     "prompt_number": 92
    },
    {
     "cell_type": "code",
     "collapsed": false,
     "input": [
      "powertable(17,17)"
     ],
     "language": "python",
     "metadata": {},
     "outputs": [
      {
       "output_type": "stream",
       "stream": "stdout",
       "text": [
        " 0 : [  1  1  1  1  1  1  1  1  1  1  1  1  1  1  1  1 ] mod 17 \n",
        " 1 : [  1  2  3  4  5  6  7  8  9 10 11 12 13 14 15 16 ] mod 17 \n",
        " 2 : [  1  4  9 16  8  2 15 13 13 15  2  8 16  9  4  1 ] mod 17 \n",
        " 3 : [  1  8 10 13  6 12  3  2 15 14  5 11  4  7  9 16 ] mod 17 \n",
        " 4 : [  1 16 13  1 13  4  4 16 16  4  4 13  1 13 16  1 ] mod 17 \n",
        " 5 : [  1 15  5  4 14  7 11  9  8  6 10  3 13 12  2 16 ] mod 17 \n",
        " 6 : [  1 13 15 16  2  8  9  4  4  9  8  2 16 15 13  1 ] mod 17 \n",
        " 7 : [  1  9 11 13 10 14 12 15  2  5  3  7  4  6  8 16 ] mod 17 \n",
        " 8 : [  1  1 16  1 16 16 16  1  1 16 16 16  1 16  1  1 ] mod 17 \n",
        " 9 : [  1  2 14  4 12 11 10  8  9  7  6  5 13  3 15 16 ] mod 17 \n",
        "10 : [  1  4  8 16  9 15  2 13 13  2 15  9 16  8  4  1 ] mod 17 \n",
        "11 : [  1  8  7 13 11  5 14  2 15  3 12  6  4 10  9 16 ] mod 17 \n",
        "12 : [  1 16  4  1  4 13 13 16 16 13 13  4  1  4 16  1 ] mod 17 \n",
        "13 : [  1 15 12  4  3 10  6  9  8 11  7 14 13  5  2 16 ] mod 17 \n",
        "14 : [  1 13  2 16 15  9  8  4  4  8  9 15 16  2 13  1 ] mod 17 \n",
        "15 : [  1  9  6 13  7  3  5 15  2 12 14 10  4 11  8 16 ] mod 17 \n",
        "16 : [  1  1  1  1  1  1  1  1  1  1  1  1  1  1  1  1 ] mod 17 \n"
       ]
      }
     ],
     "prompt_number": 93
    },
    {
     "cell_type": "code",
     "collapsed": false,
     "input": [
      "from tables425 import *"
     ],
     "language": "python",
     "metadata": {},
     "outputs": []
    },
    {
     "cell_type": "code",
     "collapsed": false,
     "input": [
      "MR(n)"
     ],
     "language": "python",
     "metadata": {},
     "outputs": [
      {
       "output_type": "stream",
       "stream": "stdout",
       "text": [
        "n-1 = 2758901307757830090638284366505621275077745968496951435516726033069593262686059332184422582488910768302959541361325204150723111691940938718235979188325869*2^1\n",
        "a =  (4158063867249526224270420708023037920686646738119928724498199602348457705216376592854290641230508753418912802919051865614139437180510784765687705100514596 mod 5517802615515660181276568733011242550155491936993902871033452066139186525372118664368845164977821536605919082722650408301446223383881877436471958376651739)\n",
        "b_0=(5311884465640876918152988661265888013442441472892685498069172482760029163006142331537766314192317176845610582334375022159896542781600452165383713641414055 mod 5517802615515660181276568733011242550155491936993902871033452066139186525372118664368845164977821536605919082722650408301446223383881877436471958376651739)\n",
        "b_1=(1788083953808598374467518050863289495458365588267893688658000772321936703278295106419317515889459097135492040690813955875357569595314819353389562763243430 mod 5517802615515660181276568733011242550155491936993902871033452066139186525372118664368845164977821536605919082722650408301446223383881877436471958376651739)\n"
       ]
      },
      {
       "metadata": {},
       "output_type": "pyout",
       "prompt_number": 96,
       "text": [
        "'composite: '"
       ]
      }
     ],
     "prompt_number": 96
    },
    {
     "cell_type": "code",
     "collapsed": false,
     "input": [
      "powertable(21,25)"
     ],
     "language": "python",
     "metadata": {},
     "outputs": [
      {
       "output_type": "stream",
       "stream": "stdout",
       "text": [
        " 0 : [  1  1  1  1  1  1  1  1  1  1  1  1  1  1  1  1  1  1  1  1 ] mod 21 \n",
        " 1 : [  1  2  3  4  5  6  7  8  9 10 11 12 13 14 15 16 17 18 19 20 ] mod 21 \n",
        " 2 : [  1  4  9 16  4 15  7  1 18 16 16 18  1  7 15  4 16  9  4  1 ] mod 21 \n",
        " 3 : [  1  8  6  1 20  6  7  8 15 13  8  6 13 14 15  1 20 15 13 20 ] mod 21 \n",
        " 4 : [  1 16 18  4 16 15  7  1  9  4  4  9  1  7 15 16  4 18 16  1 ] mod 21 \n",
        " 5 : [  1 11 12 16 17  6  7  8 18 19  2  3 13 14 15  4  5  9 10 20 ] mod 21 \n",
        " 6 : [  1  1 15  1  1 15  7  1 15  1  1 15  1  7 15  1  1 15  1  1 ] mod 21 \n",
        " 7 : [  1  2  3  4  5  6  7  8  9 10 11 12 13 14 15 16 17 18 19 20 ] mod 21 \n",
        " 8 : [  1  4  9 16  4 15  7  1 18 16 16 18  1  7 15  4 16  9  4  1 ] mod 21 \n",
        " 9 : [  1  8  6  1 20  6  7  8 15 13  8  6 13 14 15  1 20 15 13 20 ] mod 21 \n",
        "10 : [  1 16 18  4 16 15  7  1  9  4  4  9  1  7 15 16  4 18 16  1 ] mod 21 \n",
        "11 : [  1 11 12 16 17  6  7  8 18 19  2  3 13 14 15  4  5  9 10 20 ] mod 21 \n",
        "12 : [  1  1 15  1  1 15  7  1 15  1  1 15  1  7 15  1  1 15  1  1 ] mod 21 \n",
        "13 : [  1  2  3  4  5  6  7  8  9 10 11 12 13 14 15 16 17 18 19 20 ] mod 21 \n",
        "14 : [  1  4  9 16  4 15  7  1 18 16 16 18  1  7 15  4 16  9  4  1 ] mod 21 \n",
        "15 : [  1  8  6  1 20  6  7  8 15 13  8  6 13 14 15  1 20 15 13 20 ] mod 21 \n",
        "16 : [  1 16 18  4 16 15  7  1  9  4  4  9  1  7 15 16  4 18 16  1 ] mod 21 \n",
        "17 : [  1 11 12 16 17  6  7  8 18 19  2  3 13 14 15  4  5  9 10 20 ] mod 21 \n",
        "18 : [  1  1 15  1  1 15  7  1 15  1  1 15  1  7 15  1  1 15  1  1 ] mod 21 \n",
        "19 : [  1  2  3  4  5  6  7  8  9 10 11 12 13 14 15 16 17 18 19 20 ] mod 21 \n",
        "20 : [  1  4  9 16  4 15  7  1 18 16 16 18  1  7 15  4 16  9  4  1 ] mod 21 \n",
        "21 : [  1  8  6  1 20  6  7  8 15 13  8  6 13 14 15  1 20 15 13 20 ] mod 21 \n",
        "22 : [  1 16 18  4 16 15  7  1  9  4  4  9  1  7 15 16  4 18 16  1 ] mod 21 \n",
        "23 : [  1 11 12 16 17  6  7  8 18 19  2  3 13 14 15  4  5  9 10 20 ] mod 21 \n",
        "24 : [  1  1 15  1  1 15  7  1 15  1  1 15  1  7 15  1  1 15  1  1 ] mod 21 \n"
       ]
      }
     ],
     "prompt_number": 95
    },
    {
     "cell_type": "code",
     "collapsed": false,
     "input": [],
     "language": "python",
     "metadata": {},
     "outputs": []
    }
   ],
   "metadata": {}
  }
 ]
}