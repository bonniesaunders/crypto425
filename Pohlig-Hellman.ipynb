{
 "cells": [
  {
   "cell_type": "markdown",
   "metadata": {},
   "source": [
    "# >Basic Fact\n",
    "\n",
    "If $p$ is a prime number, and if $\\alpha$ a primitive root $(\\!\\!\\!\\mod p)$, then\n",
    "\n",
    "$\\alpha^n \\equiv \\alpha^m (\\!\\!\\!\\mod p) \\iff n \\equiv m (\\!\\!\\!\\mod p-1)$"
   ]
  },
  {
   "cell_type": "markdown",
   "metadata": {},
   "source": [
    "This will assure that there is a unique solution $(\\!\\!\\!\\mod p-1)$ to the equation\n",
    "\n",
    "$\\alpha^x \\equiv \\beta (\\!\\!\\!\\mod p)$\n",
    "\n",
    "We call that unique soluiton, $L_\\alpha(\\beta)$, the discrete log base $\\alpha$ of $\\beta$ $\\!\\!\\!\\mod p$."
   ]
  },
  {
   "cell_type": "markdown",
   "metadata": {},
   "source": [
    "NOTE: That $\\alpha$ is a primitive root assures there is a solution.  It is essential Fermat's theorem that assures the soluiton is unique."
   ]
  },
  {
   "cell_type": "markdown",
   "metadata": {},
   "source": [
    "###### Pohlig-Hellman, 7.2.1 page 203 ff"
   ]
  },
  {
   "cell_type": "markdown",
   "metadata": {},
   "source": [
    "Pohlig-Hellman is an algorithm that works to find discrete logarithms when $p-1$ is a product of small primes.\n",
    "\n",
    "('Small' is defined by the power of your computional machinery to compute discrete logs."
   ]
  },
  {
   "cell_type": "markdown",
   "metadata": {},
   "source": [
    ">>Set up\n",
    "\n",
    "We are solving for $\\alpha^x \\equiv \\beta (\\!\\!\\!\\mod p)$.\n",
    "where $p-1={q_0}^{r_0} \\cdot {q_1}^{r_1} \\cdot {q_2}^{r_2} \\cdot {q_3}^{r_3} \\cdots$\n",
    "\n",
    "There are three loops:\n",
    "\n",
    "Outside loop: we find $L_{\\alpha}(\\beta) (\\!\\!\\!\\mod q^r)$.  Once done the Chinese remainder thoerem gives  $L_{\\alpha}(\\beta) (\\!\\!\\!\\mod p-1)$ \n",
    "\n",
    "For each $q$, we represent $x = x_0 + x_1 \\cdot q + x_2 \\cdot q^2 + \\cdots $, where $0 \\le x_i < q$ \n",
    "\n",
    "The innermost loop finds $x_0, x_1, x_2, \\cdots x_{r-1}$  This is gives $L_{\\alpha}(\\beta) (\\!\\!\\!\\mod q^r)$\n"
   ]
  },
  {
   "cell_type": "code",
   "execution_count": 2,
   "metadata": {
    "collapsed": false
   },
   "outputs": [],
   "source": [
    "from matmod import *\n",
    "from cypari.gen import pari as pari\n"
   ]
  },
  {
   "cell_type": "code",
   "execution_count": 3,
   "metadata": {
    "collapsed": false
   },
   "outputs": [
    {
     "data": {
      "text/plain": [
       "[2, 3; 3, 1; 5, 2]"
      ]
     },
     "execution_count": 3,
     "metadata": {},
     "output_type": "execute_result"
    }
   ],
   "source": [
    "p =pari(601)\n",
    "phi = p-1\n",
    "phi.factor()"
   ]
  },
  {
   "cell_type": "markdown",
   "metadata": {},
   "source": [
    "For a given $q^r$:  First find $x_0$\n",
    "\n",
    "We know $x \\equiv x_0(\\!\\!\\!\\mod q) \\implies x\\cdot{\\frac{p-1}{q}} \\equiv {x_0}\\cdot{\\frac{p-1}{q}} (\\!\\!\\!\\mod p-1)$\n",
    "\n",
    "and, so by the BASIC FACT, $\\alpha^{x\\cdot{\\frac{p-1}{q}}} \\equiv \\alpha^{{x_0}\\cdot{\\frac{p-1}{q}}} (\\!\\!\\!\\mod p)$\n",
    "\n",
    "of course, $\\alpha^x$ is $\\beta$, so we solve (the shorter log problem) for $x_0$: $\\beta^{\\frac{p-1}{q}} \\equiv \\alpha^{{x_0}\\cdot{\\frac{p-1}{q}}} (\\!\\!\\!\\mod p)$  NOTE: just check $x_0 = 0, 1, \\cdots q-1$"
   ]
  },
  {
   "cell_type": "code",
   "execution_count": 48,
   "metadata": {
    "collapsed": false
   },
   "outputs": [],
   "source": [
    "q = 3"
   ]
  },
  {
   "cell_type": "code",
   "execution_count": 47,
   "metadata": {
    "collapsed": false
   },
   "outputs": [
    {
     "data": {
      "text/plain": [
       "(576 mod 601)"
      ]
     },
     "execution_count": 47,
     "metadata": {},
     "output_type": "execute_result"
    }
   ],
   "source": [
    "beta = 412 |mod| p\n",
    "lhs = beta**(200)\n",
    "lhs"
   ]
  },
  {
   "cell_type": "code",
   "execution_count": 49,
   "metadata": {
    "collapsed": false
   },
   "outputs": [
    {
     "data": {
      "text/plain": [
       "[(1 mod 601), (576 mod 601), (24 mod 601)]"
      ]
     },
     "execution_count": 49,
     "metadata": {},
     "output_type": "execute_result"
    }
   ],
   "source": [
    "alpha = 7 |mod| 601\n",
    "rhs = [ alpha**(x0*200) for x0 in range(3) ]\n",
    "rhs"
   ]
  },
  {
   "cell_type": "code",
   "execution_count": 41,
   "metadata": {
    "collapsed": false
   },
   "outputs": [],
   "source": [
    "x0 = 1"
   ]
  },
  {
   "cell_type": "markdown",
   "metadata": {},
   "source": [
    "For the next and subsequent steps, find $x_1$\n",
    "\n",
    "We know $\\frac{x - x_0}{q} \\equiv x_1(\\!\\!\\!\\mod q) \\implies \\frac{x - x_0}{q} \\cdot{\\frac{p-1}{q}} \\equiv {x_1}\\cdot{\\frac{p-1}{q}} (\\!\\!\\!\\mod p-1)$\n",
    "\n",
    "and, so by the BASIC FACT, $\\alpha^{(x - x_0) \\cdot{\\frac{p-1}{q^2}}} \\equiv \\alpha^{{x_1}\\cdot{\\frac{p-1}{q}}} (\\!\\!\\!\\mod p)$\n",
    "\n",
    "of course, $\\alpha^{(x - x_0)} $ is $\\beta_1 = \\beta \\cdot \\alpha^{-x_0}$, so we solve (the shorter log problem) for $x_1$: $\\beta_1^{\\frac{p-1}{q^2}} \\equiv \\alpha^{{x_1}\\cdot{\\frac{p-1}{q}}} (\\!\\!\\!\\mod p)$  NOTE: just check $x_1 = 0, 1, \\cdots q-1$\n",
    "\n",
    "NOTE: similarity to previous step."
   ]
  },
  {
   "cell_type": "code",
   "execution_count": 42,
   "metadata": {
    "collapsed": false
   },
   "outputs": [
    {
     "data": {
      "text/plain": [
       "(432 mod 601)"
      ]
     },
     "execution_count": 42,
     "metadata": {},
     "output_type": "execute_result"
    }
   ],
   "source": [
    "beta1 = beta*alpha**(-x0)\n",
    "lhs = beta1**(24)\n",
    "lhs"
   ]
  },
  {
   "cell_type": "code",
   "execution_count": 43,
   "metadata": {
    "collapsed": false
   },
   "outputs": [
    {
     "data": {
      "text/plain": [
       "[(1 mod 601), (423 mod 601), (432 mod 601), (32 mod 601), (314 mod 601)]"
      ]
     },
     "execution_count": 43,
     "metadata": {},
     "output_type": "execute_result"
    }
   ],
   "source": [
    "rhs = [ alpha**(x1*120) for x1 in range(5)]\n",
    "rhs"
   ]
  },
  {
   "cell_type": "code",
   "execution_count": 45,
   "metadata": {
    "collapsed": false
   },
   "outputs": [],
   "source": [
    "x1 = 2\n",
    "x = x0+x1*5 |mod| 25"
   ]
  },
  {
   "cell_type": "code",
   "execution_count": 46,
   "metadata": {
    "collapsed": false
   },
   "outputs": [
    {
     "data": {
      "text/plain": [
       "(13 mod 25)"
      ]
     },
     "execution_count": 46,
     "metadata": {},
     "output_type": "execute_result"
    }
   ],
   "source": [
    "x"
   ]
  },
  {
   "cell_type": "markdown",
   "metadata": {},
   "source": [
    "Next step: $\\beta_2 = \\beta_1 \\cdot \\alpha^{-x_1\\cdot  q}$"
   ]
  },
  {
   "cell_type": "code",
   "execution_count": 25,
   "metadata": {
    "collapsed": false
   },
   "outputs": [
    {
     "data": {
      "text/plain": [
       "(600 mod 601)"
      ]
     },
     "execution_count": 25,
     "metadata": {},
     "output_type": "execute_result"
    }
   ],
   "source": [
    "beta2 = beta1*alpha**(-x1*q)\n",
    "lhs = beta2**(75)\n",
    "lhs"
   ]
  },
  {
   "cell_type": "code",
   "execution_count": 26,
   "metadata": {
    "collapsed": false
   },
   "outputs": [
    {
     "data": {
      "text/plain": [
       "[(1 mod 601), (600 mod 601)]"
      ]
     },
     "execution_count": 26,
     "metadata": {},
     "output_type": "execute_result"
    }
   ],
   "source": [
    "rhs = [ alpha**(x2*300) for x2 in range(2)]\n",
    "rhs"
   ]
  },
  {
   "cell_type": "code",
   "execution_count": 27,
   "metadata": {
    "collapsed": false
   },
   "outputs": [],
   "source": [
    "x2 = 1\n",
    "x = x0 + x1*q + x2*q**2 |mod| 2**3"
   ]
  },
  {
   "cell_type": "code",
   "execution_count": 28,
   "metadata": {
    "collapsed": false
   },
   "outputs": [
    {
     "data": {
      "text/plain": [
       "(5 mod 8)"
      ]
     },
     "execution_count": 28,
     "metadata": {},
     "output_type": "execute_result"
    }
   ],
   "source": [
    "x"
   ]
  },
  {
   "cell_type": "code",
   "execution_count": 82,
   "metadata": {
    "collapsed": false
   },
   "outputs": [],
   "source": [
    "A = 5 |mod| 8"
   ]
  },
  {
   "cell_type": "code",
   "execution_count": 84,
   "metadata": {
    "collapsed": false
   },
   "outputs": [],
   "source": [
    "B = 3 |mod| 5"
   ]
  },
  {
   "cell_type": "code",
   "execution_count": null,
   "metadata": {
    "collapsed": false
   },
   "outputs": [],
   "source": [
    "z2 = "
   ]
  },
  {
   "cell_type": "code",
   "execution_count": null,
   "metadata": {
    "collapsed": false
   },
   "outputs": [],
   "source": [
    "x, z2"
   ]
  },
  {
   "cell_type": "code",
   "execution_count": 85,
   "metadata": {
    "collapsed": false
   },
   "outputs": [
    {
     "data": {
      "text/plain": [
       "(13 mod 40)"
      ]
     },
     "execution_count": 85,
     "metadata": {},
     "output_type": "execute_result"
    }
   ],
   "source": [
    "chinese(A,B)"
   ]
  },
  {
   "cell_type": "code",
   "execution_count": 86,
   "metadata": {
    "collapsed": false
   },
   "outputs": [
    {
     "data": {
      "text/plain": [
       "(12 mod 41)"
      ]
     },
     "execution_count": 86,
     "metadata": {},
     "output_type": "execute_result"
    }
   ],
   "source": [
    "a**13"
   ]
  },
  {
   "cell_type": "code",
   "execution_count": null,
   "metadata": {
    "collapsed": false
   },
   "outputs": [],
   "source": []
  }
 ],
 "metadata": {
  "kernelspec": {
   "display_name": "Python 2",
   "language": "python",
   "name": "python2"
  },
  "language_info": {
   "codemirror_mode": {
    "name": "ipython",
    "version": 2
   },
   "file_extension": ".py",
   "mimetype": "text/x-python",
   "name": "python",
   "nbconvert_exporter": "python",
   "pygments_lexer": "ipython2",
   "version": "2.7.10"
  }
 },
 "nbformat": 4,
 "nbformat_minor": 0
}
