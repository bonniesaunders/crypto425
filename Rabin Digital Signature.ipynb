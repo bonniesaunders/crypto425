{
 "metadata": {
  "name": "",
  "signature": "sha256:820408b312b5bc6094a4ffd4fccf3eb79cc8a00ebe14b45fa67590cd78d00037"
 },
 "nbformat": 3,
 "nbformat_minor": 0,
 "worksheets": [
  {
   "cells": [
    {
     "cell_type": "code",
     "collapsed": false,
     "input": [
      "from matmod import *\n",
      "from cypari.gen import pari"
     ],
     "language": "python",
     "metadata": {},
     "outputs": [],
     "prompt_number": 3
    },
    {
     "cell_type": "markdown",
     "metadata": {},
     "source": [
      "Rabin Digital Signature \n",
      "\n",
      "(Warning: This scheme is not defined in the text book, while most internet sources will have more steps than included here.)\n",
      "\n",
      "The scenario is that Alice wants to sign a document and Bob wants to verify that she is the one who signed it.\n",
      "\n",
      "Let $m$ be the document (or the hash of the document).  $s$ will be the signature."
     ]
    },
    {
     "cell_type": "markdown",
     "metadata": {},
     "source": [
      "step 1:  Alice makes a RSA private key $n = p\\cdot q$.  This works easiest if both $p$ and $q$ are $3\\, mod\\, 4$. To work the message (or hash) must be less than $n$.\n",
      "\n",
      "$n$ is public but $p$ and $q$ are private.  The exponent is note used in this scheme. "
     ]
    },
    {
     "cell_type": "markdown",
     "metadata": {},
     "source": [
      "step 2:  Signing the Message.  Alice computes $s$, a square root of $m\\,mod\\,n$.  Recall that this is computational fast knowing the factorizastion of $n$, but computational hard if the factorization is not known."
     ]
    },
    {
     "cell_type": "markdown",
     "metadata": {},
     "source": [
      "step 3: Alice publishes both $m$ and $s$.  To verify the signature, Bob computes $m' = s^2\\,mod\\,n$. If $m == m'$, he knows it's Alice's signature"
     ]
    },
    {
     "cell_type": "markdown",
     "metadata": {},
     "source": [
      "Example:"
     ]
    },
    {
     "cell_type": "code",
     "collapsed": false,
     "input": [
      "p, q = 859, 947"
     ],
     "language": "python",
     "metadata": {},
     "outputs": [],
     "prompt_number": 4
    },
    {
     "cell_type": "code",
     "collapsed": false,
     "input": [
      "p |mod| 4, q |mod| 4"
     ],
     "language": "python",
     "metadata": {},
     "outputs": [
      {
       "metadata": {},
       "output_type": "pyout",
       "prompt_number": 5,
       "text": [
        "((3 mod 4), (3 mod 4))"
       ]
      }
     ],
     "prompt_number": 5
    },
    {
     "cell_type": "code",
     "collapsed": false,
     "input": [
      "n = p*q\n",
      "n"
     ],
     "language": "python",
     "metadata": {},
     "outputs": [
      {
       "metadata": {},
       "output_type": "pyout",
       "prompt_number": 6,
       "text": [
        "813473"
       ]
      }
     ],
     "prompt_number": 6
    },
    {
     "cell_type": "markdown",
     "metadata": {},
     "source": [
      "Reduce $m\\, mod\\, p$ and $mod\\, q$"
     ]
    },
    {
     "cell_type": "code",
     "collapsed": false,
     "input": [
      "m = 500001\n",
      "m\n"
     ],
     "language": "python",
     "metadata": {},
     "outputs": [
      {
       "metadata": {},
       "output_type": "pyout",
       "prompt_number": 7,
       "text": [
        "500001"
       ]
      }
     ],
     "prompt_number": 7
    },
    {
     "cell_type": "code",
     "collapsed": false,
     "input": [
      "(m|mod| p)**( (p-1)/2 ), (m|mod|q)**( (q-1)/2 )\n"
     ],
     "language": "python",
     "metadata": {},
     "outputs": [
      {
       "metadata": {},
       "output_type": "pyout",
       "prompt_number": 9,
       "text": [
        "((1 mod 859), (1 mod 947))"
       ]
      }
     ],
     "prompt_number": 9
    },
    {
     "cell_type": "code",
     "collapsed": false,
     "input": [
      "mp,mq = m|mod|p, m|mod|q\n",
      "mp, mq"
     ],
     "language": "python",
     "metadata": {},
     "outputs": [
      {
       "metadata": {},
       "output_type": "pyout",
       "prompt_number": 11,
       "text": [
        "((63 mod 859), (932 mod 947))"
       ]
      }
     ],
     "prompt_number": 11
    },
    {
     "cell_type": "markdown",
     "metadata": {},
     "source": [
      "RECALL: (page 86) For $p$ a prime and $p \\equiv 3\\, mod\\, 4$, then $m^{\\frac{(p+1)}{4} }\\,mod\\, p$ is either the square root of $m$ or $-m$."
     ]
    },
    {
     "cell_type": "code",
     "collapsed": false,
     "input": [
      "sp, sq = mp**( (p+1)/4 ), mq**( (q+1)/4 )\n",
      "sp,sq\n",
      "sp**2,sq**2"
     ],
     "language": "python",
     "metadata": {},
     "outputs": [
      {
       "metadata": {},
       "output_type": "pyout",
       "prompt_number": 12,
       "text": [
        "((63 mod 859), (932 mod 947))"
       ]
      }
     ],
     "prompt_number": 12
    },
    {
     "cell_type": "code",
     "collapsed": false,
     "input": [],
     "language": "python",
     "metadata": {},
     "outputs": []
    },
    {
     "cell_type": "code",
     "collapsed": false,
     "input": [
      "s = chinese(sp,sq)\n",
      "s"
     ],
     "language": "python",
     "metadata": {},
     "outputs": [
      {
       "metadata": {},
       "output_type": "pyout",
       "prompt_number": 8,
       "text": [
        "(809909 mod 813473)"
       ]
      }
     ],
     "prompt_number": 8
    },
    {
     "cell_type": "code",
     "collapsed": false,
     "input": [
      "s^2"
     ],
     "language": "python",
     "metadata": {},
     "outputs": [
      {
       "metadata": {},
       "output_type": "pyout",
       "prompt_number": 9,
       "text": [
        "(500001 mod 813473)"
       ]
      }
     ],
     "prompt_number": 9
    },
    {
     "cell_type": "markdown",
     "metadata": {},
     "source": [
      "Alice sends the pair $m,\\,s$"
     ]
    },
    {
     "cell_type": "code",
     "collapsed": false,
     "input": [
      "m,s.lift()"
     ],
     "language": "python",
     "metadata": {},
     "outputs": []
    },
    {
     "cell_type": "markdown",
     "metadata": {},
     "source": [
      "$m$ may not have a square root $mod\\, n$ so it may take some time to find the right message to sign.  One tool to use is \n",
      "\n",
      "Theorem(page 88): For $p$ an odd prime: $m$ has a square root $mod\\, p$ if and only if $ m^{\\frac{(p-1)}{2} }\\equiv 1\\,mod\\, p$"
     ]
    },
    {
     "cell_type": "code",
     "collapsed": false,
     "input": [],
     "language": "python",
     "metadata": {},
     "outputs": []
    }
   ],
   "metadata": {}
  }
 ]
}