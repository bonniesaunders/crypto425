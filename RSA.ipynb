{
 "metadata": {
  "name": "",
  "signature": "sha256:69928ffc880c228ed67528c6cb81a563c8bdc311232ee403080586dcff32f844"
 },
 "nbformat": 3,
 "nbformat_minor": 0,
 "worksheets": [
  {
   "cells": [
    {
     "cell_type": "heading",
     "level": 6,
     "metadata": {},
     "source": [
      "RSA Theorem"
     ]
    },
    {
     "cell_type": "markdown",
     "metadata": {},
     "source": [
      ">Given two prime numbers, $p$, $q$, and $e$, relatively prime to $\\phi(n)$, where $n=p\\cdot q$\n",
      "\n",
      ">Let $d$ be the multiplicative inverse of $e\\!\\!\\!\\mod\\phi(n)$."
     ]
    },
    {
     "cell_type": "markdown",
     "metadata": {},
     "source": [
      ">Then, for all $x$, $$(x^e)^d \\equiv x\\!\\!\\!\\mod n$$"
     ]
    },
    {
     "cell_type": "code",
     "collapsed": false,
     "input": [
      "from matmod import *"
     ],
     "language": "python",
     "metadata": {},
     "outputs": [],
     "prompt_number": 1
    },
    {
     "cell_type": "code",
     "collapsed": false,
     "input": [
      "p = 13\n",
      "q = 29"
     ],
     "language": "python",
     "metadata": {},
     "outputs": [],
     "prompt_number": 2
    },
    {
     "cell_type": "code",
     "collapsed": false,
     "input": [
      "n=p*q\n",
      "phi = (p-1)*(q-1)"
     ],
     "language": "python",
     "metadata": {},
     "outputs": [],
     "prompt_number": 3
    },
    {
     "cell_type": "code",
     "collapsed": false,
     "input": [
      "phi, n"
     ],
     "language": "python",
     "metadata": {},
     "outputs": [
      {
       "metadata": {},
       "output_type": "pyout",
       "prompt_number": 4,
       "text": [
        "(336, 377)"
       ]
      }
     ],
     "prompt_number": 4
    },
    {
     "cell_type": "code",
     "collapsed": false,
     "input": [
      "e = 17 |mod| phi"
     ],
     "language": "python",
     "metadata": {},
     "outputs": [],
     "prompt_number": 6
    },
    {
     "cell_type": "code",
     "collapsed": false,
     "input": [
      "divmod(336,17)"
     ],
     "language": "python",
     "metadata": {},
     "outputs": [
      {
       "metadata": {},
       "output_type": "pyout",
       "prompt_number": 7,
       "text": [
        "(19, 13)"
       ]
      }
     ],
     "prompt_number": 7
    },
    {
     "cell_type": "code",
     "collapsed": false,
     "input": [
      "M = 101 |mod| n"
     ],
     "language": "python",
     "metadata": {},
     "outputs": [],
     "prompt_number": 8
    },
    {
     "cell_type": "code",
     "collapsed": false,
     "input": [
      "EM = M^e"
     ],
     "language": "python",
     "metadata": {},
     "outputs": [],
     "prompt_number": 9
    },
    {
     "cell_type": "code",
     "collapsed": false,
     "input": [
      "EM"
     ],
     "language": "python",
     "metadata": {},
     "outputs": [
      {
       "metadata": {},
       "output_type": "pyout",
       "prompt_number": 23,
       "text": [
        "(69 mod 377)"
       ]
      }
     ],
     "prompt_number": 23
    },
    {
     "cell_type": "code",
     "collapsed": false,
     "input": [
      "e"
     ],
     "language": "python",
     "metadata": {},
     "outputs": [
      {
       "metadata": {},
       "output_type": "pyout",
       "prompt_number": 24,
       "text": [
        "(17 mod 336)"
       ]
      }
     ],
     "prompt_number": 24
    },
    {
     "cell_type": "code",
     "collapsed": false,
     "input": [
      "d = e^-1"
     ],
     "language": "python",
     "metadata": {},
     "outputs": [],
     "prompt_number": 10
    },
    {
     "cell_type": "code",
     "collapsed": false,
     "input": [
      "d"
     ],
     "language": "python",
     "metadata": {},
     "outputs": [
      {
       "metadata": {},
       "output_type": "pyout",
       "prompt_number": 11,
       "text": [
        "(257 mod 336)"
       ]
      }
     ],
     "prompt_number": 11
    },
    {
     "cell_type": "code",
     "collapsed": false,
     "input": [
      "EM^d"
     ],
     "language": "python",
     "metadata": {},
     "outputs": [
      {
       "metadata": {},
       "output_type": "pyout",
       "prompt_number": 12,
       "text": [
        "(101 mod 377)"
       ]
      }
     ],
     "prompt_number": 12
    },
    {
     "cell_type": "heading",
     "level": 6,
     "metadata": {},
     "source": [
      "RSA Protocal (Section 6.1 The RSA Algorithm, page 165)"
     ]
    },
    {
     "cell_type": "markdown",
     "metadata": {},
     "source": [
      ">Alice want to send Bob a message, $m$.  The following steps was used to get the message to Bob."
     ]
    },
    {
     "cell_type": "markdown",
     "metadata": {},
     "source": [
      "> 1 - Bob posts his public key $n,e$ for all to see.\n",
      "\n",
      "He computed $n$ from two prime numbers, $p$ and $q$.    $n = p\\cdot q$. \n",
      "\n",
      "He also choose $e$ so that $\\gcd(e,\\phi(n) = 1$, where $\\phi(n)=(p-1)\\cdot (q-1)$.\n",
      "\n",
      "He also computes $d \\equiv e^{-1}\\!\\!\\!\\mod \\phi(n)$, which he will need in step 4.\n",
      "\n",
      "> $p$, $q$ and $d$ are Bob's secrets. "
     ]
    },
    {
     "cell_type": "markdown",
     "metadata": {},
     "source": [
      "> 2 - Alice retrieves Bob's RSA public key, $n, e$.\n",
      "\n"
     ]
    },
    {
     "cell_type": "markdown",
     "metadata": {},
     "source": [
      "> And encrypts $m$ as $c = m^e\\!\\!\\!\\mod n$.  Alice sends $c$ to Bob."
     ]
    },
    {
     "cell_type": "markdown",
     "metadata": {},
     "source": [
      ">3 - Bob decrypts by computing $m \\equiv c^d\\!\\!\\!\\mod n$"
     ]
    },
    {
     "cell_type": "code",
     "collapsed": false,
     "input": [
      "n = 748852188772153499757591737"
     ],
     "language": "python",
     "metadata": {},
     "outputs": []
    },
    {
     "cell_type": "code",
     "collapsed": false,
     "input": [
      "c = 154993874481738770977649196 |mod| n"
     ],
     "language": "python",
     "metadata": {},
     "outputs": [],
     "prompt_number": 14
    },
    {
     "cell_type": "code",
     "collapsed": false,
     "input": [
      "c**e"
     ],
     "language": "python",
     "metadata": {},
     "outputs": [
      {
       "metadata": {},
       "output_type": "pyout",
       "prompt_number": 15,
       "text": [
        "(11080204 mod 748852188772153499757591737)"
       ]
      }
     ],
     "prompt_number": 15
    },
    {
     "cell_type": "code",
     "collapsed": false,
     "input": [
      "from cypari.gen import pari as pari"
     ],
     "language": "python",
     "metadata": {},
     "outputs": [],
     "prompt_number": 16
    },
    {
     "cell_type": "code",
     "collapsed": false,
     "input": [
      "n = pari(748852188772153499757591737)"
     ],
     "language": "python",
     "metadata": {},
     "outputs": [],
     "prompt_number": 17
    },
    {
     "cell_type": "code",
     "collapsed": false,
     "input": [
      "n.factor()"
     ],
     "language": "python",
     "metadata": {},
     "outputs": [
      {
       "metadata": {},
       "output_type": "pyout",
       "prompt_number": 18,
       "text": [
        "[987456473287, 1; 758364757364351, 1]"
       ]
      }
     ],
     "prompt_number": 18
    },
    {
     "cell_type": "code",
     "collapsed": false,
     "input": [
      "n"
     ],
     "language": "python",
     "metadata": {},
     "outputs": [
      {
       "metadata": {},
       "output_type": "pyout",
       "prompt_number": 19,
       "text": [
        "748852188772153499757591737"
       ]
      }
     ],
     "prompt_number": 19
    },
    {
     "cell_type": "markdown",
     "metadata": {},
     "source": [
      "find the length of Prof Saunders public key"
     ]
    },
    {
     "cell_type": "code",
     "collapsed": false,
     "input": [
      "nstring = '2819652760422015729904892439807232547685748784246846443629119262186885440649211743087974428406479'"
     ],
     "language": "python",
     "metadata": {},
     "outputs": [],
     "prompt_number": 20
    },
    {
     "cell_type": "code",
     "collapsed": false,
     "input": [
      "len(nstring)"
     ],
     "language": "python",
     "metadata": {},
     "outputs": [
      {
       "metadata": {},
       "output_type": "pyout",
       "prompt_number": 22,
       "text": [
        "97"
       ]
      }
     ],
     "prompt_number": 22
    },
    {
     "cell_type": "code",
     "collapsed": false,
     "input": [],
     "language": "python",
     "metadata": {},
     "outputs": []
    }
   ],
   "metadata": {}
  }
 ]
}