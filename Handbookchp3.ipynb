{
 "metadata": {
  "name": "",
  "signature": "sha256:b1a59f9e76e43206c7ea66bd7692ae8a94db5d82aae1469cde8cbd4955c3572d"
 },
 "nbformat": 3,
 "nbformat_minor": 0,
 "worksheets": [
  {
   "cells": [
    {
     "cell_type": "code",
     "collapsed": false,
     "input": [
      "from ciphers425 import *"
     ],
     "language": "python",
     "metadata": {},
     "outputs": [],
     "prompt_number": 2
    },
    {
     "cell_type": "code",
     "collapsed": false,
     "input": [
      "M = Message('test')"
     ],
     "language": "python",
     "metadata": {},
     "outputs": [],
     "prompt_number": 7
    },
    {
     "cell_type": "code",
     "collapsed": false,
     "input": [
      "alphabet = M.alphabet"
     ],
     "language": "python",
     "metadata": {},
     "outputs": [],
     "prompt_number": 9
    },
    {
     "cell_type": "code",
     "collapsed": false,
     "input": [
      "S = SubstitutionCipher(alphabet,'LMNPQTUVWXYZHORSEABCDFGIJK')"
     ],
     "language": "python",
     "metadata": {},
     "outputs": [],
     "prompt_number": 10
    },
    {
     "cell_type": "code",
     "collapsed": false,
     "input": [
      "S.alphabet"
     ],
     "language": "python",
     "metadata": {},
     "outputs": [
      {
       "metadata": {},
       "output_type": "pyout",
       "prompt_number": 11,
       "text": [
        "'ABCDEFGHIJKLMNOPQRSTUVWXYZ'"
       ]
      }
     ],
     "prompt_number": 11
    },
    {
     "cell_type": "code",
     "collapsed": false,
     "input": [
      "S.cipheralphabet"
     ],
     "language": "python",
     "metadata": {},
     "outputs": [
      {
       "metadata": {},
       "output_type": "pyout",
       "prompt_number": 14,
       "text": [
        "'LMNPQTUVWXYZHORSEABCDFGIJK'"
       ]
      }
     ],
     "prompt_number": 14
    },
    {
     "cell_type": "code",
     "collapsed": false,
     "input": [
      "S.encrypt('NIGHTMARES')"
     ],
     "language": "python",
     "metadata": {},
     "outputs": [
      {
       "metadata": {},
       "output_type": "pyout",
       "prompt_number": 16,
       "text": [
        "*OWUVCHLAQB*"
       ]
      }
     ],
     "prompt_number": 16
    },
    {
     "cell_type": "code",
     "collapsed": false,
     "input": [
      "S = SubstitutionCipher(alphabet,'XYZMISPABCDEFGHJKLNOQRTUVW')"
     ],
     "language": "python",
     "metadata": {},
     "outputs": [],
     "prompt_number": 17
    },
    {
     "cell_type": "code",
     "collapsed": false,
     "input": [
      "S.encrypt('THE ONE ON THE SCREEN')"
     ],
     "language": "python",
     "metadata": {},
     "outputs": [
      {
       "metadata": {},
       "output_type": "pyout",
       "prompt_number": 18,
       "text": [
        "*OAI HGI HG OAI NZLIIG*"
       ]
      }
     ],
     "prompt_number": 18
    },
    {
     "cell_type": "code",
     "collapsed": false,
     "input": [
      "S = SubstitutionCipher(alphabet,'KLMNQSTUWXYZPROVEBACDFGHIJ')\n",
      "S.encrypt('even monkeys may fall from trees'.upper())"
     ],
     "language": "python",
     "metadata": {},
     "outputs": [
      {
       "metadata": {},
       "output_type": "pyout",
       "prompt_number": 30,
       "text": [
        "*QFQR PORYQIA PKI SKZZ SBOP CBQQA*"
       ]
      }
     ],
     "prompt_number": 30
    },
    {
     "cell_type": "code",
     "collapsed": false,
     "input": [
      "S = SubstitutionCipher(alphabet,'QRSTUVWXYZALMBCDEFGHIJKNOP')\n",
      "S.encrypt('dew knot trussed yore spell chequer'.upper())"
     ],
     "language": "python",
     "metadata": {},
     "outputs": [
      {
       "metadata": {},
       "output_type": "pyout",
       "prompt_number": 32,
       "text": [
        "*TUK ABCH HFIGGUT OCFU GDULL SXUEIUF*"
       ]
      }
     ],
     "prompt_number": 32
    },
    {
     "cell_type": "code",
     "collapsed": false,
     "input": [
      "S = SubstitutionCipher(alphabet,'GHIJKMQRSTUVWXYZNAPOLEBCDF')\n",
      "S.encrypt('NEVER INTERRUPT YOUR ENEMY WHEN HE IS MAKING A MISTAKE'.upper())"
     ],
     "language": "python",
     "metadata": {},
     "outputs": [
      {
       "metadata": {},
       "output_type": "pyout",
       "prompt_number": 34,
       "text": [
        "*XKEKA SXOKAALZO DYLA KXKWD BRKX RK SP WGUSXQ G WSPOGUK*"
       ]
      }
     ],
     "prompt_number": 34
    },
    {
     "cell_type": "code",
     "collapsed": false,
     "input": [],
     "language": "python",
     "metadata": {},
     "outputs": []
    }
   ],
   "metadata": {}
  }
 ]
}