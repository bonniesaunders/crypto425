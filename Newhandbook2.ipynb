{
 "cells": [
  {
   "cell_type": "code",
   "execution_count": 1,
   "metadata": {
    "collapsed": true
   },
   "outputs": [],
   "source": [
    "from ciphers425 import *\n",
    "from test import *"
   ]
  },
  {
   "cell_type": "code",
   "execution_count": 9,
   "metadata": {
    "collapsed": false
   },
   "outputs": [],
   "source": [
    "M = Message('A NEEDLE')"
   ]
  },
  {
   "cell_type": "code",
   "execution_count": 10,
   "metadata": {
    "collapsed": false
   },
   "outputs": [
    {
     "name": "stdout",
     "output_type": "stream",
     "text": [
      "07  20 11 11 10 18 11 \n"
     ]
    }
   ],
   "source": [
    "A = AffineCipher(1,7)\n",
    "print intstring(A.encrypt(M))"
   ]
  },
  {
   "cell_type": "code",
   "execution_count": 12,
   "metadata": {
    "collapsed": false
   },
   "outputs": [
    {
     "name": "stdout",
     "output_type": "stream",
     "text": [
      "20 18 04  00  12 00 19 02 07 18 19 08 02 10 \n",
      "23 21 07  03  15 03 22 05 10 21 22 11 05 13 \n"
     ]
    }
   ],
   "source": [
    "M = Message('USE A MATCHSTICK')\n",
    "print intstring(M)\n",
    "A = AffineCipher(1,3)\n",
    "print intstring(A.encrypt(M))"
   ]
  },
  {
   "cell_type": "code",
   "execution_count": 14,
   "metadata": {
    "collapsed": false
   },
   "outputs": [
    {
     "name": "stdout",
     "output_type": "stream",
     "text": [
      "19 07 04  11 08 01 17 00 17 24 \n",
      "24 12 09  16 13 06 22 05 22 03 \n"
     ]
    }
   ],
   "source": [
    "M = Message('THE LIBRARY')\n",
    "print intstring(M)\n",
    "A = AffineCipher(1,5)\n",
    "print intstring(A.encrypt(M))"
   ]
  },
  {
   "cell_type": "code",
   "execution_count": 15,
   "metadata": {
    "collapsed": false
   },
   "outputs": [
    {
     "name": "stdout",
     "output_type": "stream",
     "text": [
      "00 13 24 22 00 24 \n",
      "06 19 04 02 06 04 \n"
     ]
    }
   ],
   "source": [
    "M = Message('ANYWAY')\n",
    "print intstring(M)\n",
    "A = AffineCipher(1,6)\n",
    "print intstring(A.encrypt(M))"
   ]
  },
  {
   "cell_type": "code",
   "execution_count": 16,
   "metadata": {
    "collapsed": false
   },
   "outputs": [
    {
     "name": "stdout",
     "output_type": "stream",
     "text": [
      "15 08 25 25 00 \n",
      "18 11 02 02 03 \n"
     ]
    }
   ],
   "source": [
    "M = Message('PIZZA')\n",
    "print intstring(M)\n",
    "A = AffineCipher(1,3)\n",
    "print intstring(A.encrypt(M))"
   ]
  },
  {
   "cell_type": "code",
   "execution_count": 17,
   "metadata": {
    "collapsed": false
   },
   "outputs": [
    {
     "name": "stdout",
     "output_type": "stream",
     "text": [
      "19 00 23 08 \n",
      "03 10 07 18 \n"
     ]
    }
   ],
   "source": [
    "M = Message('TAXI')\n",
    "print intstring(M)\n",
    "A = AffineCipher(1,10)\n",
    "print intstring(A.encrypt(M))"
   ]
  },
  {
   "cell_type": "code",
   "execution_count": 18,
   "metadata": {
    "collapsed": false
   },
   "outputs": [
    {
     "name": "stdout",
     "output_type": "stream",
     "text": [
      "15 00 08 17  00  12 04 03 08 02 18 \n",
      "04 15 23 06  15  01 19 18 23 17 07 \n"
     ]
    }
   ],
   "source": [
    "M = Message('PAIR A MEDICS')\n",
    "print intstring(M)\n",
    "A = AffineCipher(1,15)\n",
    "print intstring(A.encrypt(M))"
   ]
  },
  {
   "cell_type": "code",
   "execution_count": 19,
   "metadata": {
    "collapsed": false
   },
   "outputs": [
    {
     "name": "stdout",
     "output_type": "stream",
     "text": [
      "00  06 14 14 18 04 \n",
      "08  14 22 22 00 12 \n"
     ]
    }
   ],
   "source": [
    "M = Message('A GOOSE')\n",
    "print intstring(M)\n",
    "A = AffineCipher(1,8)\n",
    "print intstring(A.encrypt(M))"
   ]
  },
  {
   "cell_type": "code",
   "execution_count": 20,
   "metadata": {
    "collapsed": false
   },
   "outputs": [
    {
     "name": "stdout",
     "output_type": "stream",
     "text": [
      "04 11 04 02 19 17 08 02 08 19 24 \n",
      "14 21 14 12 03 01 18 12 18 03 08 \n"
     ]
    }
   ],
   "source": [
    "M = Message('ELECTRICITY')\n",
    "print intstring(M)\n",
    "A = AffineCipher(1,10)\n",
    "print intstring(A.encrypt(M))"
   ]
  },
  {
   "cell_type": "code",
   "execution_count": 22,
   "metadata": {
    "collapsed": false
   },
   "outputs": [
    {
     "name": "stdout",
     "output_type": "stream",
     "text": [
      "00  22 08 18 04  16 20 00 02 10 04 17 \n",
      "21  17 03 13 25  11 15 21 23 05 25 12 \n"
     ]
    }
   ],
   "source": [
    "M = Message('A WISE QUACKER')\n",
    "print intstring(M)\n",
    "A = AffineCipher(1,21)\n",
    "print intstring(A.encrypt(M))"
   ]
  },
  {
   "cell_type": "code",
   "execution_count": 23,
   "metadata": {
    "collapsed": false
   },
   "outputs": [
    {
     "name": "stdout",
     "output_type": "stream",
     "text": [
      "00 13  20 12 01 17 04 11 11 00 \n",
      "15 02  09 01 16 06 19 00 00 15 \n"
     ]
    }
   ],
   "source": [
    "M = Message('AN UMBRELLA')\n",
    "print intstring(M)\n",
    "A = AffineCipher(1,15)\n",
    "print intstring(A.encrypt(M))"
   ]
  },
  {
   "cell_type": "code",
   "execution_count": 24,
   "metadata": {
    "collapsed": false
   },
   "outputs": [
    {
     "name": "stdout",
     "output_type": "stream",
     "text": [
      "19 08 06 04 17 \n",
      "13 02 00 24 11 \n"
     ]
    }
   ],
   "source": [
    "M = Message('TIGER')\n",
    "print intstring(M)\n",
    "A = AffineCipher(1,20)\n",
    "print intstring(A.encrypt(M))"
   ]
  },
  {
   "cell_type": "code",
   "execution_count": 25,
   "metadata": {
    "collapsed": false
   },
   "outputs": [
    {
     "name": "stdout",
     "output_type": "stream",
     "text": [
      "19 14 15  18 04 02 17 04 19 \n",
      "13 08 09  12 24 22 11 24 13 \n"
     ]
    }
   ],
   "source": [
    "M = Message('TOP SECRET')\n",
    "print intstring(M)\n",
    "A = AffineCipher(1,20)\n",
    "print intstring(A.encrypt(M))"
   ]
  },
  {
   "cell_type": "code",
   "execution_count": 27,
   "metadata": {
    "collapsed": false
   },
   "outputs": [
    {
     "name": "stdout",
     "output_type": "stream",
     "text": [
      "01 20 17 08 04 03  19 17 04 00 18 20 17 04 18 \n",
      "11 04 01 18 14 13  03 01 14 10 02 04 01 14 02 \n"
     ]
    }
   ],
   "source": [
    "M = Message('BURIED TREASURES')\n",
    "print intstring(M)\n",
    "A = AffineCipher(1,10)\n",
    "print intstring(A.encrypt(M))"
   ]
  },
  {
   "cell_type": "code",
   "execution_count": 12,
   "metadata": {
    "collapsed": false
   },
   "outputs": [
    {
     "name": "stdout",
     "output_type": "stream",
     "text": [
      "20 18 04  00  12 00 19 02 07 18 19 08 02 10 \n",
      "23 21 07  03  15 03 22 05 10 21 22 11 05 13 \n"
     ]
    }
   ],
   "source": [
    "M = Message('USE A MATCHSTICK')\n",
    "print intstring(M)\n",
    "A = AffineCipher(1,3)\n",
    "print intstring(A.encrypt(M))"
   ]
  },
  {
   "cell_type": "code",
   "execution_count": 28,
   "metadata": {
    "collapsed": false
   },
   "outputs": [
    {
     "name": "stdout",
     "output_type": "stream",
     "text": [
      "22 07 24  18 14  01 11 20 04 ?\n",
      "08 19 10  04 00  13 23 06 16 ?\n"
     ]
    }
   ],
   "source": [
    "M = Message('WHY SO BLUE?')\n",
    "print intstring(M)\n",
    "A = AffineCipher(1,12)\n",
    "print intstring(A.encrypt(M))"
   ]
  },
  {
   "cell_type": "code",
   "execution_count": 29,
   "metadata": {
    "collapsed": false
   },
   "outputs": [
    {
     "name": "stdout",
     "output_type": "stream",
     "text": [
      "00 13  04 23 07 00 20 18 19 04 03  10 00 13 06 00 17 14 14 \n",
      "10 23  14 07 17 10 04 02 03 14 13  20 10 23 16 10 01 24 24 \n"
     ]
    }
   ],
   "source": [
    "M = Message('AN EXHAUSTED KANGAROO')\n",
    "print intstring(M)\n",
    "A = AffineCipher(1,10)\n",
    "print intstring(A.encrypt(M))"
   ]
  },
  {
   "cell_type": "code",
   "execution_count": 30,
   "metadata": {
    "collapsed": false
   },
   "outputs": [
    {
     "name": "stdout",
     "output_type": "stream",
     "text": [
      "19 14 14  05 00 17  19 14  22 00 11 10 !\n",
      "18 13 13  04 25 16  18 13  21 25 10 09 !\n"
     ]
    }
   ],
   "source": [
    "M = Message('TOO FAR TO WALK!')\n",
    "print intstring(M)\n",
    "A = AffineCipher(1,25)\n",
    "print intstring(A.encrypt(M))"
   ]
  },
  {
   "cell_type": "code",
   "execution_count": 32,
   "metadata": {
    "collapsed": false
   },
   "outputs": [
    {
     "name": "stdout",
     "output_type": "stream",
     "text": [
      "12 00 10 04  00  03 08 05 05 04 17 04 13 02 04  - 18 20 01 19 17 00 02 19 \n",
      "21 09 19 13  09  12 17 14 14 13 00 13 22 11 13  - 01 03 10 02 00 09 11 02 \n"
     ]
    }
   ],
   "source": [
    "M = Message('MAKE A DIFFERENCE - SUBTRACT')\n",
    "print intstring(M)\n",
    "A = AffineCipher(1,9)\n",
    "print intstring(A.encrypt(M))"
   ]
  },
  {
   "cell_type": "code",
   "execution_count": 33,
   "metadata": {
    "collapsed": false
   },
   "outputs": [
    {
     "name": "stdout",
     "output_type": "stream",
     "text": [
      "19 07 04  05 08 17 18 19  19 07 17 04 04  03 08 06 08 19 18  14 05  15 08  00 17 04  19 07 17 04 04  14 13 04  05 14 20 17 \n",
      "05 19 16  17 20 03 04 05  05 19 03 16 16  15 20 18 20 05 04  00 17  01 20  12 03 16  05 19 03 16 16  00 25 16  17 00 06 03 \n"
     ]
    }
   ],
   "source": [
    "M = Message('THE FIRST THREE DIGITS OF PI ARE THREE ONE FOUR')\n",
    "print intstring(M)\n",
    "A = AffineCipher(1,12)\n",
    "print intstring(A.encrypt(M))"
   ]
  },
  {
   "cell_type": "code",
   "execution_count": 34,
   "metadata": {
    "collapsed": false
   },
   "outputs": [
    {
     "name": "stdout",
     "output_type": "stream",
     "text": [
      "03 04 05 08 13 08 04 19 04 11 24 06 14 14 03 19 14 20 18 04 13 20 12 01 04 17 18 05 14 17 18 04 02 17 04 19 12 04 18 18 00 06 04 18 \n",
      "16 17 18 21 00 21 17 06 17 24 11 19 01 01 16 06 01 07 05 17 00 07 25 14 17 04 05 18 01 04 05 17 15 04 17 06 25 17 05 05 13 19 17 05 \n"
     ]
    }
   ],
   "source": [
    "M = Message('DEFINIETELYGOODTOUSENUMBERSFORSECRETMESSAGES')\n",
    "print intstring(M)\n",
    "A = AffineCipher(1,13)\n",
    "print intstring(A.encrypt(M))"
   ]
  },
  {
   "cell_type": "code",
   "execution_count": 53,
   "metadata": {
    "collapsed": false
   },
   "outputs": [
    {
     "name": "stdout",
     "output_type": "stream",
     "text": [
      "13 20 12 01 04 17 18  00 17 04  19 07 04  12 00 18 19 04 17 18 \n",
      "11 18 10 25 02 15 16  24 15 02  17 05 02  10 24 16 17 02 15 16 \n"
     ]
    }
   ],
   "source": [
    "M = Message('NUMBERS ARE THE MASTERS')\n",
    "print intstring(M)\n",
    "A = AffineCipher(1,24)\n",
    "print intstring(A.encrypt(M))"
   ]
  },
  {
   "cell_type": "code",
   "execution_count": 54,
   "metadata": {
    "collapsed": false
   },
   "outputs": [
    {
     "name": "stdout",
     "output_type": "stream",
     "text": [
      "14 05  19 07 04  22 04 00 10 , 01 20 19  19 07 04 \n",
      "12 03  17 05 02  20 02 24 08 , 25 18 17  17 05 02 \n"
     ]
    }
   ],
   "source": [
    "M = Message('OF THE WEAK, BUT THE')\n",
    "print intstring(M)\n",
    "A = AffineCipher(1,24)\n",
    "print intstring(A.encrypt(M))"
   ]
  },
  {
   "cell_type": "code",
   "execution_count": 55,
   "metadata": {
    "collapsed": false
   },
   "outputs": [
    {
     "name": "stdout",
     "output_type": "stream",
     "text": [
      "18 11 00 21 04 18  14 05  19 07 04  18 19 17 14 13 06 .\n",
      "16 09 24 19 02 16  12 03  17 05 02  16 17 15 12 11 04 .\n"
     ]
    }
   ],
   "source": [
    "M = Message('SLAVES OF THE STRONG.')\n",
    "print intstring(M)\n",
    "A = AffineCipher(1,24)\n",
    "print intstring(A.encrypt(M))"
   ]
  },
  {
   "cell_type": "code",
   "execution_count": 56,
   "metadata": {
    "collapsed": false
   },
   "outputs": [
    {
     "name": "stdout",
     "output_type": "stream",
     "text": [
      " - 02 07 00 17 11 04 18  01 00 01 01 00 06 04 \n",
      " - 00 05 24 15 09 02 16  25 24 25 25 24 04 02 \n"
     ]
    }
   ],
   "source": [
    "M = Message(' - CHARLES BABBAGE')\n",
    "print intstring(M)\n",
    "A = AffineCipher(1,24)\n",
    "print intstring(A.encrypt(M))"
   ]
  },
  {
   "cell_type": "code",
   "execution_count": 46,
   "metadata": {
    "collapsed": false
   },
   "outputs": [
    {
     "name": "stdout",
     "output_type": "stream",
     "text": [
      "22 07 04 13  24 14 20  07 00 21 04  12 00 18 19 04 17 04 03 \n",
      "01 12 09 18  03 19 25  12 05 00 09  17 05 23 24 09 22 09 08 \n"
     ]
    }
   ],
   "source": [
    "M = Message('WHEN YOU HAVE MASTERED')\n",
    "print intstring(M)\n",
    "A = AffineCipher(1,5)\n",
    "print intstring(A.encrypt(M))"
   ]
  },
  {
   "cell_type": "code",
   "execution_count": 47,
   "metadata": {
    "collapsed": false
   },
   "outputs": [
    {
     "name": "stdout",
     "output_type": "stream",
     "text": [
      " 13 20 12 01 04 17 18 , 24 14 20  22 08 11 11  08 13  05 00 02 19  \n",
      " 18 25 17 06 09 22 23 , 03 19 25  01 13 16 16  13 18  10 05 07 24  \n"
     ]
    }
   ],
   "source": [
    "M = Message(' NUMBERS, YOU WILL IN FACT ')\n",
    "print intstring(M)\n",
    "A = AffineCipher(1,5)\n",
    "print intstring(A.encrypt(M))"
   ]
  },
  {
   "cell_type": "code",
   "execution_count": 48,
   "metadata": {
    "collapsed": false
   },
   "outputs": [
    {
     "name": "stdout",
     "output_type": "stream",
     "text": [
      "13 14  11 14 13 06 04 17  01 04  17 04 00 03 08 13 06 \n",
      "18 19  16 19 18 11 09 22  06 09  22 09 05 08 13 18 11 \n"
     ]
    }
   ],
   "source": [
    "M = Message('NO LONGER BE READING')\n",
    "print intstring(M)\n",
    "A = AffineCipher(1,5)\n",
    "print intstring(A.encrypt(M))"
   ]
  },
  {
   "cell_type": "code",
   "execution_count": 49,
   "metadata": {
    "collapsed": false
   },
   "outputs": [
    {
     "name": "stdout",
     "output_type": "stream",
     "text": [
      "13 20 12 01 04 17 18 , 00 13 24 12 14 17 04  19 07 00 13  24 14 20  \n",
      "18 25 17 06 09 22 23 , 05 18 03 17 19 22 09  24 12 05 18  03 19 25  \n"
     ]
    }
   ],
   "source": [
    "M = Message('NUMBERS, ANYMORE THAN YOU ')\n",
    "print intstring(M)\n",
    "A = AffineCipher(1,5)\n",
    "print intstring(A.encrypt(M))"
   ]
  },
  {
   "cell_type": "code",
   "execution_count": 50,
   "metadata": {
    "collapsed": false
   },
   "outputs": [
    {
     "name": "stdout",
     "output_type": "stream",
     "text": [
      "17 04 00 03  22 14 17 03 18  22 07 04 13  17 04 00 03 08 13 06 \n",
      "22 09 05 08  01 19 22 08 23  01 12 09 18  22 09 05 08 13 18 11 \n"
     ]
    }
   ],
   "source": [
    "M = Message('READ WORDS WHEN READING')\n",
    "print intstring(M)\n",
    "A = AffineCipher(1,5)\n",
    "print intstring(A.encrypt(M))"
   ]
  },
  {
   "cell_type": "code",
   "execution_count": 51,
   "metadata": {
    "collapsed": false
   },
   "outputs": [
    {
     "name": "stdout",
     "output_type": "stream",
     "text": [
      "01 14 14 10 18 .  24 14 20  22 08 11 11  01 04  17 04 00 03 08 13 06 \n",
      "06 19 19 15 23 .  03 19 25  01 13 16 16  06 09  22 09 05 08 13 18 11 \n"
     ]
    }
   ],
   "source": [
    "M = Message('BOOKS.  YOU WILL BE READING')\n",
    "print intstring(M)\n",
    "A = AffineCipher(1,5)\n",
    "print intstring(A.encrypt(M))"
   ]
  },
  {
   "cell_type": "code",
   "execution_count": 52,
   "metadata": {
    "collapsed": false
   },
   "outputs": [
    {
     "name": "stdout",
     "output_type": "stream",
     "text": [
      "12 04 00 13 08 13 06 18 . - 22 .04 .01 . 03 20  01 14 08 18 \n",
      "17 09 05 18 13 18 11 23 . - 01 .09 .06 . 08 25  06 19 13 23 \n"
     ]
    }
   ],
   "source": [
    "M = Message('MEANINGS. - W.E.B. DU BOIS')\n",
    "print intstring(M)\n",
    "A = AffineCipher(1,5)\n",
    "print intstring(A.encrypt(M))"
   ]
  },
  {
   "cell_type": "markdown",
   "metadata": {
    "collapsed": true
   },
   "source": [
    "\n"
   ]
  }
 ],
 "metadata": {
  "kernelspec": {
   "display_name": "Python 2",
   "language": "python",
   "name": "python2"
  },
  "language_info": {
   "codemirror_mode": {
    "name": "ipython",
    "version": 2
   },
   "file_extension": ".py",
   "mimetype": "text/x-python",
   "name": "python",
   "nbconvert_exporter": "python",
   "pygments_lexer": "ipython2",
   "version": "2.7.10"
  }
 },
 "nbformat": 4,
 "nbformat_minor": 0
}
