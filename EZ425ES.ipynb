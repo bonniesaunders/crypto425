{
 "metadata": {
  "name": "",
  "signature": "sha256:e0e153748ce48b1a03ee721a4d68f26672dfa13594ec05e8540906897f37b912"
 },
 "nbformat": 3,
 "nbformat_minor": 0,
 "worksheets": [
  {
   "cells": [
    {
     "cell_type": "markdown",
     "metadata": {},
     "source": [
      "To decrypt a message:  first, decrypt the key with your private rsa key; then decyrpt the message with XOR425 using that key."
     ]
    },
    {
     "cell_type": "code",
     "collapsed": false,
     "input": [
      "cd crypto425/"
     ],
     "language": "python",
     "metadata": {},
     "outputs": [
      {
       "output_type": "stream",
       "stream": "stdout",
       "text": [
        "/Users/saunders/python/crypto425\n"
       ]
      }
     ],
     "prompt_number": 1
    },
    {
     "cell_type": "code",
     "collapsed": false,
     "input": [
      "from EZ425ES import *\n",
      "%load EZ425ES"
     ],
     "language": "python",
     "metadata": {},
     "outputs": [],
     "prompt_number": 2
    },
    {
     "cell_type": "code",
     "collapsed": false,
     "input": [
      "from ciphers425 import *\n",
      "from cypari.gen import pari\n",
      "\n",
      "def number_to_string(number):\n",
      "    '''Represents the number in base 16 and converts 2-digits to ascii code character.\n",
      "An '0' is placed in front of the hexstring if otherwise it would have an odd number\n",
      "of digits.\n",
      "'''\n",
      "    hexstring = hex(number)\n",
      "    ndigits = len(hexstring)-2\n",
      "    if hexstring[-1]=='L': ndigits -= 1\n",
      "    hexstring = hexstring[2:2+ndigits]\n",
      "    if ndigits%2 is not 0:\n",
      "        hexstring = '0'+hexstring\n",
      "        ndigits += 1\n",
      "    return ''.join( [chr(int(hexstring[x:x+2],16)) for x in range(0,ndigits,2)] )\n",
      "\n",
      "n2s = number_to_string\n",
      "\n",
      "def string_to_number(string):\n",
      "    '''Each character in the string is replaced by it's ascii 2-hexdigit code.\n",
      "The resulting long string is interrupted as an hexadeciaml number and returned as an integer.\n",
      "'''\n",
      "    return int(string.encode('hex'),16)\n",
      "\n",
      "s2n = string_to_number\n",
      "\n",
      "def hash425(string):\n",
      "    return sum([ ord(char) for char in string ])%10000\n",
      "\n",
      "def XOR425(key,string):\n",
      "    '''The string is xor'd with the key in chunks of length of the key.\n",
      "Extra spaces at the end are filled in with blank spaces'''\n",
      "    if isinstance(key, int) or isinstance(key, long):\n",
      "        k = key\n",
      "        n = 16\n",
      "    else:\n",
      "        n = len(key)\n",
      "        k = int(key.encode('hex'),16)\n",
      "    extra = len(string) % n\n",
      "    if extra is not 0: s = string + ' '*(n-extra)\n",
      "    else: s = string\n",
      "    encrypted = ''\n",
      "    for x in range(0,len(s),n):\n",
      "        encrypted += n2s(k^s2n(s[x:x+n]))\n",
      "    return encrypted\n",
      "\n",
      "##def XOR2(key,string):\n",
      "##    if isinstance(key, int) or isinstance(key, long):\n",
      "##        k = key\n",
      "##        n = 16\n",
      "##    else:\n",
      "##        n = len(key)\n",
      "##        k = int(key.encode('hex'),16)\n",
      "##    extra = len(string) % n\n",
      "##    if extra is not 0: s = string + ' '*(n-extra)\n",
      "##    else: s = string\n",
      "##    #print 'k = ', k\n",
      "##    encrypted = ''\n",
      "##    for x in range(0,len(s),n):\n",
      "##        #print n, s[x:x+n]\n",
      "##        enc_n = hex(k^( int(s[x:x+n].encode('hex'),16) ))[2:2*n+2]\n",
      "##        #print enc_n\n",
      "##        encrypted += ''.join( [ chr(int(enc_n[x:x+2],16)) for x in range(0,2*n,2) ] )\n",
      "##    return encrypted\n",
      "\n"
     ],
     "language": "python",
     "metadata": {},
     "outputs": []
    },
    {
     "cell_type": "code",
     "collapsed": false,
     "input": [
      "help(XOR425)"
     ],
     "language": "python",
     "metadata": {},
     "outputs": [
      {
       "output_type": "stream",
       "stream": "stdout",
       "text": [
        "Help on function XOR425 in module EZ425ES:\n",
        "\n",
        "XOR425(key, string)\n",
        "    The string is xor'd with the key in chunks of length of the key.\n",
        "    Extra spaces at the end are filled in with blank spaces\n",
        "\n"
       ]
      }
     ],
     "prompt_number": 5
    },
    {
     "cell_type": "code",
     "collapsed": false,
     "input": [
      "encryptedkey = 155452504669377111480016032316315068575 |mod| 171703881731877999085251840121897918321"
     ],
     "language": "python",
     "metadata": {},
     "outputs": [],
     "prompt_number": 3
    },
    {
     "cell_type": "code",
     "collapsed": false,
     "input": [
      "encryptedkey"
     ],
     "language": "python",
     "metadata": {},
     "outputs": [
      {
       "metadata": {},
       "output_type": "pyout",
       "prompt_number": 4,
       "text": [
        "(155452504669377111480016032316315068575 mod 171703881731877999085251840121897918321)"
       ]
      }
     ],
     "prompt_number": 4
    },
    {
     "cell_type": "code",
     "collapsed": false,
     "input": [
      "d =  125138030049255466408126330315464467671"
     ],
     "language": "python",
     "metadata": {},
     "outputs": [],
     "prompt_number": 5
    },
    {
     "cell_type": "code",
     "collapsed": false,
     "input": [
      "key = encryptedkey**d"
     ],
     "language": "python",
     "metadata": {},
     "outputs": [],
     "prompt_number": 7
    },
    {
     "cell_type": "code",
     "collapsed": false,
     "input": [
      "key.lift()"
     ],
     "language": "python",
     "metadata": {},
     "outputs": [
      {
       "metadata": {},
       "output_type": "pyout",
       "prompt_number": 8,
       "text": [
        "153403275977492484219253438047609778977L"
       ]
      }
     ],
     "prompt_number": 8
    },
    {
     "cell_type": "code",
     "collapsed": false,
     "input": [
      "string='$\\x00\\x04\\x06L\\x0b\\x0cKY\\x07\\x1aL\\x00\\x04\\x18DS\\x07\\x03R\\x05\\x1bC#O\\x04\\x02\\t\\x1eZSh\\x07H\\x0c\\x01L\\x00\\x01\\x1dI\\x07\\x1a\\x1f\\x01\\x1cS@\\x1dH\\x04\\x06\\x18\\n\\x0e\\x1bTH\\x1b\\x03M\\x06\\x1cO\\x05\\r\\x1cR\\x1f\\n\\x00\\x19E\\x1cO\\x05\\x03\\x03\\x1cS\\x1e\\t\\x11\\x1b\\x03\\x01MKb\\x1d\\x1bL\\x1a\\r\\x12US\\x01\\x16R\\x18\\x07\\x06KU\\x1b\\nL\\x02\\x03S@S\\x0b\\x0c\\x02\\x04\\n\\x11KM\\r\\x1c\\x1f\\x0c\\x02\\x16\\x01\\x1a\\x0eE\\x06\\x04\\n\\x11\\x0e\\x00\\x01\\x1cL\\x03\\n\\x07\\x01\\x12H\\x06\\x1b\\x1c\\x07\\x06\\x19\\x1fHOLMES\\x01'"
     ],
     "language": "python",
     "metadata": {},
     "outputs": [],
     "prompt_number": 10
    },
    {
     "cell_type": "code",
     "collapsed": false,
     "input": [
      "XOR425(key.lift(),string)"
     ],
     "language": "python",
     "metadata": {},
     "outputs": [
      {
       "metadata": {},
       "output_type": "pyout",
       "prompt_number": 11,
       "text": [
        "'What do you make of it Holmes? It is obviously an attempt to convey secret information. But what is the use of a cipher message if there is not a cipher?       '"
       ]
      }
     ],
     "prompt_number": 11
    },
    {
     "cell_type": "code",
     "collapsed": false,
     "input": [
      "n2s(key.lift())"
     ],
     "language": "python",
     "metadata": {},
     "outputs": [
      {
       "metadata": {},
       "output_type": "pyout",
       "prompt_number": 12,
       "text": [
        "'sherlock holmes!'"
       ]
      }
     ],
     "prompt_number": 12
    },
    {
     "cell_type": "markdown",
     "metadata": {},
     "source": [
      "Explain why the last characters of the encrypted message are HOLMES\\x01"
     ]
    },
    {
     "cell_type": "code",
     "collapsed": false,
     "input": [],
     "language": "python",
     "metadata": {},
     "outputs": []
    }
   ],
   "metadata": {}
  }
 ]
}