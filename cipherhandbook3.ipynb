{
 "metadata": {
  "name": "",
  "signature": "sha256:8f6eb1eaac57dbf126ad191ba5ff701d7e136f91d56eaeb64e8a4a465cc2d05d"
 },
 "nbformat": 3,
 "nbformat_minor": 0,
 "worksheets": [
  {
   "cells": [
    {
     "cell_type": "code",
     "collapsed": false,
     "input": [
      "from ciphers425 import *\n",
      "from test import *"
     ],
     "language": "python",
     "metadata": {},
     "outputs": [],
     "prompt_number": 2
    },
    {
     "cell_type": "code",
     "collapsed": false,
     "input": [
      "M = Message('WEDNESDAY SUNDAY')\n",
      "A = AffineCipher(3,0)\n",
      "print M\n",
      "print intstring(A.encrypt(M))"
     ],
     "language": "python",
     "metadata": {},
     "outputs": [
      {
       "output_type": "stream",
       "stream": "stdout",
       "text": [
        "WEDNESDAY SUNDAY\n",
        "14 12 09 13 12 02 09 00 20  02 08 13 09 00 20 \n"
       ]
      }
     ],
     "prompt_number": 5
    },
    {
     "cell_type": "code",
     "collapsed": false,
     "input": [
      "M = Message('MONDAY FRIDAY')\n",
      "A = AffineCipher(3,0)\n",
      "print M\n",
      "print intstring(A.encrypt(M))"
     ],
     "language": "python",
     "metadata": {},
     "outputs": [
      {
       "output_type": "stream",
       "stream": "stdout",
       "text": [
        "MONDAY FRIDAY\n",
        "10 16 13 09 00 20  15 25 24 09 00 20 \n"
       ]
      }
     ],
     "prompt_number": 6
    },
    {
     "cell_type": "code",
     "collapsed": false,
     "input": [
      "M = Message('THURSDAY SATURDAY')\n",
      "A = AffineCipher(3,0)\n",
      "print M\n",
      "print intstring(A.encrypt(M))"
     ],
     "language": "python",
     "metadata": {},
     "outputs": [
      {
       "output_type": "stream",
       "stream": "stdout",
       "text": [
        "THURSDAY SATURDAY\n",
        "05 21 08 25 02 09 00 20  02 00 05 08 25 09 00 20 \n"
       ]
      }
     ],
     "prompt_number": 7
    },
    {
     "cell_type": "code",
     "collapsed": false,
     "input": [
      "M = Message('TUESDAY')\n",
      "A = AffineCipher(3,0)\n",
      "print M\n",
      "print intstring(A.encrypt(M))"
     ],
     "language": "python",
     "metadata": {},
     "outputs": [
      {
       "output_type": "stream",
       "stream": "stdout",
       "text": [
        "TUESDAY\n",
        "05 08 12 02 09 00 20 \n"
       ]
      }
     ],
     "prompt_number": 8
    },
    {
     "cell_type": "code",
     "collapsed": false,
     "input": [
      "M = Message('THIS TABLE HAS A')\n",
      "A = AffineCipher(3,0)\n",
      "print M\n",
      "print intstring(A.encrypt(M))"
     ],
     "language": "python",
     "metadata": {},
     "outputs": [
      {
       "output_type": "stream",
       "stream": "stdout",
       "text": [
        "THIS TABLE HAS A\n",
        "05 21 24 02  05 00 03 07 12  21 00 02  00 \n"
       ]
      }
     ],
     "prompt_number": 9
    },
    {
     "cell_type": "code",
     "collapsed": false,
     "input": [
      "M = Message('PATTERN LEFT TO')\n",
      "A = AffineCipher(3,0)\n",
      "print M\n",
      "print intstring(A.encrypt(M))"
     ],
     "language": "python",
     "metadata": {},
     "outputs": [
      {
       "output_type": "stream",
       "stream": "stdout",
       "text": [
        "PATTERN LEFT TO\n",
        "19 00 05 05 12 25 13  07 12 15 05  05 16 \n"
       ]
      }
     ],
     "prompt_number": 10
    },
    {
     "cell_type": "code",
     "collapsed": false,
     "input": [
      "M = Message('RIGHT AND ANOTHER')\n",
      "A = AffineCipher(3,0)\n",
      "print M\n",
      "print intstring(A.encrypt(M))"
     ],
     "language": "python",
     "metadata": {},
     "outputs": [
      {
       "output_type": "stream",
       "stream": "stdout",
       "text": [
        "RIGHT AND ANOTHER\n",
        "25 24 18 21 05  00 13 09  00 13 16 05 21 12 25 \n"
       ]
      }
     ],
     "prompt_number": 12
    },
    {
     "cell_type": "code",
     "collapsed": false,
     "input": [
      "M = Message('TOP TO BOTTOM')\n",
      "A = AffineCipher(3,0)\n",
      "print M\n",
      "print intstring(A.encrypt(M))"
     ],
     "language": "python",
     "metadata": {},
     "outputs": [
      {
       "output_type": "stream",
       "stream": "stdout",
       "text": [
        "TOP TO BOTTOM\n",
        "05 16 19  05 16  03 16 05 05 16 10 \n"
       ]
      }
     ],
     "prompt_number": 11
    },
    {
     "cell_type": "code",
     "collapsed": false,
     "input": [
      "M = Message('DECEMBER')\n",
      "A = AffineCipher(3,0)\n",
      "print M\n",
      "print intstring(M)\n",
      "print intstring(A.encrypt(M))\n",
      "print A.encrypt(M)"
     ],
     "language": "python",
     "metadata": {},
     "outputs": [
      {
       "output_type": "stream",
       "stream": "stdout",
       "text": [
        "DECEMBER\n",
        "03 04 02 04 12 01 04 17 \n",
        "09 12 06 12 10 03 12 25 \n",
        "JMGMKDMZ\n"
       ]
      }
     ],
     "prompt_number": 8
    },
    {
     "cell_type": "code",
     "collapsed": false,
     "input": [
      "M = Message('OCTOBER')\n",
      "A = AffineCipher(3,0)\n",
      "print M\n",
      "print intstring(M)\n",
      "print intstring(A.encrypt(M))\n",
      "print A.encrypt(M)"
     ],
     "language": "python",
     "metadata": {},
     "outputs": [
      {
       "output_type": "stream",
       "stream": "stdout",
       "text": [
        "OCTOBER\n",
        "14 02 19 14 01 04 17 \n",
        "16 06 05 16 03 12 25 \n",
        "QGFQDMZ\n"
       ]
      }
     ],
     "prompt_number": 6
    },
    {
     "cell_type": "code",
     "collapsed": false,
     "input": [
      "M = Message('MAY')\n",
      "A = AffineCipher(5,0)\n",
      "print M\n",
      "print intstring(M)\n",
      "print intstring(A.encrypt(M))\n",
      "print A.encrypt(M)"
     ],
     "language": "python",
     "metadata": {},
     "outputs": [
      {
       "output_type": "stream",
       "stream": "stdout",
       "text": [
        "MAY\n",
        "12 00 24 \n",
        "08 00 16 \n",
        "IAQ\n"
       ]
      }
     ],
     "prompt_number": 9
    },
    {
     "cell_type": "code",
     "collapsed": false,
     "input": [
      "M = Message('COTTON CANDY')\n",
      "A = AffineCipher(15,0)\n",
      "print M\n",
      "print intstring(M)\n",
      "print intstring(A.encrypt(M))\n",
      "print A.encrypt(M)"
     ],
     "language": "python",
     "metadata": {},
     "outputs": [
      {
       "output_type": "stream",
       "stream": "stdout",
       "text": [
        "COTTON CANDY\n",
        "02 14 19 19 14 13  02 00 13 03 24 \n",
        "04 02 25 25 02 13  04 00 13 19 22 \n",
        "ECZZCN EANTW\n"
       ]
      }
     ],
     "prompt_number": 10
    },
    {
     "cell_type": "code",
     "collapsed": false,
     "input": [
      "M = Message('ABCDEFGHIJKLMNOPQRSTUVWXYZ')\n",
      "A = AffineCipher(5,0)\n",
      "print M\n",
      "print intstring(M)\n",
      "print intstring(A.encrypt(M))\n",
      "print A.encrypt(M)"
     ],
     "language": "python",
     "metadata": {},
     "outputs": [
      {
       "output_type": "stream",
       "stream": "stdout",
       "text": [
        "ABCDEFGHIJKLMNOPQRSTUVWXYZ\n",
        "00 01 02 03 04 05 06 07 08 09 10 11 12 13 14 15 16 17 18 19 20 21 22 23 24 25 \n",
        "00 05 10 15 20 25 04 09 14 19 24 03 08 13 18 23 02 07 12 17 22 01 06 11 16 21 \n",
        "AFKPUZEJOTYDINSXCHMRWBGLQV\n"
       ]
      }
     ],
     "prompt_number": 11
    },
    {
     "cell_type": "code",
     "collapsed": false,
     "input": [
      "M = Message('SOCCER FOOTBALL')\n",
      "A = AffineCipher(5,0)\n",
      "print M\n",
      "#print intstring(M)\n",
      "print intstring(A.encrypt(M))\n",
      "print A.encrypt(M)"
     ],
     "language": "python",
     "metadata": {},
     "outputs": [
      {
       "output_type": "stream",
       "stream": "stdout",
       "text": [
        "SOCCER FOOTBALL\n",
        "12 18 10 10 20 07  25 18 18 17 05 00 03 03 \n",
        "MSKKUH ZSSRFADD\n"
       ]
      }
     ],
     "prompt_number": 15
    },
    {
     "cell_type": "code",
     "collapsed": false,
     "input": [
      "M = Message('ABCDEFGHIJKLMNOPQRSTUVWXYZ')\n",
      "A = AffineCipher(7,0)\n",
      "print M\n",
      "print intstring(M)\n",
      "print intstring(A.encrypt(M))\n",
      "print A.encrypt(M)"
     ],
     "language": "python",
     "metadata": {},
     "outputs": [
      {
       "output_type": "stream",
       "stream": "stdout",
       "text": [
        "ABCDEFGHIJKLMNOPQRSTUVWXYZ\n",
        "00 01 02 03 04 05 06 07 08 09 10 11 12 13 14 15 16 17 18 19 20 21 22 23 24 25 \n",
        "00 07 14 21 02 09 16 23 04 11 18 25 06 13 20 01 08 15 22 03 10 17 24 05 12 19 \n",
        "AHOVCJQXELSZGNUBIPWDKRYFMT\n"
       ]
      }
     ],
     "prompt_number": 12
    },
    {
     "cell_type": "code",
     "collapsed": false,
     "input": [
      "M = Message(\"WHEN IT'S A JAR\")\n",
      "A = AffineCipher(7,0)\n",
      "print M\n",
      "#print intstring(M)\n",
      "#print intstring(A.encrypt(M))\n",
      "print A.encrypt(M)"
     ],
     "language": "python",
     "metadata": {},
     "outputs": [
      {
       "output_type": "stream",
       "stream": "stdout",
       "text": [
        "WHEN IT'S A JAR\n",
        "YXCN ED'W A LAP\n"
       ]
      }
     ],
     "prompt_number": 16
    },
    {
     "cell_type": "code",
     "collapsed": false,
     "input": [
      "M = Message(\"A GARBAGE TRUCK\")\n",
      "A = AffineCipher(3,0)\n",
      "print M\n",
      "#print intstring(M)\n",
      "print intstring(A.encrypt(M))\n",
      "#print A.encrypt(M)"
     ],
     "language": "python",
     "metadata": {},
     "outputs": [
      {
       "output_type": "stream",
       "stream": "stdout",
       "text": [
        "A GARBAGE TRUCK\n",
        "00  18 00 25 03 00 18 12  05 25 08 06 04 \n"
       ]
      }
     ],
     "prompt_number": 19
    },
    {
     "cell_type": "code",
     "collapsed": false,
     "input": [
      "M = Message('ABCDEFGHIJKLMNOPQRSTUVWXYZ')\n",
      "A = AffineCipher(2,0)\n",
      "print M\n",
      "print intstring(M)\n",
      "print intstring(A.encrypt(M))\n",
      "print A.encrypt(M)"
     ],
     "language": "python",
     "metadata": {},
     "outputs": [
      {
       "output_type": "stream",
       "stream": "stdout",
       "text": [
        "ABCDEFGHIJKLMNOPQRSTUVWXYZ\n",
        "00 01 02 03 04 05 06 07 08 09 10 11 12 13 14 15 16 17 18 19 20 21 22 23 24 25 \n",
        "00 02 04 06 08 10 12 14 16 18 20 22 24 00 02 04 06 08 10 12 14 16 18 20 22 24 \n",
        "ACEGIKMOQSUWYACEGIKMOQSUWY\n"
       ]
      }
     ],
     "prompt_number": 20
    },
    {
     "cell_type": "code",
     "collapsed": false,
     "input": [
      "M = Message('sues furs shes surf fues').upper()\n",
      "A = AffineCipher(2,0)\n",
      "print M\n",
      "print intstring(M)\n",
      "print intstring(A.encrypt(M))\n",
      "print A.encrypt(M)"
     ],
     "language": "python",
     "metadata": {},
     "outputs": [
      {
       "output_type": "stream",
       "stream": "stdout",
       "text": [
        "SUES FURS SHES SURF FUES\n",
        "18 20 04 18  05 20 17 18  18 07 04 18  18 20 17 05  05 20 04 18 \n",
        "10 14 08 10  10 14 08 10  10 14 08 10  10 14 08 10  10 14 08 10 \n",
        "KOIK KOIK KOIK KOIK KOIK\n"
       ]
      }
     ],
     "prompt_number": 22
    },
    {
     "cell_type": "code",
     "collapsed": false,
     "input": [
      "M = Message('SUCCESS')\n",
      "A = AffineCipher(15,0)\n",
      "print M\n",
      "print intstring(M)\n",
      "print intstring(A.encrypt(M))\n",
      "print A.encrypt(M)"
     ],
     "language": "python",
     "metadata": {},
     "outputs": [
      {
       "output_type": "stream",
       "stream": "stdout",
       "text": [
        "SUCCESS\n",
        "18 20 02 02 04 18 18 \n",
        "10 14 04 04 08 10 10 \n",
        "KOEEIKK\n"
       ]
      }
     ],
     "prompt_number": 23
    },
    {
     "cell_type": "code",
     "collapsed": false,
     "input": [
      "M = Message('fish and ships').upper()\n",
      "A = AffineCipher(11,0)\n",
      "print M\n",
      "print intstring(M)\n",
      "print intstring(A.encrypt(M))\n",
      "print A.encrypt(M)"
     ],
     "language": "python",
     "metadata": {},
     "outputs": [
      {
       "output_type": "stream",
       "stream": "stdout",
       "text": [
        "FISH AND SHIPS\n",
        "05 08 18 07  00 13 03  18 07 08 15 18 \n",
        "03 10 16 25  00 13 07  16 25 10 09 16 \n",
        "DKQZ ANH QZKJQ\n"
       ]
      }
     ],
     "prompt_number": 24
    },
    {
     "cell_type": "code",
     "collapsed": false,
     "input": [
      "M = Message('to become a smartie').upper()\n",
      "A = AffineCipher(9,0)\n",
      "print M\n",
      "print intstring(M)\n",
      "print intstring(A.encrypt(M))\n",
      "print A.encrypt(M)"
     ],
     "language": "python",
     "metadata": {},
     "outputs": [
      {
       "output_type": "stream",
       "stream": "stdout",
       "text": [
        "TO BECOME A SMARTIE\n",
        "19 14  01 04 02 14 12 04  00  18 12 00 17 19 08 04 \n",
        "15 22  09 10 18 22 04 10  00  06 04 00 23 15 20 10 \n",
        "PW JKSWEK A GEAXPUK\n"
       ]
      }
     ],
     "prompt_number": 25
    },
    {
     "cell_type": "code",
     "collapsed": false,
     "input": [
      "M = Message(\"it's not right\").upper()\n",
      "A = AffineCipher(25,0)\n",
      "print M\n",
      "print intstring(M)\n",
      "print intstring(A.encrypt(M))\n",
      "print A.encrypt(M)"
     ],
     "language": "python",
     "metadata": {},
     "outputs": [
      {
       "output_type": "stream",
       "stream": "stdout",
       "text": [
        "IT'S NOT RIGHT\n",
        "08 19 '18  13 14 19  17 08 06 07 19 \n",
        "18 07 '08  13 12 07  09 18 20 19 07 \n",
        "SH'I NMH JSUTH\n"
       ]
      }
     ],
     "prompt_number": 28
    },
    {
     "cell_type": "code",
     "collapsed": false,
     "input": [],
     "language": "python",
     "metadata": {},
     "outputs": []
    },
    {
     "cell_type": "code",
     "collapsed": false,
     "input": [
      "m = Message('Canton, ky')\n",
      "A = AffineCipher(9,0)\n",
      "M = m.upper()\n",
      "print intstring(M)\n",
      "print m\n",
      "print A.encrypt(M)\n",
      "print intstring(A.encrypt(M))"
     ],
     "language": "python",
     "metadata": {},
     "outputs": [
      {
       "output_type": "stream",
       "stream": "stdout",
       "text": [
        "02 00 13 19 14 13 , 10 24 \n",
        "Canton, ky\n",
        "SANPWN, MI\n",
        "18 00 13 15 22 13 , 12 08 \n"
       ]
      }
     ],
     "prompt_number": 31
    },
    {
     "cell_type": "code",
     "collapsed": false,
     "input": [
      "m = Message('Billings, OK')\n",
      "A = AffineCipher(21,0)\n",
      "M = m.upper()\n",
      "print intstring(M)\n",
      "print m\n",
      "print A.encrypt(M)\n",
      "print intstring(A.encrypt(M))"
     ],
     "language": "python",
     "metadata": {},
     "outputs": [
      {
       "output_type": "stream",
       "stream": "stdout",
       "text": [
        "01 08 11 11 08 13 06 18 , 14 10 \n",
        "Billings, OK\n",
        "VMXXMNWO, IC\n",
        "21 12 23 23 12 13 22 14 , 08 02 \n"
       ]
      }
     ],
     "prompt_number": 33
    },
    {
     "cell_type": "code",
     "collapsed": false,
     "input": [
      "m = Message('Springfield, MO')\n",
      "A = AffineCipher(9,0)\n",
      "M = m.upper()\n",
      "print intstring(M)\n",
      "print m\n",
      "print A.encrypt(M)\n",
      "print intstring(A.encrypt(M))"
     ],
     "language": "python",
     "metadata": {},
     "outputs": [
      {
       "output_type": "stream",
       "stream": "stdout",
       "text": [
        "18 15 17 08 13 06 05 08 04 11 03 , 12 14 \n",
        "Springfield, MO\n",
        "GFXUNCTUKVB, EW\n",
        "06 05 23 20 13 02 19 20 10 21 01 , 04 22 \n"
       ]
      }
     ],
     "prompt_number": 34
    },
    {
     "cell_type": "code",
     "collapsed": false,
     "input": [
      "m = Message('Salem, WV')\n",
      "A = AffineCipher(15,0)\n",
      "M = m.upper()\n",
      "print intstring(M)\n",
      "print m\n",
      "print A.encrypt(M)\n",
      "print intstring(A.encrypt(M))"
     ],
     "language": "python",
     "metadata": {},
     "outputs": [
      {
       "output_type": "stream",
       "stream": "stdout",
       "text": [
        "18 00 11 04 12 , 22 21 \n",
        "Salem, WV\n",
        "KAJIY, SD\n",
        "10 00 09 08 24 , 18 03 \n"
       ]
      }
     ],
     "prompt_number": 36
    },
    {
     "cell_type": "code",
     "collapsed": false,
     "input": [
      "m = Message('double take')\n",
      "A = AffineCipher(15,0)\n",
      "M = m.upper()\n",
      "print intstring(M)\n",
      "print m\n",
      "print A.encrypt(M)\n",
      "print intstring(A.encrypt(M))"
     ],
     "language": "python",
     "metadata": {},
     "outputs": [
      {
       "output_type": "stream",
       "stream": "stdout",
       "text": [
        "03 14 20 01 11 04  19 00 10 04 \n",
        "double take\n",
        "TCOPJI ZAUI\n",
        "19 02 14 15 09 08  25 00 20 08 \n"
       ]
      }
     ],
     "prompt_number": 37
    },
    {
     "cell_type": "code",
     "collapsed": false,
     "input": [
      "m = Message('true blue')\n",
      "A = AffineCipher(7,0)\n",
      "M = m.upper()\n",
      "print intstring(M)\n",
      "print m\n",
      "print A.encrypt(M)\n",
      "print intstring(A.encrypt(M))"
     ],
     "language": "python",
     "metadata": {},
     "outputs": [
      {
       "output_type": "stream",
       "stream": "stdout",
       "text": [
        "19 17 20 04  01 11 20 04 \n",
        "true blue\n",
        "DPKC HZKC\n",
        "03 15 10 02  07 25 10 02 \n"
       ]
      }
     ],
     "prompt_number": 39
    },
    {
     "cell_type": "code",
     "collapsed": false,
     "input": [
      "m = Message('flip side')\n",
      "A = AffineCipher(25,0)\n",
      "M = m.upper()\n",
      "print intstring(M)\n",
      "print m\n",
      "print A.encrypt(M)\n",
      "print intstring(A.encrypt(M))"
     ],
     "language": "python",
     "metadata": {},
     "outputs": [
      {
       "output_type": "stream",
       "stream": "stdout",
       "text": [
        "05 11 08 15  18 08 03 04 \n",
        "flip side\n",
        "VPSL ISXW\n",
        "21 15 18 11  08 18 23 22 \n"
       ]
      }
     ],
     "prompt_number": 40
    },
    {
     "cell_type": "code",
     "collapsed": false,
     "input": [
      "m = Message('hands down')\n",
      "A = AffineCipher(11,0)\n",
      "M = m.upper()\n",
      "print intstring(M)\n",
      "print m\n",
      "print A.encrypt(M)\n",
      "print intstring(A.encrypt(M))"
     ],
     "language": "python",
     "metadata": {},
     "outputs": [
      {
       "output_type": "stream",
       "stream": "stdout",
       "text": [
        "07 00 13 03 18  03 14 22 13 \n",
        "hands down\n",
        "ZANHQ HYIN\n",
        "25 00 13 07 16  07 24 08 13 \n"
       ]
      }
     ],
     "prompt_number": 41
    },
    {
     "cell_type": "code",
     "collapsed": false,
     "input": [
      "from matmod import *\n",
      "(11 |mod| 26)**-1"
     ],
     "language": "python",
     "metadata": {},
     "outputs": [
      {
       "metadata": {},
       "output_type": "pyout",
       "prompt_number": 42,
       "text": [
        "(19 mod 26)"
       ]
      }
     ],
     "prompt_number": 42
    },
    {
     "cell_type": "code",
     "collapsed": false,
     "input": [
      "m = Message('step back')\n",
      "A = AffineCipher(19,0)\n",
      "M = m.upper()\n",
      "print intstring(M)\n",
      "print m\n",
      "print A.encrypt(M)\n",
      "print intstring(A.encrypt(M))"
     ],
     "language": "python",
     "metadata": {},
     "outputs": [
      {
       "output_type": "stream",
       "stream": "stdout",
       "text": [
        "18 19 04 15  01 00 02 10 \n",
        "step back\n",
        "EXYZ TAMI\n",
        "04 23 24 25  19 00 12 08 \n"
       ]
      }
     ],
     "prompt_number": 43
    },
    {
     "cell_type": "code",
     "collapsed": false,
     "input": [
      "m = Message('case closed')\n",
      "A = AffineCipher(15,0)\n",
      "M = m.upper()\n",
      "print intstring(M)\n",
      "print m\n",
      "print A.encrypt(M)\n",
      "print intstring(A.encrypt(M))"
     ],
     "language": "python",
     "metadata": {},
     "outputs": [
      {
       "output_type": "stream",
       "stream": "stdout",
       "text": [
        "02 00 18 04  02 11 14 18 04 03 \n",
        "case closed\n",
        "EAKI EJCKIT\n",
        "04 00 10 08  04 09 02 10 08 19 \n"
       ]
      }
     ],
     "prompt_number": 44
    },
    {
     "cell_type": "code",
     "collapsed": false,
     "input": [
      "m = Message('dear tom')\n",
      "A = AffineCipher(17,0)\n",
      "print m\n",
      "M = m.upper()\n",
      "print intstring(A.encrypt(M))"
     ],
     "language": "python",
     "metadata": {},
     "outputs": [
      {
       "output_type": "stream",
       "stream": "stdout",
       "text": [
        "dear tom\n",
        "25 16 00 03  11 04 22 \n"
       ]
      }
     ],
     "prompt_number": 46
    },
    {
     "cell_type": "code",
     "collapsed": false,
     "input": [
      "m = Message('dear tom')\n",
      "A = AffineCipher(17,0)\n",
      "print m\n",
      "M = m.upper()\n",
      "print intstring(A.encrypt(M))\n",
      "m = Message('turn your radios dial to')\n",
      "print m\n",
      "M = m.upper()\n",
      "print intstring(A.encrypt(M))\n",
      "m = Message('station wktz. you will hear')\n",
      "print m\n",
      "M = m.upper()\n",
      "print intstring(A.encrypt(M))\n",
      "m = Message('something very interesting')\n",
      "print m\n",
      "M = m.upper()\n",
      "print intstring(A.encrypt(M))\n",
      "m = Message('see you later,')\n",
      "print m\n",
      "M = m.upper()\n",
      "print intstring(A.encrypt(M))\n",
      "m = Message('tim')\n",
      "print m\n",
      "M = m.upper()\n",
      "print intstring(A.encrypt(M))"
     ],
     "language": "python",
     "metadata": {},
     "outputs": [
      {
       "output_type": "stream",
       "stream": "stdout",
       "text": [
        "dear tom\n",
        "25 16 00 03  11 04 22 \n",
        "turn your radios dial to\n",
        "11 02 03 13  18 04 02 03  03 00 25 06 04 20  25 06 00 05  11 04 \n",
        "station wktz. you will hear\n",
        "20 11 00 11 06 04 13  10 14 11 09 . 18 04 02  10 06 05 05  15 16 00 03 \n",
        "something very interesting\n",
        "20 04 22 16 11 15 06 13 24  19 16 03 18  06 13 11 16 03 16 20 11 06 13 24 \n",
        "see you later,\n",
        "20 16 16  18 04 02  05 00 11 16 03 ,\n",
        "tim\n",
        "11 06 22 \n"
       ]
      }
     ],
     "prompt_number": 48
    },
    {
     "cell_type": "code",
     "collapsed": false,
     "input": [],
     "language": "python",
     "metadata": {},
     "outputs": [
      {
       "output_type": "stream",
       "stream": "stdout",
       "text": [
        "dear tom\n",
        "25 16 00 03  11 04 22 \n"
       ]
      }
     ],
     "prompt_number": 46
    },
    {
     "cell_type": "code",
     "collapsed": false,
     "input": [
      "m = Message('energy and persistence')\n",
      "A = AffineCipher(7,0)\n",
      "print m\n",
      "M = m.upper()\n",
      "print intstring(A.encrypt(M))\n",
      "m = Message('conquer all things.')\n",
      "print m\n",
      "M = m.upper()\n",
      "print intstring(A.encrypt(M))\n",
      "m = Message('benjamin franklin')\n",
      "print m\n",
      "M = m.upper()\n",
      "print intstring(A.encrypt(M))"
     ],
     "language": "python",
     "metadata": {},
     "outputs": [
      {
       "output_type": "stream",
       "stream": "stdout",
       "text": [
        "energy and persistence\n",
        "02 13 02 15 16 12  00 13 21  01 02 15 22 04 22 03 02 13 14 02 \n",
        "conquer all things.\n",
        "14 20 13 08 10 02 15  00 25 25  03 23 04 13 16 22 .\n",
        "benjamin franklin\n",
        "07 02 13 11 00 06 04 13  09 15 00 13 18 25 04 13 \n"
       ]
      }
     ],
     "prompt_number": 49
    },
    {
     "cell_type": "code",
     "collapsed": false,
     "input": [
      "m = Message('may june')\n",
      "A = AffineCipher(3,1)\n",
      "print m\n",
      "M = m.upper()\n",
      "print intstring(A.encrypt(M))\n",
      "m = Message('september january')\n",
      "print m\n",
      "M = m.upper()\n",
      "print intstring(A.encrypt(M))\n",
      "m = Message('february july')\n",
      "print m\n",
      "M = m.upper()\n",
      "print intstring(A.encrypt(M))\n",
      "m = Message('march august')\n",
      "print m\n",
      "M = m.upper()\n",
      "print intstring(A.encrypt(M))\n",
      "m = Message('december october')\n",
      "print m\n",
      "M = m.upper()\n",
      "print intstring(A.encrypt(M))\n",
      "m = Message('april november')\n",
      "print m\n",
      "M = m.upper()\n",
      "print intstring(A.encrypt(M))"
     ],
     "language": "python",
     "metadata": {},
     "outputs": [
      {
       "output_type": "stream",
       "stream": "stdout",
       "text": [
        "may june\n",
        "11 01 21  02 09 14 13 \n",
        "september january\n",
        "03 13 20 06 13 11 04 13 00  02 01 14 09 01 00 21 \n",
        "february july\n",
        "16 13 04 00 09 01 00 21  02 09 08 21 \n",
        "march august\n",
        "11 01 00 07 22  01 09 19 09 03 06 \n",
        "december october\n",
        "10 13 07 13 11 04 13 00  17 07 06 17 04 13 00 \n",
        "april november\n",
        "01 20 00 25 08  14 17 12 13 11 04 13 00 \n"
       ]
      }
     ],
     "prompt_number": 51
    },
    {
     "cell_type": "code",
     "collapsed": false,
     "input": [
      "m = Message('abcdefghijklmnopqrstuvwxyz')\n",
      "A = AffineCipher(3,1)\n",
      "print m \n",
      "M = m.upper()\n",
      "print intstring(M)\n",
      "print intstring(A.encrypt(M))\n"
     ],
     "language": "python",
     "metadata": {},
     "outputs": [
      {
       "output_type": "stream",
       "stream": "stdout",
       "text": [
        "abcdefghijklmnopqrstuvwxyz\n",
        "00 01 02 03 04 05 06 07 08 09 10 11 12 13 14 15 16 17 18 19 20 21 22 23 24 25 \n",
        "01 04 07 10 13 16 19 22 25 02 05 08 11 14 17 20 23 00 03 06 09 12 15 18 21 24 \n"
       ]
      }
     ],
     "prompt_number": 52
    },
    {
     "cell_type": "code",
     "collapsed": false,
     "input": [
      "m = Message('Can you figure out how we')\n",
      "A = AffineCipher(3,1)\n",
      "print m\n",
      "M = m.upper()\n",
      "print intstring(A.encrypt(M))\n",
      "m = Message('used both multiplication')\n",
      "print m\n",
      "M = m.upper()\n",
      "print intstring(A.encrypt(M))\n",
      "m = Message('and addition to encrypt?')\n",
      "print m\n",
      "M = m.upper()\n",
      "print intstring(A.encrypt(M))\n"
     ],
     "language": "python",
     "metadata": {},
     "outputs": [
      {
       "output_type": "stream",
       "stream": "stdout",
       "text": [
        "Can you figure out how we\n",
        "07 01 14  21 17 09  16 25 19 09 00 13  17 09 06  22 17 15  15 13 \n",
        "used both multiplication\n",
        "09 03 13 10  04 17 06 22  11 09 08 06 25 20 08 25 07 01 06 25 17 14 \n",
        "and addition to encrypt?\n",
        "01 14 10  01 10 10 25 06 25 17 14  06 17  13 14 07 00 21 20 06 ?\n"
       ]
      }
     ],
     "prompt_number": 53
    },
    {
     "cell_type": "code",
     "collapsed": false,
     "input": [
      "m = Message('under')\n",
      "A = AffineCipher(3,5)\n",
      "print m\n",
      "M = m.upper()\n",
      "print intstring(M)\n",
      "print intstring(A.encrypt(M))\n",
      "print A.encrypt(M)"
     ],
     "language": "python",
     "metadata": {},
     "outputs": [
      {
       "output_type": "stream",
       "stream": "stdout",
       "text": [
        "under\n",
        "20 13 03 04 17 \n",
        "13 18 14 17 04 \n",
        "NSORE\n"
       ]
      }
     ],
     "prompt_number": 54
    },
    {
     "cell_type": "code",
     "collapsed": false,
     "input": [
      "m = Message('around')\n",
      "A = AffineCipher(3,5)\n",
      "print m\n",
      "M = m.upper()\n",
      "print intstring(M)\n",
      "print intstring(A.encrypt(M))\n",
      "print A.encrypt(M)"
     ],
     "language": "python",
     "metadata": {},
     "outputs": [
      {
       "output_type": "stream",
       "stream": "stdout",
       "text": [
        "around\n",
        "00 17 14 20 13 03 \n",
        "05 04 21 13 18 14 \n",
        "FEVNSO\n"
       ]
      }
     ],
     "prompt_number": 55
    },
    {
     "cell_type": "code",
     "collapsed": false,
     "input": [
      "m = Message('through')\n",
      "A = AffineCipher(7,8)\n",
      "print m\n",
      "M = m.upper()\n",
      "print intstring(M)\n",
      "print intstring(A.encrypt(M))\n",
      "print A.encrypt(M)"
     ],
     "language": "python",
     "metadata": {},
     "outputs": [
      {
       "output_type": "stream",
       "stream": "stdout",
       "text": [
        "through\n",
        "19 07 17 14 20 06 07 \n",
        "11 05 23 02 18 24 05 \n",
        "LFXCSYF\n"
       ]
      }
     ],
     "prompt_number": 56
    },
    {
     "cell_type": "code",
     "collapsed": false,
     "input": [
      "m = Message('school desk')\n",
      "A = AffineCipher(5,8)\n",
      "print m\n",
      "M = m.upper()\n",
      "print intstring(M)\n",
      "print intstring(A.encrypt(M))\n",
      "print A.encrypt(M)"
     ],
     "language": "python",
     "metadata": {},
     "outputs": [
      {
       "output_type": "stream",
       "stream": "stdout",
       "text": [
        "school desk\n",
        "18 02 07 14 14 11  03 04 18 10 \n",
        "20 18 17 00 00 11  23 02 20 06 \n",
        "USRAAL XCUG\n"
       ]
      }
     ],
     "prompt_number": 58
    },
    {
     "cell_type": "code",
     "collapsed": false,
     "input": [
      "m = Message('back')\n",
      "A = AffineCipher(3,6)\n",
      "print m\n",
      "M = m.upper()\n",
      "print intstring(M)\n",
      "print intstring(A.encrypt(M))\n",
      "print A.encrypt(M)"
     ],
     "language": "python",
     "metadata": {},
     "outputs": [
      {
       "output_type": "stream",
       "stream": "stdout",
       "text": [
        "back\n",
        "01 00 02 10 \n",
        "09 06 12 10 \n",
        "JGMK\n"
       ]
      }
     ],
     "prompt_number": 59
    },
    {
     "cell_type": "code",
     "collapsed": false,
     "input": [
      "m = Message('pack')\n",
      "A = AffineCipher(7,8)\n",
      "print m\n",
      "M = m.upper()\n",
      "print intstring(M)\n",
      "print intstring(A.encrypt(M))\n",
      "print A.encrypt(M)"
     ],
     "language": "python",
     "metadata": {},
     "outputs": [
      {
       "output_type": "stream",
       "stream": "stdout",
       "text": [
        "pack\n",
        "15 00 02 10 \n",
        "09 08 22 00 \n",
        "JIWA\n"
       ]
      }
     ],
     "prompt_number": 60
    },
    {
     "cell_type": "code",
     "collapsed": false,
     "input": [
      "m = Message('a fsh')\n",
      "A = AffineCipher(21,10)\n",
      "print m\n",
      "M = m.upper()\n",
      "print intstring(M)\n",
      "print intstring(A.encrypt(M))\n",
      "print A.encrypt(M)"
     ],
     "language": "python",
     "metadata": {},
     "outputs": [
      {
       "output_type": "stream",
       "stream": "stdout",
       "text": [
        "a fsh\n",
        "00  05 18 07 \n",
        "10  11 24 01 \n",
        "K LYB\n"
       ]
      }
     ],
     "prompt_number": 61
    },
    {
     "cell_type": "code",
     "collapsed": false,
     "input": [
      "m = Message('an adder')\n",
      "A = AffineCipher(9,7)\n",
      "print m\n",
      "M = m.upper()\n",
      "print intstring(M)\n",
      "print intstring(A.encrypt(M))\n",
      "print A.encrypt(M)"
     ],
     "language": "python",
     "metadata": {},
     "outputs": [
      {
       "output_type": "stream",
       "stream": "stdout",
       "text": [
        "an adder\n",
        "00 13  00 03 03 04 17 \n",
        "07 20  07 08 08 17 04 \n",
        "HU HIIRE\n"
       ]
      }
     ],
     "prompt_number": 63
    },
    {
     "cell_type": "code",
     "collapsed": false,
     "input": [
      "m = Message('a clock')\n",
      "A = AffineCipher(5,20)\n",
      "print m\n",
      "M = m.upper()\n",
      "print intstring(M)\n",
      "print intstring(A.encrypt(M))\n",
      "print A.encrypt(M)"
     ],
     "language": "python",
     "metadata": {},
     "outputs": [
      {
       "output_type": "stream",
       "stream": "stdout",
       "text": [
        "a clock\n",
        "00  02 11 14 02 10 \n",
        "20  04 23 12 04 18 \n",
        "U EXMES\n"
       ]
      }
     ],
     "prompt_number": 64
    },
    {
     "cell_type": "code",
     "collapsed": false,
     "input": [
      "m = Message('pizza')\n",
      "A = AffineCipher(7,2)\n",
      "print m\n",
      "M = m.upper()\n",
      "print intstring(M)\n",
      "print intstring(A.encrypt(M))\n",
      "print A.encrypt(M)"
     ],
     "language": "python",
     "metadata": {},
     "outputs": [
      {
       "output_type": "stream",
       "stream": "stdout",
       "text": [
        "pizza\n",
        "15 08 25 25 00 \n",
        "03 06 21 21 02 \n",
        "DGVVC\n"
       ]
      }
     ],
     "prompt_number": 65
    },
    {
     "cell_type": "code",
     "collapsed": false,
     "input": [
      "m = Message('a comb')\n",
      "A = AffineCipher(9,6)\n",
      "print m\n",
      "M = m.upper()\n",
      "print intstring(M)\n",
      "print intstring(A.encrypt(M))\n",
      "print A.encrypt(M)"
     ],
     "language": "python",
     "metadata": {},
     "outputs": [
      {
       "output_type": "stream",
       "stream": "stdout",
       "text": [
        "a comb\n",
        "00  02 14 12 01 \n",
        "06  24 02 10 15 \n",
        "G YCKP\n"
       ]
      }
     ],
     "prompt_number": 67
    },
    {
     "cell_type": "code",
     "collapsed": false,
     "input": [
      "m = Message('edam')\n",
      "A = AffineCipher(19,11)\n",
      "print m\n",
      "M = m.upper()\n",
      "#print intstring(M)\n",
      "print intstring(A.encrypt(M))\n",
      "#print A.encrypt(M)"
     ],
     "language": "python",
     "metadata": {},
     "outputs": [
      {
       "output_type": "stream",
       "stream": "stdout",
       "text": [
        "edam\n",
        "09 16 11 05 \n"
       ]
      }
     ],
     "prompt_number": 73
    },
    {
     "cell_type": "code",
     "collapsed": false,
     "input": [
      "m = Message('a sourpuss')\n",
      "A = AffineCipher(17,4)\n",
      "print m\n",
      "M = m.upper()\n",
      "#print intstring(M)\n",
      "print intstring(A.encrypt(M))\n",
      "#print A.encrypt(M)"
     ],
     "language": "python",
     "metadata": {},
     "outputs": [
      {
       "output_type": "stream",
       "stream": "stdout",
       "text": [
        "a sourpuss\n",
        "04  24 08 06 07 25 06 24 24 \n"
       ]
      }
     ],
     "prompt_number": 74
    },
    {
     "cell_type": "code",
     "collapsed": false,
     "input": [
      "m = Message('three blind mice')\n",
      "A = AffineCipher(9,4)\n",
      "print m\n",
      "M = m.upper()\n",
      "#print intstring(M)\n",
      "print intstring(A.encrypt(M))\n",
      "#print A.encrypt(M)"
     ],
     "language": "python",
     "metadata": {},
     "outputs": [
      {
       "output_type": "stream",
       "stream": "stdout",
       "text": [
        "three blind mice\n",
        "19 15 01 14 14  13 25 24 17 05  08 24 22 14 \n"
       ]
      }
     ],
     "prompt_number": 75
    },
    {
     "cell_type": "code",
     "collapsed": false,
     "input": [
      "m = Message(\"I couldn't find a date!\")\n",
      "A = AffineCipher(21,20)\n",
      "print m\n",
      "M = m.upper()\n",
      "#print intstring(M)\n",
      "print intstring(A.encrypt(M))\n",
      "#print A.encrypt(M)"
     ],
     "language": "python",
     "metadata": {},
     "outputs": [
      {
       "output_type": "stream",
       "stream": "stdout",
       "text": [
        "I couldn't find a date!\n",
        "06  10 02 24 17 05 07 '03  21 06 07 05  20  05 20 03 00 !\n"
       ]
      }
     ],
     "prompt_number": 78
    },
    {
     "cell_type": "code",
     "collapsed": false,
     "input": [
      "m = Message(\"Tuck Everlasting Babbit\")\n",
      "A = AffineCipher(21,1)\n",
      "print m\n",
      "M = m.upper()\n",
      "print intstring(A.encrypt(M))\n",
      "print A.encrypt(M)"
     ],
     "language": "python",
     "metadata": {},
     "outputs": [
      {
       "output_type": "stream",
       "stream": "stdout",
       "text": [
        "Tuck Everlasting Babbit\n",
        "10 05 17 03  07 00 07 20 24 01 15 10 13 14 23  22 01 22 22 13 10 \n",
        "KFRD HAHUYBPKNOX WBWWNK\n"
       ]
      }
     ],
     "prompt_number": 84
    },
    {
     "cell_type": "code",
     "collapsed": false,
     "input": [
      "m = Message(\"Holes Sachar\")\n",
      "A = AffineCipher(5,8)\n",
      "print m\n",
      "M = m.upper()\n",
      "print intstring(A.encrypt(M))\n",
      "print A.encrypt(M)"
     ],
     "language": "python",
     "metadata": {},
     "outputs": [
      {
       "output_type": "stream",
       "stream": "stdout",
       "text": [
        "Holes Sachar\n",
        "17 00 11 02 20  20 08 18 17 08 15 \n",
        "RALCU UISRIP\n"
       ]
      }
     ],
     "prompt_number": 82
    },
    {
     "cell_type": "code",
     "collapsed": false,
     "input": [
      "m = Message(\"A Wrinkle in Time L'Engle\")\n",
      "A = AffineCipher(3,6)\n",
      "print m\n",
      "M = m.upper()\n",
      "print intstring(A.encrypt(M))\n",
      "print A.encrypt(M)"
     ],
     "language": "python",
     "metadata": {},
     "outputs": [
      {
       "output_type": "stream",
       "stream": "stdout",
       "text": [
        "A Wrinkle in Time L'Engle\n",
        "06  20 05 04 19 10 13 18  04 19  11 04 16 18  13 '18 19 24 13 18 \n",
        "G UFETKNS ET LEQS N'STYNS\n"
       ]
      }
     ],
     "prompt_number": 83
    },
    {
     "cell_type": "code",
     "collapsed": false,
     "input": [
      "m = Message(\"listen to radio station wkqs\")\n",
      "A = AffineCipher(23,2)\n",
      "print m\n",
      "M = m.upper()\n",
      "print intstring(A.encrypt(M))\n",
      "print A.encrypt(M)"
     ],
     "language": "python",
     "metadata": {},
     "outputs": [
      {
       "output_type": "stream",
       "stream": "stdout",
       "text": [
        "listen to radio station wkqs\n",
        "21 04 00 23 16 15  23 12  03 02 19 04 12  00 23 02 23 04 12 15  14 24 06 00 \n",
        "VEAXQP XM DCTEM AXCXEMP OYGA\n"
       ]
      }
     ],
     "prompt_number": 87
    },
    {
     "cell_type": "code",
     "collapsed": false,
     "input": [
      "m = Message(\"walk forty paces\")\n",
      "A = AffineCipher(5,8)\n",
      "print m\n",
      "M = m.upper()\n",
      "print intstring(A.encrypt(M))\n",
      "print A.encrypt(M)"
     ],
     "language": "python",
     "metadata": {},
     "outputs": [
      {
       "output_type": "stream",
       "stream": "stdout",
       "text": [
        "walk forty paces\n",
        "14 08 11 06  07 00 15 25 24  05 08 18 02 20 \n",
        "OILG HAPZY FISCU\n"
       ]
      }
     ],
     "prompt_number": 86
    },
    {
     "cell_type": "code",
     "collapsed": false,
     "input": [
      "m = Message(\"The Titan's Curse - Riordan\")\n",
      "A = AffineCipher(19,11)\n",
      "M = m.upper()\n",
      "print intstring(M)\n",
      "print m\n",
      "print A.encrypt(M)\n",
      "print intstring(A.encrypt(M))"
     ],
     "language": "python",
     "metadata": {},
     "outputs": [
      {
       "output_type": "stream",
       "stream": "stdout",
       "text": [
        "19 07 04  19 08 19 00 13 '18  02 20 17 18 04  - 17 08 14 17 03 00 13 \n",
        "The Titan's Curse - Riordan\n",
        "IOJ IHILY'P XBWPJ - WHRWQLY\n",
        "08 14 09  08 07 08 11 24 '15  23 01 22 15 09  - 22 07 17 22 16 11 24 \n"
       ]
      }
     ],
     "prompt_number": 88
    },
    {
     "cell_type": "code",
     "collapsed": false,
     "input": [
      "m = Message(\"The Graveyard Book - Gaiman\")\n",
      "A = AffineCipher(9,13)\n",
      "M = m.upper()\n",
      "print intstring(M)\n",
      "print m\n",
      "print A.encrypt(M)\n",
      "print intstring(A.encrypt(M))"
     ],
     "language": "python",
     "metadata": {},
     "outputs": [
      {
       "output_type": "stream",
       "stream": "stdout",
       "text": [
        "19 07 04  06 17 00 21 04 24 00 17 03  01 14 14 10  - 06 00 08 12 00 13 \n",
        "The Graveyard Book - Gaiman\n",
        "CYX PKNUXVNKO WJJZ - PNHRNA\n",
        "02 24 23  15 10 13 20 23 21 13 10 14  22 09 09 25  - 15 13 07 17 13 00 \n"
       ]
      }
     ],
     "prompt_number": 89
    },
    {
     "cell_type": "code",
     "collapsed": false,
     "input": [
      "m = Message(\"The Giver - Lowry\")\n",
      "A = AffineCipher(9,3)\n",
      "M = m.upper()\n",
      "print intstring(M)\n",
      "print m\n",
      "print A.encrypt(M)\n",
      "print intstring(A.encrypt(M))"
     ],
     "language": "python",
     "metadata": {},
     "outputs": [
      {
       "output_type": "stream",
       "stream": "stdout",
       "text": [
        "19 07 04  06 08 21 04 17  - 11 14 22 17 24 \n",
        "The Giver - Lowry\n",
        "SON FXKNA - YZTAL\n",
        "18 14 13  05 23 10 13 00  - 24 25 19 00 11 \n"
       ]
      }
     ],
     "prompt_number": 91
    },
    {
     "cell_type": "code",
     "collapsed": false,
     "input": [
      "m = Message(\"Twilight - Meyer\")\n",
      "A = AffineCipher(11,2)\n",
      "M = m.upper()\n",
      "print intstring(M)\n",
      "print m\n",
      "print A.encrypt(M)\n",
      "print intstring(A.encrypt(M))"
     ],
     "language": "python",
     "metadata": {},
     "outputs": [
      {
       "output_type": "stream",
       "stream": "stdout",
       "text": [
        "19 22 08 11 08 06 07 19  - 12 04 24 04 17 \n",
        "Twilight - Meyer\n",
        "DKMTMQBD - EUGUH\n",
        "03 10 12 19 12 16 01 03  - 04 20 06 20 07 \n"
       ]
      }
     ],
     "prompt_number": 93
    },
    {
     "cell_type": "code",
     "collapsed": false,
     "input": [
      "m = Message(\"I am a success today\")\n",
      "A = AffineCipher(15,5)\n",
      "M = m.upper()\n",
      "print m\n",
      "print intstring(A.encrypt(M))\n",
      "m = Message(\"because I had a friend who\")\n",
      "M = m.upper()\n",
      "print m\n",
      "print intstring(A.encrypt(M))\n",
      "m = Message(\"believed in me and I\")\n",
      "M = m.upper()\n",
      "print m\n",
      "print intstring(A.encrypt(M))\n",
      "m = Message(\"didn't have the heart to\")\n",
      "M = m.upper()\n",
      "print m\n",
      "print intstring(A.encrypt(M))\n",
      "m = Message(\"let him down\")\n",
      "M = m.upper()\n",
      "print m\n",
      "print intstring(A.encrypt(M))"
     ],
     "language": "python",
     "metadata": {},
     "outputs": [
      {
       "output_type": "stream",
       "stream": "stdout",
       "text": [
        "I am a success today\n",
        "21  05 03  05  15 19 09 09 13 15 15  04 07 24 05 01 \n",
        "because I had a friend who\n",
        "20 13 09 05 19 15 13  21  06 05 24  05  02 00 21 13 18 24  23 06 07 \n",
        "believed in me and I\n",
        "20 13 14 21 13 08 13 24  21 18  03 13  05 18 24  21 \n",
        "didn't have the heart to\n",
        "24 21 24 18 '04  06 05 08 13  04 06 13  06 13 05 00 04  04 07 \n",
        "let him down\n",
        "14 13 04  06 21 03  24 07 23 18 \n"
       ]
      }
     ],
     "prompt_number": 96
    },
    {
     "cell_type": "code",
     "collapsed": false,
     "input": [
      "m = Message(\"abcdefghijklmnopqrstuvwxyz\")\n",
      "A = AffineCipher(15,5)\n",
      "M = m.upper()\n",
      "print m\n",
      "print intstring(M)\n",
      "print intstring(A.encrypt(M))\n",
      "print A.encrypt(M)"
     ],
     "language": "python",
     "metadata": {},
     "outputs": [
      {
       "output_type": "stream",
       "stream": "stdout",
       "text": [
        "abcdefghijklmnopqrstuvwxyz\n",
        "00 01 02 03 04 05 06 07 08 09 10 11 12 13 14 15 16 17 18 19 20 21 22 23 24 25 \n",
        "05 20 09 24 13 02 17 06 21 10 25 14 03 18 07 22 11 00 15 04 19 08 23 12 01 16 \n",
        "FUJYNCRGVKZODSHWLAPETIXMBQ\n"
       ]
      }
     ],
     "prompt_number": 97
    },
    {
     "cell_type": "code",
     "collapsed": false,
     "input": [],
     "language": "python",
     "metadata": {},
     "outputs": []
    }
   ],
   "metadata": {}
  }
 ]
}