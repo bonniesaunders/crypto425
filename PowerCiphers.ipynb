{
 "metadata": {
  "name": "",
  "signature": "sha256:2aaba7c65ee9d5751a2d177a20b49ec5e0f3cd865c4f4afd432a122d267ca105"
 },
 "nbformat": 3,
 "nbformat_minor": 0,
 "worksheets": [
  {
   "cells": [
    {
     "cell_type": "heading",
     "level": 6,
     "metadata": {},
     "source": [
      "Power Ciphers"
     ]
    },
    {
     "cell_type": "heading",
     "level": 6,
     "metadata": {},
     "source": [
      "3-Pass Protocal"
     ]
    },
    {
     "cell_type": "markdown",
     "metadata": {},
     "source": [
      "1 -- Alice and Bob want to agree on a Key.  Alice thinks of the Key which is just a large number.  She thinks of a prime number that is larger than Key. She publishes Key on the internet so Bob can find out what it is."
     ]
    },
    {
     "cell_type": "markdown",
     "metadata": {},
     "source": [
      "2 -- Alice thinks of an exponent, $alpha\\!\\!\\!\\mod{p-1}$, some number relatively prime to $p-1$.  She computes and sends Bob, $K1 = Key^{alpha}.$\n",
      "\n",
      "> Alice's secrets: Key and alpha. Public information: $p$, $K1$ "
     ]
    },
    {
     "cell_type": "markdown",
     "metadata": {},
     "source": [
      "Meanwhile, Bob thinks of another exponent, $beta\\!\\!\\!\\mod{p-1}$, some number relatively prime to p-1.  He computes and sends back to Alice $K2 = K1^{beta} = Key^{alpha\\cdot beta} = Key^{beta\\cdot alpha}$\n",
      "\n",
      ">Bob's secret: $beta$. Public information: $K2$"
     ]
    },
    {
     "cell_type": "markdown",
     "metadata": {},
     "source": [
      "Alice sends back $K3 = K2^{alphaInverse\\!\\!\\!\\mod(p-1)} = Key^{beta}.$\n",
      "\n",
      ">Public information: $K3$"
     ]
    },
    {
     "cell_type": "markdown",
     "metadata": {},
     "source": [
      "Bob computes $K3^{betaInverse\\!\\!\\!\\mod(p-1)} = Key$\n",
      "\n",
      ">Alice and Bob's shared secret is Key"
     ]
    },
    {
     "cell_type": "markdown",
     "metadata": {},
     "source": [
      "How might Eve find Key from the data that is going back and forth?"
     ]
    },
    {
     "cell_type": "code",
     "collapsed": false,
     "input": [],
     "language": "python",
     "metadata": {},
     "outputs": []
    }
   ],
   "metadata": {}
  }
 ]
}