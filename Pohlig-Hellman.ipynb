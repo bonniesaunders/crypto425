{
 "metadata": {
  "name": "",
  "signature": "sha256:f59aa4349d465c33e1ab18de83123bba9d1ac93e512a43d3e11526302cfaf23b"
 },
 "nbformat": 3,
 "nbformat_minor": 0,
 "worksheets": [
  {
   "cells": [
    {
     "cell_type": "markdown",
     "metadata": {},
     "source": [
      ">Basic Fact\n",
      "\n",
      "If $p$ is a prime number, and if $\\alpha$ a primitive root $(\\!\\!\\!\\mod p)$, then\n",
      "\n",
      "$\\alpha^n \\equiv \\alpha^m (\\!\\!\\!\\mod p) \\iff n \\equiv m (\\!\\!\\!\\mod p-1)$"
     ]
    },
    {
     "cell_type": "markdown",
     "metadata": {},
     "source": [
      "This will assure that there is a unique solution $(\\!\\!\\!\\mod p-1)$ to the equation\n",
      "\n",
      "$\\alpha^x \\equiv \\beta (\\!\\!\\!\\mod p)$\n",
      "\n",
      "We call that unique soluiton, $L_\\alpha(\\beta)$, the discrete log base $\\alpha$ of $\\beta$ $\\!\\!\\!\\mod p$."
     ]
    },
    {
     "cell_type": "markdown",
     "metadata": {},
     "source": [
      "NOTE: That $\\alpha$ is a primitive root assures there is a solution.  It is essential Fermat's theorem that assures the soluiton is unique."
     ]
    },
    {
     "cell_type": "heading",
     "level": 6,
     "metadata": {},
     "source": [
      "Pohlig-Hellman, 7.2.1 page 203 ff"
     ]
    },
    {
     "cell_type": "markdown",
     "metadata": {},
     "source": [
      "Pohlig-Hellman is an algorithm that works to find discrete logarithms when $p-1$ is a product of small primes.\n",
      "\n",
      "('Small' is defined by the power of your computional machinery to compute discrete logs."
     ]
    },
    {
     "cell_type": "markdown",
     "metadata": {},
     "source": [
      ">>Set up\n",
      "\n",
      "We are solving for $\\alpha^x \\equiv \\beta (\\!\\!\\!\\mod p)$.\n",
      "where $p-1={q_0}^{r_0} \\cdot {q_1}^{r_1} \\cdot {q_2}^{r_2} \\cdot {q_3}^{r_3} \\cdots$\n",
      "\n",
      "There are three loops:\n",
      "\n",
      "Outside loop: we find $L_{\\alpha}(\\beta) (\\!\\!\\!\\mod q^r)$.  Once done the Chinese remainder thoerem gives  $L_{\\alpha}(\\beta) (\\!\\!\\!\\mod p-1)$ \n",
      "\n",
      "For each $q$, we represent $x = x_0 + x_1 \\cdot q + x_2 \\cdot q^2 + \\cdots $, where $0 \\le x_i < q$ \n",
      "\n",
      "The innermost loop finds $x_0, x_1, x_2, \\cdots x_{r-1}$  This is gives $L_{\\alpha}(\\beta) (\\!\\!\\!\\mod q^r)$\n"
     ]
    },
    {
     "cell_type": "code",
     "collapsed": false,
     "input": [
      "from matmod import *\n",
      "from cypari.gen import pari as pari\n"
     ],
     "language": "python",
     "metadata": {},
     "outputs": [],
     "prompt_number": 2
    },
    {
     "cell_type": "code",
     "collapsed": false,
     "input": [
      "p =pari(601)\n",
      "phi = p-1\n",
      "phi.factor()"
     ],
     "language": "python",
     "metadata": {},
     "outputs": [
      {
       "metadata": {},
       "output_type": "pyout",
       "prompt_number": 3,
       "text": [
        "[2, 3; 3, 1; 5, 2]"
       ]
      }
     ],
     "prompt_number": 3
    },
    {
     "cell_type": "markdown",
     "metadata": {},
     "source": [
      "For a given $q^r$:  First find $x_0$\n",
      "\n",
      "We know $x \\equiv x_0(\\!\\!\\!\\mod q) \\implies x\\cdot{\\frac{p-1}{q}} \\equiv {x_0}\\cdot{\\frac{p-1}{q}} (\\!\\!\\!\\mod p-1)$\n",
      "\n",
      "and, so by the BASIC FACT, $\\alpha^{x\\cdot{\\frac{p-1}{q}}} \\equiv \\alpha^{{x_0}\\cdot{\\frac{p-1}{q}}} (\\!\\!\\!\\mod p)$\n",
      "\n",
      "of course, $\\alpha^x$ is $\\beta$, so we solve (the shorter log problem) for $x_0$: $\\beta^{\\frac{p-1}{q}} \\equiv \\alpha^{{x_0}\\cdot{\\frac{p-1}{q}}} (\\!\\!\\!\\mod p)$  NOTE: just check $x_0 = 0, 1, \\cdots q-1$"
     ]
    },
    {
     "cell_type": "code",
     "collapsed": false,
     "input": [
      "q = 3"
     ],
     "language": "python",
     "metadata": {},
     "outputs": [],
     "prompt_number": 48
    },
    {
     "cell_type": "code",
     "collapsed": false,
     "input": [
      "beta = 412 |mod| p\n",
      "lhs = beta**(200)\n",
      "lhs"
     ],
     "language": "python",
     "metadata": {},
     "outputs": [
      {
       "metadata": {},
       "output_type": "pyout",
       "prompt_number": 47,
       "text": [
        "(576 mod 601)"
       ]
      }
     ],
     "prompt_number": 47
    },
    {
     "cell_type": "code",
     "collapsed": false,
     "input": [
      "alpha = 7 |mod| 601\n",
      "rhs = [ alpha**(x0*200) for x0 in range(3) ]\n",
      "rhs"
     ],
     "language": "python",
     "metadata": {},
     "outputs": [
      {
       "metadata": {},
       "output_type": "pyout",
       "prompt_number": 49,
       "text": [
        "[(1 mod 601), (576 mod 601), (24 mod 601)]"
       ]
      }
     ],
     "prompt_number": 49
    },
    {
     "cell_type": "code",
     "collapsed": false,
     "input": [
      "x0 = 1"
     ],
     "language": "python",
     "metadata": {},
     "outputs": [],
     "prompt_number": 41
    },
    {
     "cell_type": "markdown",
     "metadata": {},
     "source": [
      "For the next and subsequent steps, find $x_1$\n",
      "\n",
      "We know $\\frac{x - x_0}{q} \\equiv x_1(\\!\\!\\!\\mod q) \\implies \\frac{x - x_0}{q} \\cdot{\\frac{p-1}{q}} \\equiv {x_1}\\cdot{\\frac{p-1}{q}} (\\!\\!\\!\\mod p-1)$\n",
      "\n",
      "and, so by the BASIC FACT, $\\alpha^{(x - x_0) \\cdot{\\frac{p-1}{q^2}}} \\equiv \\alpha^{{x_1}\\cdot{\\frac{p-1}{q}}} (\\!\\!\\!\\mod p)$\n",
      "\n",
      "of course, $\\alpha^{(x - x_0)} $ is $\\beta_1 = \\beta \\cdot \\alpha^{-x_0}$, so we solve (the shorter log problem) for $x_1$: $\\beta_1^{\\frac{p-1}{q^2}} \\equiv \\alpha^{{x_1}\\cdot{\\frac{p-1}{q}}} (\\!\\!\\!\\mod p)$  NOTE: just check $x_1 = 0, 1, \\cdots q-1$\n",
      "\n",
      "NOTE: similarity to previous step."
     ]
    },
    {
     "cell_type": "code",
     "collapsed": false,
     "input": [
      "beta1 = beta*alpha**(-x0)\n",
      "lhs = beta1**(24)\n",
      "lhs"
     ],
     "language": "python",
     "metadata": {},
     "outputs": [
      {
       "metadata": {},
       "output_type": "pyout",
       "prompt_number": 42,
       "text": [
        "(432 mod 601)"
       ]
      }
     ],
     "prompt_number": 42
    },
    {
     "cell_type": "code",
     "collapsed": false,
     "input": [
      "rhs = [ alpha**(x1*120) for x1 in range(5)]\n",
      "rhs"
     ],
     "language": "python",
     "metadata": {},
     "outputs": [
      {
       "metadata": {},
       "output_type": "pyout",
       "prompt_number": 43,
       "text": [
        "[(1 mod 601), (423 mod 601), (432 mod 601), (32 mod 601), (314 mod 601)]"
       ]
      }
     ],
     "prompt_number": 43
    },
    {
     "cell_type": "code",
     "collapsed": false,
     "input": [
      "x1 = 2\n",
      "x = x0+x1*5 |mod| 25"
     ],
     "language": "python",
     "metadata": {},
     "outputs": [],
     "prompt_number": 45
    },
    {
     "cell_type": "code",
     "collapsed": false,
     "input": [
      "x"
     ],
     "language": "python",
     "metadata": {},
     "outputs": [
      {
       "metadata": {},
       "output_type": "pyout",
       "prompt_number": 46,
       "text": [
        "(13 mod 25)"
       ]
      }
     ],
     "prompt_number": 46
    },
    {
     "cell_type": "markdown",
     "metadata": {},
     "source": [
      "Next step: $\\beta_2 = \\beta_1 \\cdot \\alpha^{-x_1\\cdot  q}$"
     ]
    },
    {
     "cell_type": "code",
     "collapsed": false,
     "input": [
      "beta2 = beta1*alpha**(-x1*q)\n",
      "lhs = beta2**(75)\n",
      "lhs"
     ],
     "language": "python",
     "metadata": {},
     "outputs": [
      {
       "metadata": {},
       "output_type": "pyout",
       "prompt_number": 25,
       "text": [
        "(600 mod 601)"
       ]
      }
     ],
     "prompt_number": 25
    },
    {
     "cell_type": "code",
     "collapsed": false,
     "input": [
      "rhs = [ alpha**(x2*300) for x2 in range(2)]\n",
      "rhs"
     ],
     "language": "python",
     "metadata": {},
     "outputs": [
      {
       "metadata": {},
       "output_type": "pyout",
       "prompt_number": 26,
       "text": [
        "[(1 mod 601), (600 mod 601)]"
       ]
      }
     ],
     "prompt_number": 26
    },
    {
     "cell_type": "code",
     "collapsed": false,
     "input": [
      "x2 = 1\n",
      "x = x0 + x1*q + x2*q**2 |mod| 2**3"
     ],
     "language": "python",
     "metadata": {},
     "outputs": [],
     "prompt_number": 27
    },
    {
     "cell_type": "code",
     "collapsed": false,
     "input": [
      "x"
     ],
     "language": "python",
     "metadata": {},
     "outputs": [
      {
       "metadata": {},
       "output_type": "pyout",
       "prompt_number": 28,
       "text": [
        "(5 mod 8)"
       ]
      }
     ],
     "prompt_number": 28
    },
    {
     "cell_type": "code",
     "collapsed": false,
     "input": [
      "A = 5 |mod| 8"
     ],
     "language": "python",
     "metadata": {},
     "outputs": [],
     "prompt_number": 82
    },
    {
     "cell_type": "code",
     "collapsed": false,
     "input": [
      "B = 3 |mod| 5"
     ],
     "language": "python",
     "metadata": {},
     "outputs": [],
     "prompt_number": 84
    },
    {
     "cell_type": "code",
     "collapsed": false,
     "input": [
      "z2 = "
     ],
     "language": "python",
     "metadata": {},
     "outputs": []
    },
    {
     "cell_type": "code",
     "collapsed": false,
     "input": [
      "x, z2"
     ],
     "language": "python",
     "metadata": {},
     "outputs": []
    },
    {
     "cell_type": "code",
     "collapsed": false,
     "input": [
      "chinese(A,B)"
     ],
     "language": "python",
     "metadata": {},
     "outputs": [
      {
       "metadata": {},
       "output_type": "pyout",
       "prompt_number": 85,
       "text": [
        "(13 mod 40)"
       ]
      }
     ],
     "prompt_number": 85
    },
    {
     "cell_type": "code",
     "collapsed": false,
     "input": [
      "a**13"
     ],
     "language": "python",
     "metadata": {},
     "outputs": [
      {
       "metadata": {},
       "output_type": "pyout",
       "prompt_number": 86,
       "text": [
        "(12 mod 41)"
       ]
      }
     ],
     "prompt_number": 86
    },
    {
     "cell_type": "code",
     "collapsed": false,
     "input": [],
     "language": "python",
     "metadata": {},
     "outputs": []
    }
   ],
   "metadata": {}
  }
 ]
}