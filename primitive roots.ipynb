{
 "metadata": {
  "name": "",
  "signature": "sha256:9ace9a711bae19c96b2927c4bc2045955faadf4be623dc805374e6bb22c940ac"
 },
 "nbformat": 3,
 "nbformat_minor": 0,
 "worksheets": [
  {
   "cells": [
    {
     "cell_type": "code",
     "collapsed": false,
     "input": [
      "from matmod import *\n",
      "from cypari.gen import pari as pari\n",
      "from tables425 import *"
     ],
     "language": "python",
     "metadata": {},
     "outputs": [],
     "prompt_number": 3
    },
    {
     "cell_type": "code",
     "collapsed": false,
     "input": [],
     "language": "python",
     "metadata": {},
     "outputs": []
    },
    {
     "cell_type": "code",
     "collapsed": false,
     "input": [
      "phi = 12\n",
      "powertable(13,phi+1)"
     ],
     "language": "python",
     "metadata": {},
     "outputs": [
      {
       "output_type": "stream",
       "stream": "stdout",
       "text": [
        " 0 : [  1  1  1  1  1  1  1  1  1  1  1  1 ] mod 13 \n",
        " 1 : [  1  2  3  4  5  6  7  8  9 10 11 12 ] mod 13 \n",
        " 2 : [  1  4  9  3 12 10 10 12  3  9  4  1 ] mod 13 \n",
        " 3 : [  1  8  1 12  8  8  5  5  1 12  5 12 ] mod 13 \n",
        " 4 : [  1  3  3  9  1  9  9  1  9  3  3  1 ] mod 13 \n",
        " 5 : [  1  6  9 10  5  2 11  8  3  4  7 12 ] mod 13 \n",
        " 6 : [  1 12  1  1 12 12 12 12  1  1 12  1 ] mod 13 \n",
        " 7 : [  1 11  3  4  8  7  6  5  9 10  2 12 ] mod 13 \n",
        " 8 : [  1  9  9  3  1  3  3  1  3  9  9  1 ] mod 13 \n",
        " 9 : [  1  5  1 12  5  5  8  8  1 12  8 12 ] mod 13 \n",
        "10 : [  1 10  3  9 12  4  4 12  9  3 10  1 ] mod 13 \n",
        "11 : [  1  7  9 10  8 11  2  5  3  4  6 12 ] mod 13 \n",
        "12 : [  1  1  1  1  1  1  1  1  1  1  1  1 ] mod 13 \n"
       ]
      }
     ],
     "prompt_number": 12
    },
    {
     "cell_type": "code",
     "collapsed": false,
     "input": [
      "phi = 4\n",
      "powertable(12,12)"
     ],
     "language": "python",
     "metadata": {},
     "outputs": [
      {
       "output_type": "stream",
       "stream": "stdout",
       "text": [
        " 0 : [  1  1  1  1  1  1  1  1  1  1  1 ] mod 12 \n",
        " 1 : [  1  2  3  4  5  6  7  8  9 10 11 ] mod 12 \n",
        " 2 : [  1  4  9  4  1  0  1  4  9  4  1 ] mod 12 \n",
        " 3 : [  1  8  3  4  5  0  7  8  9  4 11 ] mod 12 \n",
        " 4 : [  1  4  9  4  1  0  1  4  9  4  1 ] mod 12 \n",
        " 5 : [  1  8  3  4  5  0  7  8  9  4 11 ] mod 12 \n",
        " 6 : [  1  4  9  4  1  0  1  4  9  4  1 ] mod 12 \n",
        " 7 : [  1  8  3  4  5  0  7  8  9  4 11 ] mod 12 \n",
        " 8 : [  1  4  9  4  1  0  1  4  9  4  1 ] mod 12 \n",
        " 9 : [  1  8  3  4  5  0  7  8  9  4 11 ] mod 12 \n",
        "10 : [  1  4  9  4  1  0  1  4  9  4  1 ] mod 12 \n",
        "11 : [  1  8  3  4  5  0  7  8  9  4 11 ] mod 12 \n"
       ]
      }
     ],
     "prompt_number": 15
    },
    {
     "cell_type": "code",
     "collapsed": false,
     "input": [
      "phi = 8\n",
      "powertable(15,2*phi+1)"
     ],
     "language": "python",
     "metadata": {},
     "outputs": [
      {
       "output_type": "stream",
       "stream": "stdout",
       "text": [
        " 0 : [  1  1  1  1  1  1  1  1  1  1  1  1  1  1 ] mod 15 \n",
        " 1 : [  1  2  3  4  5  6  7  8  9 10 11 12 13 14 ] mod 15 \n",
        " 2 : [  1  4  9  1 10  6  4  4  6 10  1  9  4  1 ] mod 15 \n",
        " 3 : [  1  8 12  4  5  6 13  2  9 10 11  3  7 14 ] mod 15 \n",
        " 4 : [  1  1  6  1 10  6  1  1  6 10  1  6  1  1 ] mod 15 \n",
        " 5 : [  1  2  3  4  5  6  7  8  9 10 11 12 13 14 ] mod 15 \n",
        " 6 : [  1  4  9  1 10  6  4  4  6 10  1  9  4  1 ] mod 15 \n",
        " 7 : [  1  8 12  4  5  6 13  2  9 10 11  3  7 14 ] mod 15 \n",
        " 8 : [  1  1  6  1 10  6  1  1  6 10  1  6  1  1 ] mod 15 \n",
        " 9 : [  1  2  3  4  5  6  7  8  9 10 11 12 13 14 ] mod 15 \n",
        "10 : [  1  4  9  1 10  6  4  4  6 10  1  9  4  1 ] mod 15 \n",
        "11 : [  1  8 12  4  5  6 13  2  9 10 11  3  7 14 ] mod 15 \n",
        "12 : [  1  1  6  1 10  6  1  1  6 10  1  6  1  1 ] mod 15 \n",
        "13 : [  1  2  3  4  5  6  7  8  9 10 11 12 13 14 ] mod 15 \n",
        "14 : [  1  4  9  1 10  6  4  4  6 10  1  9  4  1 ] mod 15 \n",
        "15 : [  1  8 12  4  5  6 13  2  9 10 11  3  7 14 ] mod 15 \n",
        "16 : [  1  1  6  1 10  6  1  1  6 10  1  6  1  1 ] mod 15 \n"
       ]
      }
     ],
     "prompt_number": 17
    },
    {
     "cell_type": "code",
     "collapsed": false,
     "input": [
      "phi = 10\n",
      "powertable(11,2*phi+1)"
     ],
     "language": "python",
     "metadata": {},
     "outputs": [
      {
       "output_type": "stream",
       "stream": "stdout",
       "text": [
        " 0 : [  1  1  1  1  1  1  1  1  1  1 ] mod 11 \n",
        " 1 : [  1  2  3  4  5  6  7  8  9 10 ] mod 11 \n",
        " 2 : [  1  4  9  5  3  3  5  9  4  1 ] mod 11 \n",
        " 3 : [  1  8  5  9  4  7  2  6  3 10 ] mod 11 \n",
        " 4 : [  1  5  4  3  9  9  3  4  5  1 ] mod 11 \n",
        " 5 : [  1 10  1  1  1 10 10 10  1 10 ] mod 11 \n",
        " 6 : [  1  9  3  4  5  5  4  3  9  1 ] mod 11 \n",
        " 7 : [  1  7  9  5  3  8  6  2  4 10 ] mod 11 \n",
        " 8 : [  1  3  5  9  4  4  9  5  3  1 ] mod 11 \n",
        " 9 : [  1  6  4  3  9  2  8  7  5 10 ] mod 11 \n",
        "10 : [  1  1  1  1  1  1  1  1  1  1 ] mod 11 \n",
        "11 : [  1  2  3  4  5  6  7  8  9 10 ] mod 11 \n",
        "12 : [  1  4  9  5  3  3  5  9  4  1 ] mod 11 \n",
        "13 : [  1  8  5  9  4  7  2  6  3 10 ] mod 11 \n",
        "14 : [  1  5  4  3  9  9  3  4  5  1 ] mod 11 \n",
        "15 : [  1 10  1  1  1 10 10 10  1 10 ] mod 11 \n",
        "16 : [  1  9  3  4  5  5  4  3  9  1 ] mod 11 \n",
        "17 : [  1  7  9  5  3  8  6  2  4 10 ] mod 11 \n",
        "18 : [  1  3  5  9  4  4  9  5  3  1 ] mod 11 \n",
        "19 : [  1  6  4  3  9  2  8  7  5 10 ] mod 11 \n",
        "20 : [  1  1  1  1  1  1  1  1  1  1 ] mod 11 \n"
       ]
      }
     ],
     "prompt_number": 18
    },
    {
     "cell_type": "code",
     "collapsed": false,
     "input": [],
     "language": "python",
     "metadata": {},
     "outputs": []
    }
   ],
   "metadata": {}
  }
 ]
}