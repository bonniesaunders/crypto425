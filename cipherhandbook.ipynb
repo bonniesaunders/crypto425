{
 "metadata": {
  "name": "",
  "signature": "sha256:f378def993eead258b8be3c1006471f6f26be53839ecf6c1ae8eadfc70e9e0e8"
 },
 "nbformat": 3,
 "nbformat_minor": 0,
 "worksheets": [
  {
   "cells": [
    {
     "cell_type": "code",
     "collapsed": false,
     "input": [
      "from ciphers425 import *\n",
      "from test import *"
     ],
     "language": "python",
     "metadata": {},
     "outputs": [],
     "prompt_number": 4
    },
    {
     "cell_type": "code",
     "collapsed": false,
     "input": [
      "C = Caesar(1)\n",
      "print C.decrypt(Message('B CVNCMJOH'))\n",
      "print C.decrypt(Message('XFMDPNF UP DSZQUPDMVC'))"
     ],
     "language": "python",
     "metadata": {},
     "outputs": [
      {
       "output_type": "stream",
       "stream": "stdout",
       "text": [
        "A BUMBLING\n",
        "WELCOME TO CRYPTOCLUB\n"
       ]
      }
     ],
     "prompt_number": 20
    },
    {
     "cell_type": "code",
     "collapsed": false,
     "input": [
      "C = Caesar(3)\n",
      "print C.encrypt(Message('HIDDEN'))\n",
      "print C.decrypt(Message('WUHDVXUH'))"
     ],
     "language": "python",
     "metadata": {},
     "outputs": [
      {
       "output_type": "stream",
       "stream": "stdout",
       "text": [
        "KLGGHQ\n",
        "TREASURE\n"
       ]
      }
     ],
     "prompt_number": 4
    },
    {
     "cell_type": "code",
     "collapsed": false,
     "input": [
      "C = Caesar(4)\n",
      "print C.encrypt(Message('SECRET'))\n",
      "print C.decrypt(Message('QIWWEKI'))\n",
      "print C.decrypt(Message('CSYV EKI'))"
     ],
     "language": "python",
     "metadata": {},
     "outputs": [
      {
       "output_type": "stream",
       "stream": "stdout",
       "text": [
        "WIGVIX\n",
        "MESSAGE\n",
        "YOUR AGE\n"
       ]
      }
     ],
     "prompt_number": 5
    },
    {
     "cell_type": "code",
     "collapsed": false,
     "input": [
      "C = Caesar(10)\n",
      "print C.decrypt(Message('BYYD LOOB'))"
     ],
     "language": "python",
     "metadata": {},
     "outputs": [
      {
       "output_type": "stream",
       "stream": "stdout",
       "text": [
        "ROOT BEER\n"
       ]
      }
     ],
     "prompt_number": 6
    },
    {
     "cell_type": "code",
     "collapsed": false,
     "input": [
      "C = Caesar(3)\n",
      "print C.encrypt(Message('TIGER'))\n",
      "print C.decrypt(Message('OLRQ'))"
     ],
     "language": "python",
     "metadata": {},
     "outputs": [
      {
       "output_type": "stream",
       "stream": "stdout",
       "text": [
        "WLJHU\n",
        "LION\n"
       ]
      }
     ],
     "prompt_number": 7
    },
    {
     "cell_type": "code",
     "collapsed": false,
     "input": [
      "C = Caesar(5)\n",
      "print C.encrypt(Message('WASHINGTON'))"
     ],
     "language": "python",
     "metadata": {},
     "outputs": [
      {
       "output_type": "stream",
       "stream": "stdout",
       "text": [
        "BFXMNSLYTS\n"
       ]
      }
     ],
     "prompt_number": 8
    },
    {
     "cell_type": "code",
     "collapsed": false,
     "input": [
      "C = Caesar(8)\n",
      "print C.decrypt(Message('EPIB BPM IVB MIBA'))"
     ],
     "language": "python",
     "metadata": {},
     "outputs": [
      {
       "output_type": "stream",
       "stream": "stdout",
       "text": [
        "WHAT THE ANT EATS\n"
       ]
      }
     ],
     "prompt_number": 10
    },
    {
     "cell_type": "code",
     "collapsed": false,
     "input": [
      "C = Caesar(7)\n",
      "print C.encrypt(Message('FEDORA'))"
     ],
     "language": "python",
     "metadata": {},
     "outputs": [
      {
       "output_type": "stream",
       "stream": "stdout",
       "text": [
        "MLKVYH\n"
       ]
      }
     ],
     "prompt_number": 12
    },
    {
     "cell_type": "code",
     "collapsed": false,
     "input": [
      "C = Caesar(23)\n",
      "print C.decrypt(Message('FQ JFDEQ ZOXZH RM'))"
     ],
     "language": "python",
     "metadata": {},
     "outputs": [
      {
       "output_type": "stream",
       "stream": "stdout",
       "text": [
        "IT MIGHT CRACK UP\n"
       ]
      }
     ],
     "prompt_number": 13
    },
    {
     "cell_type": "code",
     "collapsed": false,
     "input": [
      "C = Caesar(13)\n",
      "print C.decrypt(Message('N FANVYBE'))"
     ],
     "language": "python",
     "metadata": {},
     "outputs": [
      {
       "output_type": "stream",
       "stream": "stdout",
       "text": [
        "A SNAILOR\n"
       ]
      }
     ],
     "prompt_number": 14
    },
    {
     "cell_type": "code",
     "collapsed": false,
     "input": [
      "C = Caesar(12)\n",
      "print C.decrypt(Message('NQOMGEQ ETQ DMZ'))\n",
      "print C.decrypt(Message('MIMK RDAY FTQ NMXX'))"
     ],
     "language": "python",
     "metadata": {},
     "outputs": [
      {
       "output_type": "stream",
       "stream": "stdout",
       "text": [
        "BECAUSE SHE RAN\n",
        "AWAY FROM THE BALL\n"
       ]
      }
     ],
     "prompt_number": 16
    },
    {
     "cell_type": "code",
     "collapsed": false,
     "input": [
      "C = Caesar(25)\n",
      "print C.encrypt(Message('THE LETTER B'))"
     ],
     "language": "python",
     "metadata": {},
     "outputs": [
      {
       "output_type": "stream",
       "stream": "stdout",
       "text": [
        "SGD KDSSDQ A\n"
       ]
      }
     ],
     "prompt_number": 19
    },
    {
     "cell_type": "code",
     "collapsed": false,
     "input": [
      "A = AffineCipher(1,0)\n",
      "A.encrypt(Message('A BOA CONSTRICTOR')).to_integers()"
     ],
     "language": "python",
     "metadata": {},
     "outputs": [
      {
       "metadata": {},
       "output_type": "pyout",
       "prompt_number": 27,
       "text": [
        "[0, * *, 1, 14, 0, * *, 2, 14, 13, 18, 19, 17, 8, 2, 19, 14, 17]"
       ]
      }
     ],
     "prompt_number": 27
    },
    {
     "cell_type": "code",
     "collapsed": false,
     "input": [
      "M.to_letters([1,2,3])"
     ],
     "language": "python",
     "metadata": {},
     "outputs": [
      {
       "metadata": {},
       "output_type": "pyout",
       "prompt_number": 29,
       "text": [
        "'BCD'"
       ]
      }
     ],
     "prompt_number": 29
    },
    {
     "cell_type": "code",
     "collapsed": false,
     "input": [
      "A = AffineCipher(1,2)\n",
      "print Message('TO ENCRYPT, WE CHANGED').lower()\n",
      "print intstring(A.encrypt(Message('TO ENCRYPT, WE CHANGED')))\n",
      "print ('LETTERS TO NUMBERS').lower()\n",
      "print intstring(A.encrypt(Message('LETTERS TO NUMBERS')))\n",
      "print Message('AND ADDED TWO').lower()\n",
      "print intstring(A.encrypt(Message('AND ADDED TWO')))"
     ],
     "language": "python",
     "metadata": {},
     "outputs": [
      {
       "output_type": "stream",
       "stream": "stdout",
       "text": [
        "to encrypt, we changed\n",
        "21 16  06 15 04 19 00 17 21 , 24 06  04 09 02 15 08 06 05 \n",
        "letters to numbers\n",
        "13 06 21 21 06 19 20  21 16  15 22 14 03 06 19 20 \n",
        "and added two\n",
        "02 15 05  02 05 05 06 05  21 24 16 \n"
       ]
      }
     ],
     "prompt_number": 8
    },
    {
     "cell_type": "code",
     "collapsed": false,
     "input": [],
     "language": "python",
     "metadata": {},
     "outputs": []
    }
   ],
   "metadata": {}
  }
 ]
}